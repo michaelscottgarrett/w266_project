{
  "nbformat": 4,
  "nbformat_minor": 0,
  "metadata": {
    "colab": {
      "provenance": [],
      "machine_shape": "hm",
      "gpuType": "T4"
    },
    "kernelspec": {
      "name": "python3",
      "display_name": "Python 3"
    },
    "language_info": {
      "name": "python"
    },
    "accelerator": "GPU",
    "widgets": {
      "application/vnd.jupyter.widget-state+json": {
        "700a72d21b1e4de1912fd9e3391f170f": {
          "model_module": "@jupyter-widgets/controls",
          "model_name": "HBoxModel",
          "model_module_version": "1.5.0",
          "state": {
            "_dom_classes": [],
            "_model_module": "@jupyter-widgets/controls",
            "_model_module_version": "1.5.0",
            "_model_name": "HBoxModel",
            "_view_count": null,
            "_view_module": "@jupyter-widgets/controls",
            "_view_module_version": "1.5.0",
            "_view_name": "HBoxView",
            "box_style": "",
            "children": [
              "IPY_MODEL_2a3a6f00271145ec8adddff3b266e899",
              "IPY_MODEL_447633fd6d0f47198d26cc5c4b4b96b6",
              "IPY_MODEL_0c021ba3746842eab70bbbf4ec57204f"
            ],
            "layout": "IPY_MODEL_0c575deaa0b04254ba15ae4d229f0b4c"
          }
        },
        "2a3a6f00271145ec8adddff3b266e899": {
          "model_module": "@jupyter-widgets/controls",
          "model_name": "HTMLModel",
          "model_module_version": "1.5.0",
          "state": {
            "_dom_classes": [],
            "_model_module": "@jupyter-widgets/controls",
            "_model_module_version": "1.5.0",
            "_model_name": "HTMLModel",
            "_view_count": null,
            "_view_module": "@jupyter-widgets/controls",
            "_view_module_version": "1.5.0",
            "_view_name": "HTMLView",
            "description": "",
            "description_tooltip": null,
            "layout": "IPY_MODEL_e3e57bd7e0af46d892cff7350f73107a",
            "placeholder": "​",
            "style": "IPY_MODEL_ebc9831328fa4cdbb23957e369c90437",
            "value": "vocab.txt: 100%"
          }
        },
        "447633fd6d0f47198d26cc5c4b4b96b6": {
          "model_module": "@jupyter-widgets/controls",
          "model_name": "FloatProgressModel",
          "model_module_version": "1.5.0",
          "state": {
            "_dom_classes": [],
            "_model_module": "@jupyter-widgets/controls",
            "_model_module_version": "1.5.0",
            "_model_name": "FloatProgressModel",
            "_view_count": null,
            "_view_module": "@jupyter-widgets/controls",
            "_view_module_version": "1.5.0",
            "_view_name": "ProgressView",
            "bar_style": "success",
            "description": "",
            "description_tooltip": null,
            "layout": "IPY_MODEL_471e5ee374eb4b76acb43d9d457dc85a",
            "max": 378000,
            "min": 0,
            "orientation": "horizontal",
            "style": "IPY_MODEL_c8eeb6570454461a8f90f71e95ac0b50",
            "value": 378000
          }
        },
        "0c021ba3746842eab70bbbf4ec57204f": {
          "model_module": "@jupyter-widgets/controls",
          "model_name": "HTMLModel",
          "model_module_version": "1.5.0",
          "state": {
            "_dom_classes": [],
            "_model_module": "@jupyter-widgets/controls",
            "_model_module_version": "1.5.0",
            "_model_name": "HTMLModel",
            "_view_count": null,
            "_view_module": "@jupyter-widgets/controls",
            "_view_module_version": "1.5.0",
            "_view_name": "HTMLView",
            "description": "",
            "description_tooltip": null,
            "layout": "IPY_MODEL_b8ba5cd1940646d7975c20dffea13e39",
            "placeholder": "​",
            "style": "IPY_MODEL_8940253b6cf148de838b6dbadef7e634",
            "value": " 378k/378k [00:00&lt;00:00, 3.85MB/s]"
          }
        },
        "0c575deaa0b04254ba15ae4d229f0b4c": {
          "model_module": "@jupyter-widgets/base",
          "model_name": "LayoutModel",
          "model_module_version": "1.2.0",
          "state": {
            "_model_module": "@jupyter-widgets/base",
            "_model_module_version": "1.2.0",
            "_model_name": "LayoutModel",
            "_view_count": null,
            "_view_module": "@jupyter-widgets/base",
            "_view_module_version": "1.2.0",
            "_view_name": "LayoutView",
            "align_content": null,
            "align_items": null,
            "align_self": null,
            "border": null,
            "bottom": null,
            "display": null,
            "flex": null,
            "flex_flow": null,
            "grid_area": null,
            "grid_auto_columns": null,
            "grid_auto_flow": null,
            "grid_auto_rows": null,
            "grid_column": null,
            "grid_gap": null,
            "grid_row": null,
            "grid_template_areas": null,
            "grid_template_columns": null,
            "grid_template_rows": null,
            "height": null,
            "justify_content": null,
            "justify_items": null,
            "left": null,
            "margin": null,
            "max_height": null,
            "max_width": null,
            "min_height": null,
            "min_width": null,
            "object_fit": null,
            "object_position": null,
            "order": null,
            "overflow": null,
            "overflow_x": null,
            "overflow_y": null,
            "padding": null,
            "right": null,
            "top": null,
            "visibility": null,
            "width": null
          }
        },
        "e3e57bd7e0af46d892cff7350f73107a": {
          "model_module": "@jupyter-widgets/base",
          "model_name": "LayoutModel",
          "model_module_version": "1.2.0",
          "state": {
            "_model_module": "@jupyter-widgets/base",
            "_model_module_version": "1.2.0",
            "_model_name": "LayoutModel",
            "_view_count": null,
            "_view_module": "@jupyter-widgets/base",
            "_view_module_version": "1.2.0",
            "_view_name": "LayoutView",
            "align_content": null,
            "align_items": null,
            "align_self": null,
            "border": null,
            "bottom": null,
            "display": null,
            "flex": null,
            "flex_flow": null,
            "grid_area": null,
            "grid_auto_columns": null,
            "grid_auto_flow": null,
            "grid_auto_rows": null,
            "grid_column": null,
            "grid_gap": null,
            "grid_row": null,
            "grid_template_areas": null,
            "grid_template_columns": null,
            "grid_template_rows": null,
            "height": null,
            "justify_content": null,
            "justify_items": null,
            "left": null,
            "margin": null,
            "max_height": null,
            "max_width": null,
            "min_height": null,
            "min_width": null,
            "object_fit": null,
            "object_position": null,
            "order": null,
            "overflow": null,
            "overflow_x": null,
            "overflow_y": null,
            "padding": null,
            "right": null,
            "top": null,
            "visibility": null,
            "width": null
          }
        },
        "ebc9831328fa4cdbb23957e369c90437": {
          "model_module": "@jupyter-widgets/controls",
          "model_name": "DescriptionStyleModel",
          "model_module_version": "1.5.0",
          "state": {
            "_model_module": "@jupyter-widgets/controls",
            "_model_module_version": "1.5.0",
            "_model_name": "DescriptionStyleModel",
            "_view_count": null,
            "_view_module": "@jupyter-widgets/base",
            "_view_module_version": "1.2.0",
            "_view_name": "StyleView",
            "description_width": ""
          }
        },
        "471e5ee374eb4b76acb43d9d457dc85a": {
          "model_module": "@jupyter-widgets/base",
          "model_name": "LayoutModel",
          "model_module_version": "1.2.0",
          "state": {
            "_model_module": "@jupyter-widgets/base",
            "_model_module_version": "1.2.0",
            "_model_name": "LayoutModel",
            "_view_count": null,
            "_view_module": "@jupyter-widgets/base",
            "_view_module_version": "1.2.0",
            "_view_name": "LayoutView",
            "align_content": null,
            "align_items": null,
            "align_self": null,
            "border": null,
            "bottom": null,
            "display": null,
            "flex": null,
            "flex_flow": null,
            "grid_area": null,
            "grid_auto_columns": null,
            "grid_auto_flow": null,
            "grid_auto_rows": null,
            "grid_column": null,
            "grid_gap": null,
            "grid_row": null,
            "grid_template_areas": null,
            "grid_template_columns": null,
            "grid_template_rows": null,
            "height": null,
            "justify_content": null,
            "justify_items": null,
            "left": null,
            "margin": null,
            "max_height": null,
            "max_width": null,
            "min_height": null,
            "min_width": null,
            "object_fit": null,
            "object_position": null,
            "order": null,
            "overflow": null,
            "overflow_x": null,
            "overflow_y": null,
            "padding": null,
            "right": null,
            "top": null,
            "visibility": null,
            "width": null
          }
        },
        "c8eeb6570454461a8f90f71e95ac0b50": {
          "model_module": "@jupyter-widgets/controls",
          "model_name": "ProgressStyleModel",
          "model_module_version": "1.5.0",
          "state": {
            "_model_module": "@jupyter-widgets/controls",
            "_model_module_version": "1.5.0",
            "_model_name": "ProgressStyleModel",
            "_view_count": null,
            "_view_module": "@jupyter-widgets/base",
            "_view_module_version": "1.2.0",
            "_view_name": "StyleView",
            "bar_color": null,
            "description_width": ""
          }
        },
        "b8ba5cd1940646d7975c20dffea13e39": {
          "model_module": "@jupyter-widgets/base",
          "model_name": "LayoutModel",
          "model_module_version": "1.2.0",
          "state": {
            "_model_module": "@jupyter-widgets/base",
            "_model_module_version": "1.2.0",
            "_model_name": "LayoutModel",
            "_view_count": null,
            "_view_module": "@jupyter-widgets/base",
            "_view_module_version": "1.2.0",
            "_view_name": "LayoutView",
            "align_content": null,
            "align_items": null,
            "align_self": null,
            "border": null,
            "bottom": null,
            "display": null,
            "flex": null,
            "flex_flow": null,
            "grid_area": null,
            "grid_auto_columns": null,
            "grid_auto_flow": null,
            "grid_auto_rows": null,
            "grid_column": null,
            "grid_gap": null,
            "grid_row": null,
            "grid_template_areas": null,
            "grid_template_columns": null,
            "grid_template_rows": null,
            "height": null,
            "justify_content": null,
            "justify_items": null,
            "left": null,
            "margin": null,
            "max_height": null,
            "max_width": null,
            "min_height": null,
            "min_width": null,
            "object_fit": null,
            "object_position": null,
            "order": null,
            "overflow": null,
            "overflow_x": null,
            "overflow_y": null,
            "padding": null,
            "right": null,
            "top": null,
            "visibility": null,
            "width": null
          }
        },
        "8940253b6cf148de838b6dbadef7e634": {
          "model_module": "@jupyter-widgets/controls",
          "model_name": "DescriptionStyleModel",
          "model_module_version": "1.5.0",
          "state": {
            "_model_module": "@jupyter-widgets/controls",
            "_model_module_version": "1.5.0",
            "_model_name": "DescriptionStyleModel",
            "_view_count": null,
            "_view_module": "@jupyter-widgets/base",
            "_view_module_version": "1.2.0",
            "_view_name": "StyleView",
            "description_width": ""
          }
        },
        "0d6ecf886522433da4abe2617f8e16fb": {
          "model_module": "@jupyter-widgets/controls",
          "model_name": "HBoxModel",
          "model_module_version": "1.5.0",
          "state": {
            "_dom_classes": [],
            "_model_module": "@jupyter-widgets/controls",
            "_model_module_version": "1.5.0",
            "_model_name": "HBoxModel",
            "_view_count": null,
            "_view_module": "@jupyter-widgets/controls",
            "_view_module_version": "1.5.0",
            "_view_name": "HBoxView",
            "box_style": "",
            "children": [
              "IPY_MODEL_da434af2961f4289af359660d029efd1",
              "IPY_MODEL_cfb5cf8c005149a0864f80873868613a",
              "IPY_MODEL_b4ddcdcdd9204fa28f0982fd78efa6de"
            ],
            "layout": "IPY_MODEL_8708635731394f8b8e19f29d05ed0dd5"
          }
        },
        "da434af2961f4289af359660d029efd1": {
          "model_module": "@jupyter-widgets/controls",
          "model_name": "HTMLModel",
          "model_module_version": "1.5.0",
          "state": {
            "_dom_classes": [],
            "_model_module": "@jupyter-widgets/controls",
            "_model_module_version": "1.5.0",
            "_model_name": "HTMLModel",
            "_view_count": null,
            "_view_module": "@jupyter-widgets/controls",
            "_view_module_version": "1.5.0",
            "_view_name": "HTMLView",
            "description": "",
            "description_tooltip": null,
            "layout": "IPY_MODEL_6c3ff660028b48a8a2e294f154c139c4",
            "placeholder": "​",
            "style": "IPY_MODEL_46af728934e24f2b9d1d7962cb9eaa2b",
            "value": "config.json: 100%"
          }
        },
        "cfb5cf8c005149a0864f80873868613a": {
          "model_module": "@jupyter-widgets/controls",
          "model_name": "FloatProgressModel",
          "model_module_version": "1.5.0",
          "state": {
            "_dom_classes": [],
            "_model_module": "@jupyter-widgets/controls",
            "_model_module_version": "1.5.0",
            "_model_name": "FloatProgressModel",
            "_view_count": null,
            "_view_module": "@jupyter-widgets/controls",
            "_view_module_version": "1.5.0",
            "_view_name": "ProgressView",
            "bar_style": "success",
            "description": "",
            "description_tooltip": null,
            "layout": "IPY_MODEL_d775958276b74c59accda8fc352d3915",
            "max": 467,
            "min": 0,
            "orientation": "horizontal",
            "style": "IPY_MODEL_22959211af43472e98828eaeec344892",
            "value": 467
          }
        },
        "b4ddcdcdd9204fa28f0982fd78efa6de": {
          "model_module": "@jupyter-widgets/controls",
          "model_name": "HTMLModel",
          "model_module_version": "1.5.0",
          "state": {
            "_dom_classes": [],
            "_model_module": "@jupyter-widgets/controls",
            "_model_module_version": "1.5.0",
            "_model_name": "HTMLModel",
            "_view_count": null,
            "_view_module": "@jupyter-widgets/controls",
            "_view_module_version": "1.5.0",
            "_view_name": "HTMLView",
            "description": "",
            "description_tooltip": null,
            "layout": "IPY_MODEL_835dc86994574cb4afcf3f227f0da20a",
            "placeholder": "​",
            "style": "IPY_MODEL_845ffdf7af9c45d38e1dea8005f3bd94",
            "value": " 467/467 [00:00&lt;00:00, 21.4kB/s]"
          }
        },
        "8708635731394f8b8e19f29d05ed0dd5": {
          "model_module": "@jupyter-widgets/base",
          "model_name": "LayoutModel",
          "model_module_version": "1.2.0",
          "state": {
            "_model_module": "@jupyter-widgets/base",
            "_model_module_version": "1.2.0",
            "_model_name": "LayoutModel",
            "_view_count": null,
            "_view_module": "@jupyter-widgets/base",
            "_view_module_version": "1.2.0",
            "_view_name": "LayoutView",
            "align_content": null,
            "align_items": null,
            "align_self": null,
            "border": null,
            "bottom": null,
            "display": null,
            "flex": null,
            "flex_flow": null,
            "grid_area": null,
            "grid_auto_columns": null,
            "grid_auto_flow": null,
            "grid_auto_rows": null,
            "grid_column": null,
            "grid_gap": null,
            "grid_row": null,
            "grid_template_areas": null,
            "grid_template_columns": null,
            "grid_template_rows": null,
            "height": null,
            "justify_content": null,
            "justify_items": null,
            "left": null,
            "margin": null,
            "max_height": null,
            "max_width": null,
            "min_height": null,
            "min_width": null,
            "object_fit": null,
            "object_position": null,
            "order": null,
            "overflow": null,
            "overflow_x": null,
            "overflow_y": null,
            "padding": null,
            "right": null,
            "top": null,
            "visibility": null,
            "width": null
          }
        },
        "6c3ff660028b48a8a2e294f154c139c4": {
          "model_module": "@jupyter-widgets/base",
          "model_name": "LayoutModel",
          "model_module_version": "1.2.0",
          "state": {
            "_model_module": "@jupyter-widgets/base",
            "_model_module_version": "1.2.0",
            "_model_name": "LayoutModel",
            "_view_count": null,
            "_view_module": "@jupyter-widgets/base",
            "_view_module_version": "1.2.0",
            "_view_name": "LayoutView",
            "align_content": null,
            "align_items": null,
            "align_self": null,
            "border": null,
            "bottom": null,
            "display": null,
            "flex": null,
            "flex_flow": null,
            "grid_area": null,
            "grid_auto_columns": null,
            "grid_auto_flow": null,
            "grid_auto_rows": null,
            "grid_column": null,
            "grid_gap": null,
            "grid_row": null,
            "grid_template_areas": null,
            "grid_template_columns": null,
            "grid_template_rows": null,
            "height": null,
            "justify_content": null,
            "justify_items": null,
            "left": null,
            "margin": null,
            "max_height": null,
            "max_width": null,
            "min_height": null,
            "min_width": null,
            "object_fit": null,
            "object_position": null,
            "order": null,
            "overflow": null,
            "overflow_x": null,
            "overflow_y": null,
            "padding": null,
            "right": null,
            "top": null,
            "visibility": null,
            "width": null
          }
        },
        "46af728934e24f2b9d1d7962cb9eaa2b": {
          "model_module": "@jupyter-widgets/controls",
          "model_name": "DescriptionStyleModel",
          "model_module_version": "1.5.0",
          "state": {
            "_model_module": "@jupyter-widgets/controls",
            "_model_module_version": "1.5.0",
            "_model_name": "DescriptionStyleModel",
            "_view_count": null,
            "_view_module": "@jupyter-widgets/base",
            "_view_module_version": "1.2.0",
            "_view_name": "StyleView",
            "description_width": ""
          }
        },
        "d775958276b74c59accda8fc352d3915": {
          "model_module": "@jupyter-widgets/base",
          "model_name": "LayoutModel",
          "model_module_version": "1.2.0",
          "state": {
            "_model_module": "@jupyter-widgets/base",
            "_model_module_version": "1.2.0",
            "_model_name": "LayoutModel",
            "_view_count": null,
            "_view_module": "@jupyter-widgets/base",
            "_view_module_version": "1.2.0",
            "_view_name": "LayoutView",
            "align_content": null,
            "align_items": null,
            "align_self": null,
            "border": null,
            "bottom": null,
            "display": null,
            "flex": null,
            "flex_flow": null,
            "grid_area": null,
            "grid_auto_columns": null,
            "grid_auto_flow": null,
            "grid_auto_rows": null,
            "grid_column": null,
            "grid_gap": null,
            "grid_row": null,
            "grid_template_areas": null,
            "grid_template_columns": null,
            "grid_template_rows": null,
            "height": null,
            "justify_content": null,
            "justify_items": null,
            "left": null,
            "margin": null,
            "max_height": null,
            "max_width": null,
            "min_height": null,
            "min_width": null,
            "object_fit": null,
            "object_position": null,
            "order": null,
            "overflow": null,
            "overflow_x": null,
            "overflow_y": null,
            "padding": null,
            "right": null,
            "top": null,
            "visibility": null,
            "width": null
          }
        },
        "22959211af43472e98828eaeec344892": {
          "model_module": "@jupyter-widgets/controls",
          "model_name": "ProgressStyleModel",
          "model_module_version": "1.5.0",
          "state": {
            "_model_module": "@jupyter-widgets/controls",
            "_model_module_version": "1.5.0",
            "_model_name": "ProgressStyleModel",
            "_view_count": null,
            "_view_module": "@jupyter-widgets/base",
            "_view_module_version": "1.2.0",
            "_view_name": "StyleView",
            "bar_color": null,
            "description_width": ""
          }
        },
        "835dc86994574cb4afcf3f227f0da20a": {
          "model_module": "@jupyter-widgets/base",
          "model_name": "LayoutModel",
          "model_module_version": "1.2.0",
          "state": {
            "_model_module": "@jupyter-widgets/base",
            "_model_module_version": "1.2.0",
            "_model_name": "LayoutModel",
            "_view_count": null,
            "_view_module": "@jupyter-widgets/base",
            "_view_module_version": "1.2.0",
            "_view_name": "LayoutView",
            "align_content": null,
            "align_items": null,
            "align_self": null,
            "border": null,
            "bottom": null,
            "display": null,
            "flex": null,
            "flex_flow": null,
            "grid_area": null,
            "grid_auto_columns": null,
            "grid_auto_flow": null,
            "grid_auto_rows": null,
            "grid_column": null,
            "grid_gap": null,
            "grid_row": null,
            "grid_template_areas": null,
            "grid_template_columns": null,
            "grid_template_rows": null,
            "height": null,
            "justify_content": null,
            "justify_items": null,
            "left": null,
            "margin": null,
            "max_height": null,
            "max_width": null,
            "min_height": null,
            "min_width": null,
            "object_fit": null,
            "object_position": null,
            "order": null,
            "overflow": null,
            "overflow_x": null,
            "overflow_y": null,
            "padding": null,
            "right": null,
            "top": null,
            "visibility": null,
            "width": null
          }
        },
        "845ffdf7af9c45d38e1dea8005f3bd94": {
          "model_module": "@jupyter-widgets/controls",
          "model_name": "DescriptionStyleModel",
          "model_module_version": "1.5.0",
          "state": {
            "_model_module": "@jupyter-widgets/controls",
            "_model_module_version": "1.5.0",
            "_model_name": "DescriptionStyleModel",
            "_view_count": null,
            "_view_module": "@jupyter-widgets/base",
            "_view_module_version": "1.2.0",
            "_view_name": "StyleView",
            "description_width": ""
          }
        },
        "4d22660049054b958fd3a1a6b529af1f": {
          "model_module": "@jupyter-widgets/controls",
          "model_name": "HBoxModel",
          "model_module_version": "1.5.0",
          "state": {
            "_dom_classes": [],
            "_model_module": "@jupyter-widgets/controls",
            "_model_module_version": "1.5.0",
            "_model_name": "HBoxModel",
            "_view_count": null,
            "_view_module": "@jupyter-widgets/controls",
            "_view_module_version": "1.5.0",
            "_view_name": "HBoxView",
            "box_style": "",
            "children": [
              "IPY_MODEL_2cf9500dbac84d7ab66f38fba7331a87",
              "IPY_MODEL_a7ec8d1a0e064281b08e6d8a1a88da99",
              "IPY_MODEL_db9da185ce344e749c14dc20799e297c"
            ],
            "layout": "IPY_MODEL_bdabca4adaf74d2d8fd86fd53120dda5"
          }
        },
        "2cf9500dbac84d7ab66f38fba7331a87": {
          "model_module": "@jupyter-widgets/controls",
          "model_name": "HTMLModel",
          "model_module_version": "1.5.0",
          "state": {
            "_dom_classes": [],
            "_model_module": "@jupyter-widgets/controls",
            "_model_module_version": "1.5.0",
            "_model_name": "HTMLModel",
            "_view_count": null,
            "_view_module": "@jupyter-widgets/controls",
            "_view_module_version": "1.5.0",
            "_view_name": "HTMLView",
            "description": "",
            "description_tooltip": null,
            "layout": "IPY_MODEL_b8433adc939944f1b7cfb52b30bf69a0",
            "placeholder": "​",
            "style": "IPY_MODEL_1f272e9baf65486196bcef7139d5395e",
            "value": "model.safetensors: 100%"
          }
        },
        "a7ec8d1a0e064281b08e6d8a1a88da99": {
          "model_module": "@jupyter-widgets/controls",
          "model_name": "FloatProgressModel",
          "model_module_version": "1.5.0",
          "state": {
            "_dom_classes": [],
            "_model_module": "@jupyter-widgets/controls",
            "_model_module_version": "1.5.0",
            "_model_name": "FloatProgressModel",
            "_view_count": null,
            "_view_module": "@jupyter-widgets/controls",
            "_view_module_version": "1.5.0",
            "_view_name": "ProgressView",
            "bar_style": "success",
            "description": "",
            "description_tooltip": null,
            "layout": "IPY_MODEL_c679b437695f43f7a77de7843ebdc3c3",
            "max": 336396808,
            "min": 0,
            "orientation": "horizontal",
            "style": "IPY_MODEL_469e035285014973884115d6e6ac2fd1",
            "value": 336396808
          }
        },
        "db9da185ce344e749c14dc20799e297c": {
          "model_module": "@jupyter-widgets/controls",
          "model_name": "HTMLModel",
          "model_module_version": "1.5.0",
          "state": {
            "_dom_classes": [],
            "_model_module": "@jupyter-widgets/controls",
            "_model_module_version": "1.5.0",
            "_model_name": "HTMLModel",
            "_view_count": null,
            "_view_module": "@jupyter-widgets/controls",
            "_view_module_version": "1.5.0",
            "_view_name": "HTMLView",
            "description": "",
            "description_tooltip": null,
            "layout": "IPY_MODEL_fee115751f0b42759e6b70eccf869d8a",
            "placeholder": "​",
            "style": "IPY_MODEL_e41ce2dd109146a7a3f98a2d4c50599c",
            "value": " 336M/336M [00:05&lt;00:00, 67.9MB/s]"
          }
        },
        "bdabca4adaf74d2d8fd86fd53120dda5": {
          "model_module": "@jupyter-widgets/base",
          "model_name": "LayoutModel",
          "model_module_version": "1.2.0",
          "state": {
            "_model_module": "@jupyter-widgets/base",
            "_model_module_version": "1.2.0",
            "_model_name": "LayoutModel",
            "_view_count": null,
            "_view_module": "@jupyter-widgets/base",
            "_view_module_version": "1.2.0",
            "_view_name": "LayoutView",
            "align_content": null,
            "align_items": null,
            "align_self": null,
            "border": null,
            "bottom": null,
            "display": null,
            "flex": null,
            "flex_flow": null,
            "grid_area": null,
            "grid_auto_columns": null,
            "grid_auto_flow": null,
            "grid_auto_rows": null,
            "grid_column": null,
            "grid_gap": null,
            "grid_row": null,
            "grid_template_areas": null,
            "grid_template_columns": null,
            "grid_template_rows": null,
            "height": null,
            "justify_content": null,
            "justify_items": null,
            "left": null,
            "margin": null,
            "max_height": null,
            "max_width": null,
            "min_height": null,
            "min_width": null,
            "object_fit": null,
            "object_position": null,
            "order": null,
            "overflow": null,
            "overflow_x": null,
            "overflow_y": null,
            "padding": null,
            "right": null,
            "top": null,
            "visibility": null,
            "width": null
          }
        },
        "b8433adc939944f1b7cfb52b30bf69a0": {
          "model_module": "@jupyter-widgets/base",
          "model_name": "LayoutModel",
          "model_module_version": "1.2.0",
          "state": {
            "_model_module": "@jupyter-widgets/base",
            "_model_module_version": "1.2.0",
            "_model_name": "LayoutModel",
            "_view_count": null,
            "_view_module": "@jupyter-widgets/base",
            "_view_module_version": "1.2.0",
            "_view_name": "LayoutView",
            "align_content": null,
            "align_items": null,
            "align_self": null,
            "border": null,
            "bottom": null,
            "display": null,
            "flex": null,
            "flex_flow": null,
            "grid_area": null,
            "grid_auto_columns": null,
            "grid_auto_flow": null,
            "grid_auto_rows": null,
            "grid_column": null,
            "grid_gap": null,
            "grid_row": null,
            "grid_template_areas": null,
            "grid_template_columns": null,
            "grid_template_rows": null,
            "height": null,
            "justify_content": null,
            "justify_items": null,
            "left": null,
            "margin": null,
            "max_height": null,
            "max_width": null,
            "min_height": null,
            "min_width": null,
            "object_fit": null,
            "object_position": null,
            "order": null,
            "overflow": null,
            "overflow_x": null,
            "overflow_y": null,
            "padding": null,
            "right": null,
            "top": null,
            "visibility": null,
            "width": null
          }
        },
        "1f272e9baf65486196bcef7139d5395e": {
          "model_module": "@jupyter-widgets/controls",
          "model_name": "DescriptionStyleModel",
          "model_module_version": "1.5.0",
          "state": {
            "_model_module": "@jupyter-widgets/controls",
            "_model_module_version": "1.5.0",
            "_model_name": "DescriptionStyleModel",
            "_view_count": null,
            "_view_module": "@jupyter-widgets/base",
            "_view_module_version": "1.2.0",
            "_view_name": "StyleView",
            "description_width": ""
          }
        },
        "c679b437695f43f7a77de7843ebdc3c3": {
          "model_module": "@jupyter-widgets/base",
          "model_name": "LayoutModel",
          "model_module_version": "1.2.0",
          "state": {
            "_model_module": "@jupyter-widgets/base",
            "_model_module_version": "1.2.0",
            "_model_name": "LayoutModel",
            "_view_count": null,
            "_view_module": "@jupyter-widgets/base",
            "_view_module_version": "1.2.0",
            "_view_name": "LayoutView",
            "align_content": null,
            "align_items": null,
            "align_self": null,
            "border": null,
            "bottom": null,
            "display": null,
            "flex": null,
            "flex_flow": null,
            "grid_area": null,
            "grid_auto_columns": null,
            "grid_auto_flow": null,
            "grid_auto_rows": null,
            "grid_column": null,
            "grid_gap": null,
            "grid_row": null,
            "grid_template_areas": null,
            "grid_template_columns": null,
            "grid_template_rows": null,
            "height": null,
            "justify_content": null,
            "justify_items": null,
            "left": null,
            "margin": null,
            "max_height": null,
            "max_width": null,
            "min_height": null,
            "min_width": null,
            "object_fit": null,
            "object_position": null,
            "order": null,
            "overflow": null,
            "overflow_x": null,
            "overflow_y": null,
            "padding": null,
            "right": null,
            "top": null,
            "visibility": null,
            "width": null
          }
        },
        "469e035285014973884115d6e6ac2fd1": {
          "model_module": "@jupyter-widgets/controls",
          "model_name": "ProgressStyleModel",
          "model_module_version": "1.5.0",
          "state": {
            "_model_module": "@jupyter-widgets/controls",
            "_model_module_version": "1.5.0",
            "_model_name": "ProgressStyleModel",
            "_view_count": null,
            "_view_module": "@jupyter-widgets/base",
            "_view_module_version": "1.2.0",
            "_view_name": "StyleView",
            "bar_color": null,
            "description_width": ""
          }
        },
        "fee115751f0b42759e6b70eccf869d8a": {
          "model_module": "@jupyter-widgets/base",
          "model_name": "LayoutModel",
          "model_module_version": "1.2.0",
          "state": {
            "_model_module": "@jupyter-widgets/base",
            "_model_module_version": "1.2.0",
            "_model_name": "LayoutModel",
            "_view_count": null,
            "_view_module": "@jupyter-widgets/base",
            "_view_module_version": "1.2.0",
            "_view_name": "LayoutView",
            "align_content": null,
            "align_items": null,
            "align_self": null,
            "border": null,
            "bottom": null,
            "display": null,
            "flex": null,
            "flex_flow": null,
            "grid_area": null,
            "grid_auto_columns": null,
            "grid_auto_flow": null,
            "grid_auto_rows": null,
            "grid_column": null,
            "grid_gap": null,
            "grid_row": null,
            "grid_template_areas": null,
            "grid_template_columns": null,
            "grid_template_rows": null,
            "height": null,
            "justify_content": null,
            "justify_items": null,
            "left": null,
            "margin": null,
            "max_height": null,
            "max_width": null,
            "min_height": null,
            "min_width": null,
            "object_fit": null,
            "object_position": null,
            "order": null,
            "overflow": null,
            "overflow_x": null,
            "overflow_y": null,
            "padding": null,
            "right": null,
            "top": null,
            "visibility": null,
            "width": null
          }
        },
        "e41ce2dd109146a7a3f98a2d4c50599c": {
          "model_module": "@jupyter-widgets/controls",
          "model_name": "DescriptionStyleModel",
          "model_module_version": "1.5.0",
          "state": {
            "_model_module": "@jupyter-widgets/controls",
            "_model_module_version": "1.5.0",
            "_model_name": "DescriptionStyleModel",
            "_view_count": null,
            "_view_module": "@jupyter-widgets/base",
            "_view_module_version": "1.2.0",
            "_view_name": "StyleView",
            "description_width": ""
          }
        }
      }
    }
  },
  "cells": [
    {
      "cell_type": "markdown",
      "source": [
        "# secBERT Model\n",
        "This notebook contains the PyTorch code to fine-tune the pretrained secBERT model. This model was trained on the following corpora:\n",
        "\n",
        "* [APTnotes](https://github.com/kbandla/APTnotes)\n",
        "\n",
        "* [Stucco-Data: Cyber security data sources](https://stucco.github.io/data/)\n",
        "\n",
        "* [CASIE: Extracting Cybersecurity Event Information from Text](https://ebiquity.umbc.edu/_file_directory_/papers/943.pdf)\n",
        "\n",
        "* [SemEval-2018 Task 8: Semantic Extraction from CybersecUrity REports using Natural Language Processing (SecureNLP)](https://competitions.codalab.org/competitions/17262)"
      ],
      "metadata": {
        "id": "drsrgbgTZxCH"
      }
    },
    {
      "cell_type": "code",
      "execution_count": null,
      "metadata": {
        "id": "w1mn5kkuXj1e",
        "colab": {
          "base_uri": "https://localhost:8080/"
        },
        "outputId": "758ca8a2-7d37-4c00-d528-0523c250c323"
      },
      "outputs": [
        {
          "output_type": "stream",
          "name": "stdout",
          "text": [
            "Versions of Imports\n",
            "-------------------\n",
            "Numpy: \t\t1.26.4\n",
            "Pandas: \t2.1.4\n",
            "PyTorch: \t2.3.1+cu121\n"
          ]
        }
      ],
      "source": [
        "print(\"Versions of Imports\")\n",
        "print(\"-------------------\")\n",
        "\n",
        "# Data Analysis\n",
        "import numpy as np\n",
        "print(f'Numpy: \\t\\t{np.__version__}')\n",
        "import pandas as pd\n",
        "print(f'Pandas: \\t{pd.__version__}')\n",
        "\n",
        "# PyTorch\n",
        "import torch\n",
        "print(f'PyTorch: \\t{torch.__version__}')\n",
        "import torch.nn as nn\n",
        "from torch.optim import AdamW\n",
        "from torch.utils.data import Dataset\n",
        "from torch.utils.data import DataLoader\n",
        "\n",
        "# Scikit-Learn\n",
        "from sklearn.preprocessing import LabelEncoder\n",
        "from sklearn.metrics import classification_report\n",
        "from sklearn.metrics import confusion_matrix\n",
        "\n",
        "# Visualization\n",
        "import matplotlib.pyplot as plt\n",
        "import seaborn as sns\n",
        "\n",
        "# HuggingFace\n",
        "from transformers import BertTokenizer, BertForSequenceClassification\n",
        "\n",
        "# Utility\n",
        "from tqdm import tqdm\n",
        "\n",
        "# Google Colab\n",
        "from google.colab import drive"
      ]
    },
    {
      "cell_type": "code",
      "source": [
        "drive.mount('/content/drive')\n",
        "file_path = '/content/drive/MyDrive/Colab Notebooks/'\n",
        "train_df = pd.read_csv(file_path + 'train_df.csv')\n",
        "val_df = pd.read_csv(file_path + 'val_df.csv')\n",
        "test_df = pd.read_csv(file_path + 'test_df.csv')"
      ],
      "metadata": {
        "id": "NvRzrUI_YMhA",
        "colab": {
          "base_uri": "https://localhost:8080/"
        },
        "outputId": "89e826e4-1357-460c-dd2a-7c75c9f75f96"
      },
      "execution_count": null,
      "outputs": [
        {
          "output_type": "stream",
          "name": "stdout",
          "text": [
            "Mounted at /content/drive\n"
          ]
        }
      ]
    },
    {
      "cell_type": "code",
      "source": [
        "print(train_df.head())\n",
        "print(val_df.head())\n",
        "print(test_df.head())"
      ],
      "metadata": {
        "id": "beqLfv2eYOwf",
        "colab": {
          "base_uri": "https://localhost:8080/"
        },
        "outputId": "cd264a7f-f69e-4e69-bcbf-1c75be9cf4a0"
      },
      "execution_count": null,
      "outputs": [
        {
          "output_type": "stream",
          "name": "stdout",
          "text": [
            "                                                text labels\n",
            "0  Penquin can encrypt communications using the B...  T1573\n",
            "1  Kimsuky to used modified versions of open sour...  T1505\n",
            "2  FatDuke can use base64 encoding, string stacki...  T1027\n",
            "3  Files and folders that start with a default, ‘...  T1564\n",
            "4  LookBack’s C2 proxy tool sends data to a C2 se...  T1071\n",
            "                                                text labels\n",
            "0  The Azure CLI  also provides an interface to o...  T1087\n",
            "1  Proc memory injection is commonly performed by...  T1055\n",
            "2  SpicyOmelette has collected data and other inf...  T1005\n",
            "3  After Comnie has been copied to the %TEMP% dir...  T1074\n",
            "4  Kernel extensions, also called kext, are used ...  T1547\n",
            "                                                text labels\n",
            "0  Sandworm Team has event logging on compromised...  T1562\n",
            "1  Background From October 2012 to May 2014, Fire...  T1071\n",
            "2  The trap command allows programs and shells to...  T1546\n",
            "3             APT37 obfuscates strings and payloads.  T1027\n",
            "4                                           winlogon  T1547\n"
          ]
        }
      ]
    },
    {
      "cell_type": "markdown",
      "source": [
        "## Hyperparameters\n",
        "This block of code mimics MITRE's TRAM hyperparameters. The learning rate, number of epochs, batch size and max sequence length all match their hyperparameters. The number of classes is slightly reduced from their number of 50 classes. This is a result of the dataset I found on HuggingFace."
      ],
      "metadata": {
        "id": "ZAbGIpOINuNy"
      }
    },
    {
      "cell_type": "code",
      "source": [
        "model_name = 'jackaduma/SecBERT'\n",
        "num_labels = 44\n",
        "max_length = 512\n",
        "batch_size = 10\n",
        "epochs = 5\n",
        "learning_rate = 2e-5"
      ],
      "metadata": {
        "id": "lXNIQX-9YuTe"
      },
      "execution_count": null,
      "outputs": []
    },
    {
      "cell_type": "markdown",
      "source": [
        "## Model Architecture\n",
        "MITRE used the BertForSequenceClassification which is a HuggingFace transformer that includes a classification head (softmax) on top of a pooled output layer. This simplifies the creation of the model and accomplishes the downstream task of performing multiclass classification. All that is needed is the model name and the number of classes which in the case of this experiment is 44."
      ],
      "metadata": {
        "id": "Z0Bg_xYIOCjB"
      }
    },
    {
      "cell_type": "code",
      "source": [
        "tokenizer = BertTokenizer.from_pretrained(model_name)\n",
        "model = BertForSequenceClassification.from_pretrained(model_name,\n",
        "                                                      num_labels=num_labels)"
      ],
      "metadata": {
        "id": "AuA-dsfgYS0_",
        "colab": {
          "base_uri": "https://localhost:8080/",
          "height": 168,
          "referenced_widgets": [
            "700a72d21b1e4de1912fd9e3391f170f",
            "2a3a6f00271145ec8adddff3b266e899",
            "447633fd6d0f47198d26cc5c4b4b96b6",
            "0c021ba3746842eab70bbbf4ec57204f",
            "0c575deaa0b04254ba15ae4d229f0b4c",
            "e3e57bd7e0af46d892cff7350f73107a",
            "ebc9831328fa4cdbb23957e369c90437",
            "471e5ee374eb4b76acb43d9d457dc85a",
            "c8eeb6570454461a8f90f71e95ac0b50",
            "b8ba5cd1940646d7975c20dffea13e39",
            "8940253b6cf148de838b6dbadef7e634",
            "0d6ecf886522433da4abe2617f8e16fb",
            "da434af2961f4289af359660d029efd1",
            "cfb5cf8c005149a0864f80873868613a",
            "b4ddcdcdd9204fa28f0982fd78efa6de",
            "8708635731394f8b8e19f29d05ed0dd5",
            "6c3ff660028b48a8a2e294f154c139c4",
            "46af728934e24f2b9d1d7962cb9eaa2b",
            "d775958276b74c59accda8fc352d3915",
            "22959211af43472e98828eaeec344892",
            "835dc86994574cb4afcf3f227f0da20a",
            "845ffdf7af9c45d38e1dea8005f3bd94",
            "4d22660049054b958fd3a1a6b529af1f",
            "2cf9500dbac84d7ab66f38fba7331a87",
            "a7ec8d1a0e064281b08e6d8a1a88da99",
            "db9da185ce344e749c14dc20799e297c",
            "bdabca4adaf74d2d8fd86fd53120dda5",
            "b8433adc939944f1b7cfb52b30bf69a0",
            "1f272e9baf65486196bcef7139d5395e",
            "c679b437695f43f7a77de7843ebdc3c3",
            "469e035285014973884115d6e6ac2fd1",
            "fee115751f0b42759e6b70eccf869d8a",
            "e41ce2dd109146a7a3f98a2d4c50599c"
          ]
        },
        "outputId": "1463d7b3-b26e-4194-ab9c-732dd641070d"
      },
      "execution_count": null,
      "outputs": [
        {
          "output_type": "display_data",
          "data": {
            "text/plain": [
              "vocab.txt:   0%|          | 0.00/378k [00:00<?, ?B/s]"
            ],
            "application/vnd.jupyter.widget-view+json": {
              "version_major": 2,
              "version_minor": 0,
              "model_id": "700a72d21b1e4de1912fd9e3391f170f"
            }
          },
          "metadata": {}
        },
        {
          "output_type": "display_data",
          "data": {
            "text/plain": [
              "config.json:   0%|          | 0.00/467 [00:00<?, ?B/s]"
            ],
            "application/vnd.jupyter.widget-view+json": {
              "version_major": 2,
              "version_minor": 0,
              "model_id": "0d6ecf886522433da4abe2617f8e16fb"
            }
          },
          "metadata": {}
        },
        {
          "output_type": "display_data",
          "data": {
            "text/plain": [
              "model.safetensors:   0%|          | 0.00/336M [00:00<?, ?B/s]"
            ],
            "application/vnd.jupyter.widget-view+json": {
              "version_major": 2,
              "version_minor": 0,
              "model_id": "4d22660049054b958fd3a1a6b529af1f"
            }
          },
          "metadata": {}
        },
        {
          "output_type": "stream",
          "name": "stderr",
          "text": [
            "Some weights of BertForSequenceClassification were not initialized from the model checkpoint at jackaduma/SecBERT and are newly initialized: ['classifier.bias', 'classifier.weight']\n",
            "You should probably TRAIN this model on a down-stream task to be able to use it for predictions and inference.\n"
          ]
        }
      ]
    },
    {
      "cell_type": "markdown",
      "source": [
        "## Tokenize and Encode\n",
        "The first code block sets up a custom PyTorch dataset for text classification, handling the tokenization of text data and conversion of labels into tensor format. The resulting datasets (train_dataset, val_dataset, test_dataset) can then be used with a PyTorch DataLoader for training and evaluating a model.\n",
        "\n",
        "The second code segment sets up data loaders for the training, validation, and test datasets. The DataLoader class is used to wrap a dataset and provides an iterable over the dataset, enabling batch processing, shuffling, and parallel data loading. The train_loader shuffles the data at the beginning of each epoch to improve training, while val_loader and test_loader provide batches of data without shuffling. These data loaders will be used during the training and evaluation phases to efficiently feed data to the model in batches.\n",
        "\n",
        "\n",
        "\n",
        "\n",
        "\n",
        "\n"
      ],
      "metadata": {
        "id": "tc9CC4eoOOSj"
      }
    },
    {
      "cell_type": "code",
      "source": [
        "class TextDataset(Dataset):\n",
        "    def __init__(self, texts, labels, tokenizer, max_length=max_length):\n",
        "        self.encodings = tokenizer(texts.tolist(),\n",
        "                                   truncation=True,\n",
        "                                   padding='max_length',\n",
        "                                   max_length=max_length,\n",
        "                                   return_tensors='pt')\n",
        "        self.labels = torch.tensor([label_map[label] for label in labels],\n",
        "                                   dtype=torch.long)\n",
        "\n",
        "    # Return the number of samples in the dataset\n",
        "    def __len__(self):\n",
        "        return len(self.labels)\n",
        "\n",
        "    # Return a single sample form the dataset\n",
        "    def __getitem__(self, idx):\n",
        "        item = {key: torch.tensor(val[idx]) for key, val in self.encodings.items()}\n",
        "        item['labels'] = self.labels[idx]\n",
        "        return item\n",
        "\n",
        "# Create label map by converting string labels to ints\n",
        "label_map = {label: idx for idx, label in enumerate(train_df['labels'].unique())}\n",
        "\n",
        "# Create datasets\n",
        "train_dataset = TextDataset(train_df['text'], train_df['labels'], tokenizer)\n",
        "val_dataset = TextDataset(val_df['text'], val_df['labels'], tokenizer)\n",
        "test_dataset = TextDataset(test_df['text'], test_df['labels'], tokenizer)"
      ],
      "metadata": {
        "id": "Da--3kE0Yz1O"
      },
      "execution_count": null,
      "outputs": []
    },
    {
      "cell_type": "code",
      "source": [
        "train_loader = DataLoader(train_dataset, batch_size=batch_size, shuffle=True)\n",
        "val_loader = DataLoader(val_dataset, batch_size=batch_size)\n",
        "test_loader = DataLoader(test_dataset, batch_size=batch_size)"
      ],
      "metadata": {
        "id": "9rtxL5uuY5RV"
      },
      "execution_count": null,
      "outputs": []
    },
    {
      "cell_type": "markdown",
      "source": [
        "## Optimization\n",
        "AdamW was used by the TRAM project so I will use it here. AdamW is an extension of Adam that includes decoupled weight decay regularization. This helps prevent overfitting by adding a penalty to the loss function proportional to the sum of the squared weights. [Loshchilov et. al.](https://www.google.com/url?q=https%3A%2F%2Farxiv.org%2Fpdf%2F1711.05101) explains the differences between the two far better than I can here.\n",
        "\n",
        "The model.parameters() call eturns an iterator over the model's parameters providing access to all the parameters that the optimizer will update during training, including weights and biases for each layer of the model."
      ],
      "metadata": {
        "id": "9vHbWl3AQlOI"
      }
    },
    {
      "cell_type": "code",
      "source": [
        "optimizer = AdamW(model.parameters(), lr=learning_rate)"
      ],
      "metadata": {
        "id": "v3_SzyEwmmgw"
      },
      "execution_count": null,
      "outputs": []
    },
    {
      "cell_type": "markdown",
      "source": [
        "The following code segment was something completely new to me. TensorFlow manages devices automatically whereas PyTorch requires you to explicitly define it.\n",
        "\n",
        "The conditional expression (torch.cuda.is_available()) checks if a GPU is available and if CUDA (NVIDIA's parallel computing platform) is installed and operational. If so, it sets device to use the GPU; otherwise, it defaults to the CPU."
      ],
      "metadata": {
        "id": "pFAMmBMZSPdn"
      }
    },
    {
      "cell_type": "code",
      "source": [
        "device = torch.device('cuda') if torch.cuda.is_available() else torch.device('cpu')\n",
        "model.to(device)"
      ],
      "metadata": {
        "colab": {
          "base_uri": "https://localhost:8080/"
        },
        "id": "BKUjntutmnPP",
        "outputId": "ed21d126-bad3-4dee-ce55-dbee9c369538"
      },
      "execution_count": null,
      "outputs": [
        {
          "output_type": "execute_result",
          "data": {
            "text/plain": [
              "BertForSequenceClassification(\n",
              "  (bert): BertModel(\n",
              "    (embeddings): BertEmbeddings(\n",
              "      (word_embeddings): Embedding(52000, 768, padding_idx=0)\n",
              "      (position_embeddings): Embedding(514, 768)\n",
              "      (token_type_embeddings): Embedding(1, 768)\n",
              "      (LayerNorm): LayerNorm((768,), eps=1e-12, elementwise_affine=True)\n",
              "      (dropout): Dropout(p=0.1, inplace=False)\n",
              "    )\n",
              "    (encoder): BertEncoder(\n",
              "      (layer): ModuleList(\n",
              "        (0-5): 6 x BertLayer(\n",
              "          (attention): BertAttention(\n",
              "            (self): BertSdpaSelfAttention(\n",
              "              (query): Linear(in_features=768, out_features=768, bias=True)\n",
              "              (key): Linear(in_features=768, out_features=768, bias=True)\n",
              "              (value): Linear(in_features=768, out_features=768, bias=True)\n",
              "              (dropout): Dropout(p=0.1, inplace=False)\n",
              "            )\n",
              "            (output): BertSelfOutput(\n",
              "              (dense): Linear(in_features=768, out_features=768, bias=True)\n",
              "              (LayerNorm): LayerNorm((768,), eps=1e-12, elementwise_affine=True)\n",
              "              (dropout): Dropout(p=0.1, inplace=False)\n",
              "            )\n",
              "          )\n",
              "          (intermediate): BertIntermediate(\n",
              "            (dense): Linear(in_features=768, out_features=3072, bias=True)\n",
              "            (intermediate_act_fn): GELUActivation()\n",
              "          )\n",
              "          (output): BertOutput(\n",
              "            (dense): Linear(in_features=3072, out_features=768, bias=True)\n",
              "            (LayerNorm): LayerNorm((768,), eps=1e-12, elementwise_affine=True)\n",
              "            (dropout): Dropout(p=0.1, inplace=False)\n",
              "          )\n",
              "        )\n",
              "      )\n",
              "    )\n",
              "    (pooler): BertPooler(\n",
              "      (dense): Linear(in_features=768, out_features=768, bias=True)\n",
              "      (activation): Tanh()\n",
              "    )\n",
              "  )\n",
              "  (dropout): Dropout(p=0.1, inplace=False)\n",
              "  (classifier): Linear(in_features=768, out_features=44, bias=True)\n",
              ")"
            ]
          },
          "metadata": {},
          "execution_count": 9
        }
      ]
    },
    {
      "cell_type": "markdown",
      "source": [
        "This code block trains the model for one epoch calculating the loss and accuracy over the entire dataset. It returns the average loss per batch and the accuracy for the epoch."
      ],
      "metadata": {
        "id": "_cni_ugvS7N6"
      }
    },
    {
      "cell_type": "code",
      "source": [
        "def train_epoch(model, data_loader, optimizer):\n",
        "    model.train()\n",
        "    total_loss = 0\n",
        "    correct_predictions = 0\n",
        "\n",
        "    for batch in tqdm(data_loader, desc=\"Training\"):\n",
        "        optimizer.zero_grad()\n",
        "        input_ids = batch['input_ids'].to(device)\n",
        "        attention_mask = batch['attention_mask'].to(device)\n",
        "        labels = batch['labels'].to(device)\n",
        "        outputs = model(input_ids=input_ids,\n",
        "                        attention_mask=attention_mask,\n",
        "                        labels=labels)\n",
        "        loss = outputs.loss\n",
        "        loss.backward()\n",
        "        optimizer.step()\n",
        "        total_loss += loss.item()\n",
        "\n",
        "        logits = outputs.logits\n",
        "        _, preds = torch.max(logits, dim=1)\n",
        "        correct_predictions += torch.sum(preds == labels)\n",
        "\n",
        "    accuracy = correct_predictions.double() / len(data_loader.dataset)\n",
        "    return total_loss / len(data_loader), accuracy"
      ],
      "metadata": {
        "id": "_Eg--JU-Y7nH"
      },
      "execution_count": null,
      "outputs": []
    },
    {
      "cell_type": "markdown",
      "source": [
        "This code block evaluates the model on the validation and test datasets, calulating the average loss and accuracy. It set the mode of the model to evaluation, disables gradient computation for efficiency, processes data in batches and returns the calculated average loss and accuracy for the entire dataset."
      ],
      "metadata": {
        "id": "olwcF7ivT_Fw"
      }
    },
    {
      "cell_type": "code",
      "source": [
        "def eval_model(model, data_loader):\n",
        "    model.eval()\n",
        "    total_loss = 0\n",
        "    correct_predictions = 0\n",
        "\n",
        "    with torch.no_grad():\n",
        "        for batch in tqdm(data_loader, desc=\"Evaluating\"):\n",
        "            input_ids = batch['input_ids'].to(device)\n",
        "            attention_mask = batch['attention_mask'].to(device)\n",
        "            labels = batch['labels'].to(device)\n",
        "            outputs = model(input_ids=input_ids,\n",
        "                            attention_mask=attention_mask,\n",
        "                            labels=labels)\n",
        "            loss = outputs.loss\n",
        "            logits = outputs.logits\n",
        "            total_loss += loss.item()\n",
        "            _, preds = torch.max(logits, dim=1)\n",
        "            correct_predictions += torch.sum(preds == labels)\n",
        "\n",
        "    accuracy = correct_predictions.double() / len(data_loader.dataset)\n",
        "    return total_loss / len(data_loader), accuracy"
      ],
      "metadata": {
        "id": "nTJaObveY-hN"
      },
      "execution_count": null,
      "outputs": []
    },
    {
      "cell_type": "markdown",
      "source": [
        "This code segment runs a training loop for a specified number of epochs, evaluating the model's performance on both training and validation datasets. It also saves the model's state if it achieves the best validation accuracy so far."
      ],
      "metadata": {
        "id": "-i4ARmfnUpTV"
      }
    },
    {
      "cell_type": "code",
      "source": [
        "history = {'loss': [], 'accuracy': [], 'val_loss': [], 'val_accuracy': []}\n",
        "best_accuracy = 0\n",
        "\n",
        "for epoch in range(epochs):\n",
        "    print(f'Epoch {epoch + 1}/{epochs}')\n",
        "    train_loss, train_accuracy = train_epoch(model, train_loader, optimizer)\n",
        "    val_loss, val_accuracy = eval_model(model, val_loader)\n",
        "\n",
        "    print(f'Train loss: {train_loss}, Train accuracy: {train_accuracy}')\n",
        "    print(f'Validation loss: {val_loss}, Validation accuracy: {val_accuracy}')\n",
        "\n",
        "    history['loss'].append(train_loss.item() if torch.is_tensor(train_loss) else train_loss)\n",
        "    history['accuracy'].append(train_accuracy.item() if torch.is_tensor(train_accuracy) else train_accuracy)\n",
        "    history['val_loss'].append(val_loss.item() if torch.is_tensor(val_loss) else val_loss)\n",
        "    history['val_accuracy'].append(val_accuracy.item() if torch.is_tensor(val_accuracy) else val_accuracy)\n",
        "\n",
        "    if val_accuracy > best_accuracy:\n",
        "        best_accuracy = val_accuracy\n",
        "        torch.save(model.state_dict(), 'best_model_state.bin')"
      ],
      "metadata": {
        "id": "COpzeTWZZA0O",
        "colab": {
          "base_uri": "https://localhost:8080/"
        },
        "outputId": "d20ca691-9cbf-4f50-c3d5-dfd1da5eef91"
      },
      "execution_count": null,
      "outputs": [
        {
          "output_type": "stream",
          "name": "stdout",
          "text": [
            "Epoch 1/5\n"
          ]
        },
        {
          "output_type": "stream",
          "name": "stderr",
          "text": [
            "\rTraining:   0%|          | 0/1218 [00:00<?, ?it/s]<ipython-input-6-1c0b2152c7ac>:15: UserWarning: To copy construct from a tensor, it is recommended to use sourceTensor.clone().detach() or sourceTensor.clone().detach().requires_grad_(True), rather than torch.tensor(sourceTensor).\n",
            "  item = {key: torch.tensor(val[idx]) for key, val in self.encodings.items()}\n",
            "Training: 100%|██████████| 1218/1218 [08:52<00:00,  2.29it/s]\n",
            "Evaluating: 100%|██████████| 153/153 [00:20<00:00,  7.56it/s]\n"
          ]
        },
        {
          "output_type": "stream",
          "name": "stdout",
          "text": [
            "Train loss: 1.5340548500981432, Train accuracy: 0.6634646962233169\n",
            "Validation loss: 0.5802784969214521, Validation accuracy: 0.8529218647406434\n",
            "Epoch 2/5\n"
          ]
        },
        {
          "output_type": "stream",
          "name": "stderr",
          "text": [
            "Training: 100%|██████████| 1218/1218 [08:51<00:00,  2.29it/s]\n",
            "Evaluating: 100%|██████████| 153/153 [00:20<00:00,  7.56it/s]\n"
          ]
        },
        {
          "output_type": "stream",
          "name": "stdout",
          "text": [
            "Train loss: 0.3954119738436049, Train accuracy: 0.9071428571428571\n",
            "Validation loss: 0.4144920942805756, Validation accuracy: 0.8850952068286276\n",
            "Epoch 3/5\n"
          ]
        },
        {
          "output_type": "stream",
          "name": "stderr",
          "text": [
            "Training: 100%|██████████| 1218/1218 [08:51<00:00,  2.29it/s]\n",
            "Evaluating: 100%|██████████| 153/153 [00:20<00:00,  7.58it/s]\n"
          ]
        },
        {
          "output_type": "stream",
          "name": "stdout",
          "text": [
            "Train loss: 0.15063114031271516, Train accuracy: 0.966912972085386\n",
            "Validation loss: 0.43271472482193335, Validation accuracy: 0.8936309914642153\n",
            "Epoch 4/5\n"
          ]
        },
        {
          "output_type": "stream",
          "name": "stderr",
          "text": [
            "Training: 100%|██████████| 1218/1218 [08:51<00:00,  2.29it/s]\n",
            "Evaluating: 100%|██████████| 153/153 [00:20<00:00,  7.55it/s]\n"
          ]
        },
        {
          "output_type": "stream",
          "name": "stdout",
          "text": [
            "Train loss: 0.06073531066985076, Train accuracy: 0.9877668308702792\n",
            "Validation loss: 0.46943990216785253, Validation accuracy: 0.8916611950098489\n",
            "Epoch 5/5\n"
          ]
        },
        {
          "output_type": "stream",
          "name": "stderr",
          "text": [
            "Training: 100%|██████████| 1218/1218 [08:51<00:00,  2.29it/s]\n",
            "Evaluating: 100%|██████████| 153/153 [00:20<00:00,  7.56it/s]"
          ]
        },
        {
          "output_type": "stream",
          "name": "stdout",
          "text": [
            "Train loss: 0.033293100847168376, Train accuracy: 0.9933497536945813\n",
            "Validation loss: 0.4856756019810811, Validation accuracy: 0.8910045961917268\n"
          ]
        },
        {
          "output_type": "stream",
          "name": "stderr",
          "text": [
            "\n"
          ]
        }
      ]
    },
    {
      "cell_type": "code",
      "source": [
        "model.load_state_dict(torch.load('best_model_state.bin'))"
      ],
      "metadata": {
        "id": "JorVsBG3ZEIe",
        "colab": {
          "base_uri": "https://localhost:8080/"
        },
        "outputId": "7264ec7d-a530-4a58-b341-3c4510243363"
      },
      "execution_count": null,
      "outputs": [
        {
          "output_type": "execute_result",
          "data": {
            "text/plain": [
              "<All keys matched successfully>"
            ]
          },
          "metadata": {},
          "execution_count": 13
        }
      ]
    },
    {
      "cell_type": "markdown",
      "source": [
        "This code block was taken and modified from Assignment 2: Text Classification with Various Neural Networks notebook.\n",
        "\n",
        "As you can see this model may have started overtraining after epoch 3. Validation loss started to climb slightly as validation accuracy started to decrease. If I wasn't trying to standardize on the TRAM project I would have autostopped at epoch 3."
      ],
      "metadata": {
        "id": "wt7wfm1wVKXd"
      }
    },
    {
      "cell_type": "code",
      "source": [
        "def make_plot(axs, history, model_name='secBERT'):\n",
        "    box = dict(facecolor='yellow', pad=5, alpha=0.2)\n",
        "\n",
        "    for i, metric in enumerate(['loss', 'accuracy']):\n",
        "        train_metric = np.array(history[metric])\n",
        "        val_metric = np.array(history[f'val_{metric}'])\n",
        "\n",
        "        print(f'{metric} - Train metric type: {type(train_metric)}, Val metric type: {type(val_metric)}')\n",
        "\n",
        "        y_lim_lower = min(train_metric) * 0.9\n",
        "        y_lim_upper = max(train_metric) * 1.1\n",
        "\n",
        "        ax1 = axs[i]\n",
        "        ax1.plot(train_metric, label='train')\n",
        "        ax1.plot(val_metric, label='validation')\n",
        "        ax1.set_title(f'{metric} - {model_name}')\n",
        "        ax1.set_ylabel(metric, bbox=box)\n",
        "        ax1.set_ylim(y_lim_lower, y_lim_upper)\n",
        "        ax1.legend()\n",
        "\n",
        "fig, axs = plt.subplots(2, 1, figsize=(10, 8))\n",
        "fig.subplots_adjust(left=0.2, wspace=0.6)\n",
        "make_plot(axs, history, model_name='SecBERT')\n",
        "fig.align_ylabels(axs)\n",
        "fig.set_size_inches(10, 8)\n",
        "plt.show()"
      ],
      "metadata": {
        "id": "2ZKaes90ZPz9",
        "colab": {
          "base_uri": "https://localhost:8080/",
          "height": 734
        },
        "outputId": "0bfa078d-8f04-45dd-8601-fc8664b001da"
      },
      "execution_count": null,
      "outputs": [
        {
          "output_type": "stream",
          "name": "stdout",
          "text": [
            "loss - Train metric type: <class 'numpy.ndarray'>, Val metric type: <class 'numpy.ndarray'>\n",
            "accuracy - Train metric type: <class 'numpy.ndarray'>, Val metric type: <class 'numpy.ndarray'>\n"
          ]
        },
        {
          "output_type": "display_data",
          "data": {
            "text/plain": [
              "<Figure size 1000x800 with 2 Axes>"
            ],
            "image/png": "[encoded data removed]"
          },
          "metadata": {}
        }
      ]
    },
    {
      "cell_type": "code",
      "source": [
        "test_loss, test_accuracy = eval_model(model, test_loader)\n",
        "print(f'Test loss: {test_loss}, Test accuracy: {test_accuracy}')"
      ],
      "metadata": {
        "id": "2suezFClZR0f",
        "colab": {
          "base_uri": "https://localhost:8080/"
        },
        "outputId": "c8109cf7-cba9-4f62-81e3-efb4eac3f5a0"
      },
      "execution_count": null,
      "outputs": [
        {
          "output_type": "stream",
          "name": "stderr",
          "text": [
            "Evaluating:   0%|          | 0/153 [00:00<?, ?it/s]<ipython-input-6-1c0b2152c7ac>:15: UserWarning: To copy construct from a tensor, it is recommended to use sourceTensor.clone().detach() or sourceTensor.clone().detach().requires_grad_(True), rather than torch.tensor(sourceTensor).\n",
            "  item = {key: torch.tensor(val[idx]) for key, val in self.encodings.items()}\n",
            "Evaluating: 100%|██████████| 153/153 [00:20<00:00,  7.64it/s]"
          ]
        },
        {
          "output_type": "stream",
          "name": "stdout",
          "text": [
            "Test loss: 0.376021225066259, Test accuracy: 0.9001969796454365\n"
          ]
        },
        {
          "output_type": "stream",
          "name": "stderr",
          "text": [
            "\n"
          ]
        }
      ]
    },
    {
      "cell_type": "code",
      "source": [
        "def get_predictions(model, data_loader):\n",
        "    model.eval()\n",
        "    predictions = []\n",
        "    true_labels = []\n",
        "\n",
        "    with torch.no_grad():\n",
        "        for batch in data_loader:\n",
        "            input_ids = batch['input_ids'].to(device)\n",
        "            attention_mask = batch['attention_mask'].to(device)\n",
        "            labels = batch['labels'].to(device)\n",
        "            outputs = model(input_ids=input_ids, attention_mask=attention_mask)\n",
        "            logits = outputs.logits\n",
        "            _, preds = torch.max(logits, dim=1)\n",
        "            predictions.extend(preds)\n",
        "            true_labels.extend(labels)\n",
        "\n",
        "    return torch.stack(predictions).cpu().numpy(), torch.stack(true_labels).cpu().numpy()"
      ],
      "metadata": {
        "id": "_L-F6CqDZUVN"
      },
      "execution_count": null,
      "outputs": []
    },
    {
      "cell_type": "code",
      "source": [
        "y_pred, y_true = get_predictions(model, test_loader)"
      ],
      "metadata": {
        "id": "EgpC3J0rZZQ4",
        "colab": {
          "base_uri": "https://localhost:8080/"
        },
        "outputId": "c67b9376-cbf4-4294-b8ba-0df250df022b"
      },
      "execution_count": null,
      "outputs": [
        {
          "output_type": "stream",
          "name": "stderr",
          "text": [
            "<ipython-input-6-1c0b2152c7ac>:15: UserWarning: To copy construct from a tensor, it is recommended to use sourceTensor.clone().detach() or sourceTensor.clone().detach().requires_grad_(True), rather than torch.tensor(sourceTensor).\n",
            "  item = {key: torch.tensor(val[idx]) for key, val in self.encodings.items()}\n"
          ]
        }
      ]
    },
    {
      "cell_type": "code",
      "source": [
        "target_names = list(label_map.keys())"
      ],
      "metadata": {
        "id": "8wYoZHK_ZaeO"
      },
      "execution_count": null,
      "outputs": []
    },
    {
      "cell_type": "code",
      "source": [
        "report = classification_report(y_true, y_pred, target_names=target_names)\n",
        "print(report)"
      ],
      "metadata": {
        "colab": {
          "base_uri": "https://localhost:8080/"
        },
        "id": "Frvqc36kne0V",
        "outputId": "37e58ae5-3b4d-40d8-e277-a0d9495ac54d"
      },
      "execution_count": null,
      "outputs": [
        {
          "output_type": "stream",
          "name": "stdout",
          "text": [
            "              precision    recall  f1-score   support\n",
            "\n",
            "       T1573       0.90      0.90      0.90        20\n",
            "       T1505       1.00      0.93      0.96        42\n",
            "       T1027       0.81      0.91      0.86        47\n",
            "       T1564       0.82      0.70      0.76        20\n",
            "       T1071       0.95      0.93      0.94        45\n",
            "       T1059       0.88      0.92      0.90        53\n",
            "       T1074       0.94      0.98      0.96        45\n",
            "       T1132       0.98      1.00      0.99        40\n",
            "       T1574       0.78      0.82      0.80        22\n",
            "       T1560       0.95      0.95      0.95        40\n",
            "       T1113       1.00      1.00      1.00        36\n",
            "       T1102       0.80      0.95      0.87        43\n",
            "       T1553       0.83      0.94      0.88        31\n",
            "       T1140       0.87      0.69      0.77        29\n",
            "       T1543       0.82      0.82      0.82        17\n",
            "       T1562       0.86      0.82      0.84        22\n",
            "       T1005       0.96      0.96      0.96        55\n",
            "       T1106       0.96      0.96      0.96        46\n",
            "       T1047       0.98      0.98      0.98        44\n",
            "       T1588       1.00      0.98      0.99        50\n",
            "       T1036       0.90      0.75      0.82        36\n",
            "       T1105       0.89      0.89      0.89        37\n",
            "       T1497       0.98      0.96      0.97        45\n",
            "       T1518       0.91      1.00      0.95        30\n",
            "       T1021       0.97      0.87      0.92        38\n",
            "       T1547       0.76      0.89      0.82        47\n",
            "       T1083       0.88      0.73      0.80        30\n",
            "       T1087       0.98      0.94      0.96        50\n",
            "       T1555       0.82      1.00      0.90        31\n",
            "       T1112       0.94      0.84      0.89        61\n",
            "       T1003       0.92      0.71      0.80        31\n",
            "       T1070       0.78      0.88      0.83        41\n",
            "       T1546       0.85      0.48      0.61        23\n",
            "       T1090       0.95      0.97      0.96        36\n",
            "       T1033       0.90      0.93      0.91        28\n",
            "       T1082       0.94      0.83      0.88        35\n",
            "       T1057       0.91      0.88      0.89        24\n",
            "       T1056       1.00      0.92      0.96        24\n",
            "       T1053       0.95      1.00      0.97        19\n",
            "       T1055       0.88      0.91      0.89        23\n",
            "       T1218       0.69      0.92      0.79        24\n",
            "       T1566       0.83      0.83      0.83        18\n",
            "       T1016       0.84      0.91      0.87        23\n",
            "       T1204       0.83      0.91      0.87        22\n",
            "\n",
            "    accuracy                           0.90      1523\n",
            "   macro avg       0.89      0.89      0.89      1523\n",
            "weighted avg       0.90      0.90      0.90      1523\n",
            "\n"
          ]
        }
      ]
    },
    {
      "cell_type": "code",
      "source": [
        "confusion_mtx = confusion_matrix(y_true, y_pred)\n",
        "print(confusion_mtx)"
      ],
      "metadata": {
        "colab": {
          "base_uri": "https://localhost:8080/"
        },
        "id": "i5M3626fnhQk",
        "outputId": "976b63f7-c8b2-4f08-db89-6a4938811527"
      },
      "execution_count": null,
      "outputs": [
        {
          "output_type": "stream",
          "name": "stdout",
          "text": [
            "[[18  0  0 ...  0  0  0]\n",
            " [ 0 39  0 ...  1  0  0]\n",
            " [ 1  0 43 ...  0  0  0]\n",
            " ...\n",
            " [ 0  0  0 ... 15  0  3]\n",
            " [ 0  0  0 ...  0 21  0]\n",
            " [ 0  0  0 ...  1  0 20]]\n"
          ]
        }
      ]
    },
    {
      "cell_type": "code",
      "source": [
        "plt.figure(figsize=(20, 20))\n",
        "sns.heatmap(confusion_mtx, annot=True, fmt='d',\n",
        "            xticklabels=target_names,\n",
        "            yticklabels=target_names)\n",
        "plt.xlabel(\"Predicted\")\n",
        "plt.ylabel(\"True\")\n",
        "plt.show()"
      ],
      "metadata": {
        "colab": {
          "base_uri": "https://localhost:8080/",
          "height": 1000
        },
        "id": "a3yrYR30nkMq",
        "outputId": "3717261c-2446-4de8-ae10-a0a09cf3e4c2"
      },
      "execution_count": null,
      "outputs": [
        {
          "output_type": "display_data",
          "data": {
            "text/plain": [
              "<Figure size 2000x2000 with 2 Axes>"
            ],
            "image/png": "[encoded data removed]"
          },
          "metadata": {}
        }
      ]
    }
  ]
}