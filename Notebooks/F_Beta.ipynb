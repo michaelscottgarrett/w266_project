{
  "nbformat": 4,
  "nbformat_minor": 0,
  "metadata": {
    "colab": {
      "provenance": []
    },
    "kernelspec": {
      "name": "python3",
      "display_name": "Python 3"
    },
    "language_info": {
      "name": "python"
    }
  },
  "cells": [
    {
      "cell_type": "markdown",
      "source": [
        "# F-Beta Analysis\n",
        "This notebook is used to do some further analysis on the F-scores calculated from running the three models.\n",
        "\n",
        "Below I was able to copy the output from the Classification Report and past them here. Using Colab's vertical cursor it was simple to get the data into a structure I could work with."
      ],
      "metadata": {
        "id": "qPXnLEEiPupN"
      }
    },
    {
      "cell_type": "code",
      "execution_count": null,
      "metadata": {
        "id": "brCC4pZv_amV"
      },
      "outputs": [],
      "source": [
        "secBERT_prfs =  [[\"T1573\",0.90,0.90,0.90,20],\n",
        "                 [\"T1505\",1.00,0.93,0.96,42],\n",
        "                 [\"T1027\",0.81,0.91,0.86,47],\n",
        "                 [\"T1564\",0.82,0.70,0.76,20],\n",
        "                 [\"T1071\",0.95,0.93,0.94,45],\n",
        "                 [\"T1059\",0.88,0.92,0.90,53],\n",
        "                 [\"T1074\",0.94,0.98,0.96,45],\n",
        "                 [\"T1132\",0.98,1.00,0.99,40],\n",
        "                 [\"T1574\",0.78,0.82,0.80,22],\n",
        "                 [\"T1560\",0.95,0.95,0.95,40],\n",
        "                 [\"T1113\",1.00,1.00,1.00,36],\n",
        "                 [\"T1102\",0.80,0.95,0.87,43],\n",
        "                 [\"T1553\",0.83,0.94,0.88,31],\n",
        "                 [\"T1140\",0.87,0.69,0.77,29],\n",
        "                 [\"T1543\",0.82,0.82,0.82,17],\n",
        "                 [\"T1562\",0.86,0.82,0.84,22],\n",
        "                 [\"T1005\",0.96,0.96,0.96,55],\n",
        "                 [\"T1106\",0.96,0.96,0.96,46],\n",
        "                 [\"T1047\",0.98,0.98,0.98,44],\n",
        "                 [\"T1588\",1.00,0.98,0.99,50],\n",
        "                 [\"T1036\",0.90,0.75,0.82,36],\n",
        "                 [\"T1105\",0.89,0.89,0.89,37],\n",
        "                 [\"T1497\",0.98,0.96,0.97,45],\n",
        "                 [\"T1518\",0.91,1.00,0.95,30],\n",
        "                 [\"T1021\",0.97,0.87,0.92,38],\n",
        "                 [\"T1547\",0.76,0.89,0.82,47],\n",
        "                 [\"T1083\",0.88,0.73,0.80,30],\n",
        "                 [\"T1087\",0.98,0.94,0.96,50],\n",
        "                 [\"T1555\",0.82,1.00,0.90,31],\n",
        "                 [\"T1112\",0.94,0.84,0.89,61],\n",
        "                 [\"T1003\",0.92,0.71,0.80,31],\n",
        "                 [\"T1070\",0.78,0.88,0.83,41],\n",
        "                 [\"T1546\",0.85,0.48,0.61,23],\n",
        "                 [\"T1090\",0.95,0.97,0.96,36],\n",
        "                 [\"T1033\",0.90,0.93,0.91,28],\n",
        "                 [\"T1082\",0.94,0.83,0.88,35],\n",
        "                 [\"T1057\",0.91,0.88,0.89,24],\n",
        "                 [\"T1056\",1.00,0.92,0.96,24],\n",
        "                 [\"T1053\",0.95,1.00,0.97,19],\n",
        "                 [\"T1055\",0.88,0.91,0.89,23],\n",
        "                 [\"T1218\",0.69,0.92,0.79,24],\n",
        "                 [\"T1566\",0.83,0.83,0.83,18],\n",
        "                 [\"T1016\",0.84,0.91,0.87,23],\n",
        "                 [\"T1204\",0.83,0.91,0.87,22]]"
      ]
    },
    {
      "cell_type": "code",
      "source": [
        "BERT_prfs = [[\"T1573\",0.95,0.90,0.92,20],\n",
        "             [\"T1505\",0.95,0.98,0.96,42],\n",
        "             [\"T1027\",0.89,0.89,0.89,47],\n",
        "             [\"T1564\",0.89,0.80,0.84,20],\n",
        "             [\"T1071\",0.98,0.93,0.95,45],\n",
        "             [\"T1059\",0.79,0.85,0.82,53],\n",
        "             [\"T1074\",0.98,1.00,0.99,45],\n",
        "             [\"T1132\",0.93,1.00,0.96,40],\n",
        "             [\"T1574\",0.88,0.68,0.77,22],\n",
        "             [\"T1560\",0.95,0.95,0.95,40],\n",
        "             [\"T1113\",0.97,1.00,0.99,36],\n",
        "             [\"T1102\",0.87,0.93,0.90,43],\n",
        "             [\"T1553\",0.92,0.71,0.80,31],\n",
        "             [\"T1140\",0.96,0.83,0.89,29],\n",
        "             [\"T1543\",0.89,0.94,0.91,17],\n",
        "             [\"T1562\",0.68,0.86,0.76,22],\n",
        "             [\"T1005\",0.91,0.91,0.91,55],\n",
        "             [\"T1106\",0.83,0.96,0.89,46],\n",
        "             [\"T1047\",0.93,0.95,0.94,44],\n",
        "             [\"T1588\",0.96,1.00,0.98,50],\n",
        "             [\"T1036\",0.76,0.78,0.77,36],\n",
        "             [\"T1105\",0.92,0.97,0.95,37],\n",
        "             [\"T1497\",0.96,0.96,0.96,45],\n",
        "             [\"T1518\",0.88,1.00,0.94,30],\n",
        "             [\"T1021\",0.97,1.00,0.99,38],\n",
        "             [\"T1547\",0.89,0.89,0.89,47],\n",
        "             [\"T1083\",0.88,0.70,0.78,30],\n",
        "             [\"T1087\",0.98,0.90,0.94,50],\n",
        "             [\"T1555\",0.91,1.00,0.95,31],\n",
        "             [\"T1112\",0.93,0.93,0.93,61],\n",
        "             [\"T1003\",0.96,0.81,0.88,31],\n",
        "             [\"T1070\",0.90,0.85,0.88,41],\n",
        "             [\"T1546\",0.71,0.65,0.68,23],\n",
        "             [\"T1090\",0.94,0.94,0.94,36],\n",
        "             [\"T1033\",0.87,0.93,0.90,28],\n",
        "             [\"T1082\",0.82,0.80,0.81,35],\n",
        "             [\"T1057\",0.96,0.96,0.96,24],\n",
        "             [\"T1056\",0.96,0.96,0.96,24],\n",
        "             [\"T1053\",0.90,0.95,0.92,19],\n",
        "             [\"T1055\",0.88,0.96,0.92,23],\n",
        "             [\"T1218\",0.90,0.75,0.82,24],\n",
        "             [\"T1566\",0.89,0.89,0.89,18],\n",
        "             [\"T1016\",1.00,0.91,0.95,23],\n",
        "             [\"T1204\",0.78,0.82,0.80,22]]"
      ],
      "metadata": {
        "id": "bpeTQgIcEchY"
      },
      "execution_count": null,
      "outputs": []
    },
    {
      "cell_type": "code",
      "source": [
        "sciBERT_prfs = [[\"T1573\",1.00,0.95,0.97,20],\n",
        "                [\"T1505\",1.00,0.98,0.99,42],\n",
        "                [\"T1027\",0.93,0.89,0.91,47],\n",
        "                [\"T1564\",1.00,0.80,0.89,20],\n",
        "                [\"T1071\",1.00,0.93,0.97,45],\n",
        "                [\"T1059\",0.96,0.87,0.91,53],\n",
        "                [\"T1074\",0.98,0.98,0.98,45],\n",
        "                [\"T1132\",0.91,1.00,0.95,40],\n",
        "                [\"T1574\",0.95,0.86,0.90,22],\n",
        "                [\"T1560\",0.95,1.00,0.98,40],\n",
        "                [\"T1113\",0.95,1.00,0.97,36],\n",
        "                [\"T1102\",0.88,0.88,0.88,43],\n",
        "                [\"T1553\",0.87,0.84,0.85,31],\n",
        "                [\"T1140\",0.96,0.83,0.89,29],\n",
        "                [\"T1543\",0.89,0.94,0.91,17],\n",
        "                [\"T1562\",0.72,0.95,0.82,22],\n",
        "                [\"T1005\",0.90,0.98,0.94,55],\n",
        "                [\"T1106\",0.92,0.98,0.95,46],\n",
        "                [\"T1047\",0.95,0.95,0.95,44],\n",
        "                [\"T1588\",1.00,0.98,0.99,50],\n",
        "                [\"T1036\",0.91,0.81,0.85,36],\n",
        "                [\"T1105\",0.92,0.95,0.93,37],\n",
        "                [\"T1497\",0.92,0.98,0.95,45],\n",
        "                [\"T1518\",0.94,1.00,0.97,30],\n",
        "                [\"T1021\",0.97,0.95,0.96,38],\n",
        "                [\"T1547\",0.91,0.89,0.90,47],\n",
        "                [\"T1083\",0.77,0.80,0.79,30],\n",
        "                [\"T1087\",0.96,0.88,0.92,50],\n",
        "                [\"T1555\",0.88,0.94,0.91,31],\n",
        "                [\"T1112\",0.92,0.98,0.95,61],\n",
        "                [\"T1003\",0.93,0.81,0.86,31],\n",
        "                [\"T1070\",0.94,0.83,0.88,41],\n",
        "                [\"T1546\",0.55,0.70,0.62,23],\n",
        "                [\"T1090\",0.94,0.94,0.94,36],\n",
        "                [\"T1033\",0.92,0.86,0.89,28],\n",
        "                [\"T1082\",0.97,0.86,0.91,35],\n",
        "                [\"T1057\",0.92,0.96,0.94,24],\n",
        "                [\"T1056\",0.92,1.00,0.96,24],\n",
        "                [\"T1053\",0.78,0.95,0.86,19],\n",
        "                [\"T1055\",0.88,0.91,0.89,23],\n",
        "                [\"T1218\",0.76,0.79,0.78,24],\n",
        "                [\"T1566\",0.88,0.83,0.86,18],\n",
        "                [\"T1016\",0.91,0.91,0.91,23],\n",
        "                [\"T1204\",0.80,0.73,0.76,22]]"
      ],
      "metadata": {
        "id": "_bAYhG8UFI3m"
      },
      "execution_count": null,
      "outputs": []
    },
    {
      "cell_type": "markdown",
      "source": [
        "### F-beta Score Calculation\n",
        "\n",
        "The F-beta score is a weighted harmonic mean of precision and recall. It allows you to control the balance between precision and recall using the beta parameter. The formula for the F-beta score is:\n",
        "\n",
        "\\begin{align}\n",
        "F_β = ( 1 + β^2 ) ⋅ \\frac{ \\text{precision} \\cdot \\text{recall} }{ ( β^2 \\cdot precision ) + recall}\n",
        "\\end{align}\n",
        "\n",
        "As a reminder:\n",
        "\n",
        "- **Precision** is the number of true positive predictions divided by the total number of positive predictions (true positives + false positives).\n",
        "- **Recall** (also known as sensitivity) is the number of true positive predictions divided by the total number of actual positives (true positives + false negatives).\n",
        "- **Beta (β)** is a parameter that determines the weight of recall in the combined score. If β > 1, recall is weighted more heavily than precision. If β < 1, precision is weighted more heavily than recall. For F1 score, β is 1, meaning precision and recall are equally weighted.\n"
      ],
      "metadata": {
        "id": "rPQlmFU1MiIs"
      }
    },
    {
      "cell_type": "markdown",
      "source": [
        "The following function defaults to F1-scores, however, passing in a beta value you can calculate any value of F-score. By passing in the above data structures this function will print out the F-beta value for each class as well as calulate an average and give a range."
      ],
      "metadata": {
        "id": "worYnRoUQQ-M"
      }
    },
    {
      "cell_type": "code",
      "source": [
        "def calculate_f_beta(precision, recall, beta=1):\n",
        "    if precision + recall == 0:\n",
        "        return 0.0\n",
        "    return (1 + beta**2) * (precision * recall) / (beta**2 * precision + recall)\n",
        "\n",
        "# Calculate F2-score for each entry and collect scores\n",
        "def show_f_beta_scores(prfs, beta=1):\n",
        "    f_beta_scores = []\n",
        "    for entry in prfs:\n",
        "        label, precision, recall, f1, support = entry\n",
        "        f_score = calculate_f_beta(precision, recall, beta)\n",
        "        f_beta_scores.append(f_score)\n",
        "        print(f\"Label: {label}, F\"+str(beta)+f\"-score: {f_score:.2}\")\n",
        "\n",
        "    # Calculate average F2-score\n",
        "    average_f_score = sum(f_beta_scores) / len(f_beta_scores)\n",
        "    print(f\"\\nAverage F\"+str(beta)+f\"-score: {average_f_score:.2}\")\n",
        "    print(f\"Min-Max: [{min(f_beta_scores):.2} - {max(f_beta_scores):.2}]\")"
      ],
      "metadata": {
        "id": "jxK2DcgwCWR5"
      },
      "execution_count": null,
      "outputs": []
    },
    {
      "cell_type": "code",
      "source": [
        "# BERT F1-scores\n",
        "show_f_beta_scores(BERT_prfs)"
      ],
      "metadata": {
        "colab": {
          "base_uri": "https://localhost:8080/"
        },
        "id": "Ccy-AHrzJK5h",
        "outputId": "4c1d6ace-e339-4693-b379-9abf5a109046"
      },
      "execution_count": null,
      "outputs": [
        {
          "output_type": "stream",
          "name": "stdout",
          "text": [
            "Label: T1573, F1-score: 0.92\n",
            "Label: T1505, F1-score: 0.96\n",
            "Label: T1027, F1-score: 0.89\n",
            "Label: T1564, F1-score: 0.84\n",
            "Label: T1071, F1-score: 0.95\n",
            "Label: T1059, F1-score: 0.82\n",
            "Label: T1074, F1-score: 0.99\n",
            "Label: T1132, F1-score: 0.96\n",
            "Label: T1574, F1-score: 0.77\n",
            "Label: T1560, F1-score: 0.95\n",
            "Label: T1113, F1-score: 0.98\n",
            "Label: T1102, F1-score: 0.9\n",
            "Label: T1553, F1-score: 0.8\n",
            "Label: T1140, F1-score: 0.89\n",
            "Label: T1543, F1-score: 0.91\n",
            "Label: T1562, F1-score: 0.76\n",
            "Label: T1005, F1-score: 0.91\n",
            "Label: T1106, F1-score: 0.89\n",
            "Label: T1047, F1-score: 0.94\n",
            "Label: T1588, F1-score: 0.98\n",
            "Label: T1036, F1-score: 0.77\n",
            "Label: T1105, F1-score: 0.94\n",
            "Label: T1497, F1-score: 0.96\n",
            "Label: T1518, F1-score: 0.94\n",
            "Label: T1021, F1-score: 0.98\n",
            "Label: T1547, F1-score: 0.89\n",
            "Label: T1083, F1-score: 0.78\n",
            "Label: T1087, F1-score: 0.94\n",
            "Label: T1555, F1-score: 0.95\n",
            "Label: T1112, F1-score: 0.93\n",
            "Label: T1003, F1-score: 0.88\n",
            "Label: T1070, F1-score: 0.87\n",
            "Label: T1546, F1-score: 0.68\n",
            "Label: T1090, F1-score: 0.94\n",
            "Label: T1033, F1-score: 0.9\n",
            "Label: T1082, F1-score: 0.81\n",
            "Label: T1057, F1-score: 0.96\n",
            "Label: T1056, F1-score: 0.96\n",
            "Label: T1053, F1-score: 0.92\n",
            "Label: T1055, F1-score: 0.92\n",
            "Label: T1218, F1-score: 0.82\n",
            "Label: T1566, F1-score: 0.89\n",
            "Label: T1016, F1-score: 0.95\n",
            "Label: T1204, F1-score: 0.8\n",
            "\n",
            "Average F1-score: 0.9\n",
            "Min-Max: [0.68 - 0.99]\n"
          ]
        }
      ]
    },
    {
      "cell_type": "code",
      "source": [
        "# BERT F2-scores\n",
        "show_f_beta_scores(BERT_prfs, 2)"
      ],
      "metadata": {
        "colab": {
          "base_uri": "https://localhost:8080/"
        },
        "id": "OByg2z5aGUmu",
        "outputId": "58799cb4-6e36-4563-a1e0-789deec3aa6d"
      },
      "execution_count": null,
      "outputs": [
        {
          "output_type": "stream",
          "name": "stdout",
          "text": [
            "Label: T1573, F2-score: 0.91\n",
            "Label: T1505, F2-score: 0.97\n",
            "Label: T1027, F2-score: 0.89\n",
            "Label: T1564, F2-score: 0.82\n",
            "Label: T1071, F2-score: 0.94\n",
            "Label: T1059, F2-score: 0.84\n",
            "Label: T1074, F2-score: 1.0\n",
            "Label: T1132, F2-score: 0.99\n",
            "Label: T1574, F2-score: 0.71\n",
            "Label: T1560, F2-score: 0.95\n",
            "Label: T1113, F2-score: 0.99\n",
            "Label: T1102, F2-score: 0.92\n",
            "Label: T1553, F2-score: 0.74\n",
            "Label: T1140, F2-score: 0.85\n",
            "Label: T1543, F2-score: 0.93\n",
            "Label: T1562, F2-score: 0.82\n",
            "Label: T1005, F2-score: 0.91\n",
            "Label: T1106, F2-score: 0.93\n",
            "Label: T1047, F2-score: 0.95\n",
            "Label: T1588, F2-score: 0.99\n",
            "Label: T1036, F2-score: 0.78\n",
            "Label: T1105, F2-score: 0.96\n",
            "Label: T1497, F2-score: 0.96\n",
            "Label: T1518, F2-score: 0.97\n",
            "Label: T1021, F2-score: 0.99\n",
            "Label: T1547, F2-score: 0.89\n",
            "Label: T1083, F2-score: 0.73\n",
            "Label: T1087, F2-score: 0.91\n",
            "Label: T1555, F2-score: 0.98\n",
            "Label: T1112, F2-score: 0.93\n",
            "Label: T1003, F2-score: 0.84\n",
            "Label: T1070, F2-score: 0.86\n",
            "Label: T1546, F2-score: 0.66\n",
            "Label: T1090, F2-score: 0.94\n",
            "Label: T1033, F2-score: 0.92\n",
            "Label: T1082, F2-score: 0.8\n",
            "Label: T1057, F2-score: 0.96\n",
            "Label: T1056, F2-score: 0.96\n",
            "Label: T1053, F2-score: 0.94\n",
            "Label: T1055, F2-score: 0.94\n",
            "Label: T1218, F2-score: 0.78\n",
            "Label: T1566, F2-score: 0.89\n",
            "Label: T1016, F2-score: 0.93\n",
            "Label: T1204, F2-score: 0.81\n",
            "\n",
            "Average F2-score: 0.89\n",
            "Min-Max: [0.66 - 1.0]\n"
          ]
        }
      ]
    },
    {
      "cell_type": "code",
      "source": [
        "# sciBERT F1-scores\n",
        "show_f_beta_scores(sciBERT_prfs)"
      ],
      "metadata": {
        "colab": {
          "base_uri": "https://localhost:8080/"
        },
        "id": "e8mfRzXnGXic",
        "outputId": "b269c6e9-151c-4200-90f0-85de6050e8e3"
      },
      "execution_count": null,
      "outputs": [
        {
          "output_type": "stream",
          "name": "stdout",
          "text": [
            "Label: T1573, F1-score: 0.97\n",
            "Label: T1505, F1-score: 0.99\n",
            "Label: T1027, F1-score: 0.91\n",
            "Label: T1564, F1-score: 0.89\n",
            "Label: T1071, F1-score: 0.96\n",
            "Label: T1059, F1-score: 0.91\n",
            "Label: T1074, F1-score: 0.98\n",
            "Label: T1132, F1-score: 0.95\n",
            "Label: T1574, F1-score: 0.9\n",
            "Label: T1560, F1-score: 0.97\n",
            "Label: T1113, F1-score: 0.97\n",
            "Label: T1102, F1-score: 0.88\n",
            "Label: T1553, F1-score: 0.85\n",
            "Label: T1140, F1-score: 0.89\n",
            "Label: T1543, F1-score: 0.91\n",
            "Label: T1562, F1-score: 0.82\n",
            "Label: T1005, F1-score: 0.94\n",
            "Label: T1106, F1-score: 0.95\n",
            "Label: T1047, F1-score: 0.95\n",
            "Label: T1588, F1-score: 0.99\n",
            "Label: T1036, F1-score: 0.86\n",
            "Label: T1105, F1-score: 0.93\n",
            "Label: T1497, F1-score: 0.95\n",
            "Label: T1518, F1-score: 0.97\n",
            "Label: T1021, F1-score: 0.96\n",
            "Label: T1547, F1-score: 0.9\n",
            "Label: T1083, F1-score: 0.78\n",
            "Label: T1087, F1-score: 0.92\n",
            "Label: T1555, F1-score: 0.91\n",
            "Label: T1112, F1-score: 0.95\n",
            "Label: T1003, F1-score: 0.87\n",
            "Label: T1070, F1-score: 0.88\n",
            "Label: T1546, F1-score: 0.62\n",
            "Label: T1090, F1-score: 0.94\n",
            "Label: T1033, F1-score: 0.89\n",
            "Label: T1082, F1-score: 0.91\n",
            "Label: T1057, F1-score: 0.94\n",
            "Label: T1056, F1-score: 0.96\n",
            "Label: T1053, F1-score: 0.86\n",
            "Label: T1055, F1-score: 0.89\n",
            "Label: T1218, F1-score: 0.77\n",
            "Label: T1566, F1-score: 0.85\n",
            "Label: T1016, F1-score: 0.91\n",
            "Label: T1204, F1-score: 0.76\n",
            "\n",
            "Average F1-score: 0.9\n",
            "Min-Max: [0.62 - 0.99]\n"
          ]
        }
      ]
    },
    {
      "cell_type": "code",
      "source": [
        "# sciBERT F2-scores\n",
        "show_f_beta_scores(sciBERT_prfs, 2)"
      ],
      "metadata": {
        "colab": {
          "base_uri": "https://localhost:8080/"
        },
        "id": "VX2b3IblLy1l",
        "outputId": "19db1ee7-2ff0-4964-f4a5-98ea8bf35f72"
      },
      "execution_count": null,
      "outputs": [
        {
          "output_type": "stream",
          "name": "stdout",
          "text": [
            "Label: T1573, F2-score: 0.96\n",
            "Label: T1505, F2-score: 0.98\n",
            "Label: T1027, F2-score: 0.9\n",
            "Label: T1564, F2-score: 0.83\n",
            "Label: T1071, F2-score: 0.94\n",
            "Label: T1059, F2-score: 0.89\n",
            "Label: T1074, F2-score: 0.98\n",
            "Label: T1132, F2-score: 0.98\n",
            "Label: T1574, F2-score: 0.88\n",
            "Label: T1560, F2-score: 0.99\n",
            "Label: T1113, F2-score: 0.99\n",
            "Label: T1102, F2-score: 0.88\n",
            "Label: T1553, F2-score: 0.85\n",
            "Label: T1140, F2-score: 0.85\n",
            "Label: T1543, F2-score: 0.93\n",
            "Label: T1562, F2-score: 0.89\n",
            "Label: T1005, F2-score: 0.96\n",
            "Label: T1106, F2-score: 0.97\n",
            "Label: T1047, F2-score: 0.95\n",
            "Label: T1588, F2-score: 0.98\n",
            "Label: T1036, F2-score: 0.83\n",
            "Label: T1105, F2-score: 0.94\n",
            "Label: T1497, F2-score: 0.97\n",
            "Label: T1518, F2-score: 0.99\n",
            "Label: T1021, F2-score: 0.95\n",
            "Label: T1547, F2-score: 0.89\n",
            "Label: T1083, F2-score: 0.79\n",
            "Label: T1087, F2-score: 0.89\n",
            "Label: T1555, F2-score: 0.93\n",
            "Label: T1112, F2-score: 0.97\n",
            "Label: T1003, F2-score: 0.83\n",
            "Label: T1070, F2-score: 0.85\n",
            "Label: T1546, F2-score: 0.66\n",
            "Label: T1090, F2-score: 0.94\n",
            "Label: T1033, F2-score: 0.87\n",
            "Label: T1082, F2-score: 0.88\n",
            "Label: T1057, F2-score: 0.95\n",
            "Label: T1056, F2-score: 0.98\n",
            "Label: T1053, F2-score: 0.91\n",
            "Label: T1055, F2-score: 0.9\n",
            "Label: T1218, F2-score: 0.78\n",
            "Label: T1566, F2-score: 0.84\n",
            "Label: T1016, F2-score: 0.91\n",
            "Label: T1204, F2-score: 0.74\n",
            "\n",
            "Average F2-score: 0.9\n",
            "Min-Max: [0.66 - 0.99]\n"
          ]
        }
      ]
    },
    {
      "cell_type": "code",
      "source": [
        "# secBERT F1-scores\n",
        "show_f_beta_scores(secBERT_prfs)"
      ],
      "metadata": {
        "colab": {
          "base_uri": "https://localhost:8080/"
        },
        "id": "3SBn6Ej7DEiM",
        "outputId": "5d984cbc-8e27-4976-8930-d3086f84a18c"
      },
      "execution_count": null,
      "outputs": [
        {
          "output_type": "stream",
          "name": "stdout",
          "text": [
            "Label: T1573, F1-score: 0.9\n",
            "Label: T1505, F1-score: 0.96\n",
            "Label: T1027, F1-score: 0.86\n",
            "Label: T1564, F1-score: 0.76\n",
            "Label: T1071, F1-score: 0.94\n",
            "Label: T1059, F1-score: 0.9\n",
            "Label: T1074, F1-score: 0.96\n",
            "Label: T1132, F1-score: 0.99\n",
            "Label: T1574, F1-score: 0.8\n",
            "Label: T1560, F1-score: 0.95\n",
            "Label: T1113, F1-score: 1.0\n",
            "Label: T1102, F1-score: 0.87\n",
            "Label: T1553, F1-score: 0.88\n",
            "Label: T1140, F1-score: 0.77\n",
            "Label: T1543, F1-score: 0.82\n",
            "Label: T1562, F1-score: 0.84\n",
            "Label: T1005, F1-score: 0.96\n",
            "Label: T1106, F1-score: 0.96\n",
            "Label: T1047, F1-score: 0.98\n",
            "Label: T1588, F1-score: 0.99\n",
            "Label: T1036, F1-score: 0.82\n",
            "Label: T1105, F1-score: 0.89\n",
            "Label: T1497, F1-score: 0.97\n",
            "Label: T1518, F1-score: 0.95\n",
            "Label: T1021, F1-score: 0.92\n",
            "Label: T1547, F1-score: 0.82\n",
            "Label: T1083, F1-score: 0.8\n",
            "Label: T1087, F1-score: 0.96\n",
            "Label: T1555, F1-score: 0.9\n",
            "Label: T1112, F1-score: 0.89\n",
            "Label: T1003, F1-score: 0.8\n",
            "Label: T1070, F1-score: 0.83\n",
            "Label: T1546, F1-score: 0.61\n",
            "Label: T1090, F1-score: 0.96\n",
            "Label: T1033, F1-score: 0.91\n",
            "Label: T1082, F1-score: 0.88\n",
            "Label: T1057, F1-score: 0.89\n",
            "Label: T1056, F1-score: 0.96\n",
            "Label: T1053, F1-score: 0.97\n",
            "Label: T1055, F1-score: 0.89\n",
            "Label: T1218, F1-score: 0.79\n",
            "Label: T1566, F1-score: 0.83\n",
            "Label: T1016, F1-score: 0.87\n",
            "Label: T1204, F1-score: 0.87\n",
            "\n",
            "Average F1-score: 0.89\n",
            "Min-Max: [0.61 - 1.0]\n"
          ]
        }
      ]
    },
    {
      "cell_type": "code",
      "source": [
        "# secBERT F2-scores\n",
        "show_f_beta_scores(secBERT_prfs, 2)"
      ],
      "metadata": {
        "colab": {
          "base_uri": "https://localhost:8080/"
        },
        "id": "x-YjH23cLIVj",
        "outputId": "2dc842c0-f8b7-410f-98dd-a78d66d9ba84"
      },
      "execution_count": null,
      "outputs": [
        {
          "output_type": "stream",
          "name": "stdout",
          "text": [
            "Label: T1573, F2-score: 0.9\n",
            "Label: T1505, F2-score: 0.94\n",
            "Label: T1027, F2-score: 0.89\n",
            "Label: T1564, F2-score: 0.72\n",
            "Label: T1071, F2-score: 0.93\n",
            "Label: T1059, F2-score: 0.91\n",
            "Label: T1074, F2-score: 0.97\n",
            "Label: T1132, F2-score: 1.0\n",
            "Label: T1574, F2-score: 0.81\n",
            "Label: T1560, F2-score: 0.95\n",
            "Label: T1113, F2-score: 1.0\n",
            "Label: T1102, F2-score: 0.92\n",
            "Label: T1553, F2-score: 0.92\n",
            "Label: T1140, F2-score: 0.72\n",
            "Label: T1543, F2-score: 0.82\n",
            "Label: T1562, F2-score: 0.83\n",
            "Label: T1005, F2-score: 0.96\n",
            "Label: T1106, F2-score: 0.96\n",
            "Label: T1047, F2-score: 0.98\n",
            "Label: T1588, F2-score: 0.98\n",
            "Label: T1036, F2-score: 0.78\n",
            "Label: T1105, F2-score: 0.89\n",
            "Label: T1497, F2-score: 0.96\n",
            "Label: T1518, F2-score: 0.98\n",
            "Label: T1021, F2-score: 0.89\n",
            "Label: T1547, F2-score: 0.86\n",
            "Label: T1083, F2-score: 0.76\n",
            "Label: T1087, F2-score: 0.95\n",
            "Label: T1555, F2-score: 0.96\n",
            "Label: T1112, F2-score: 0.86\n",
            "Label: T1003, F2-score: 0.74\n",
            "Label: T1070, F2-score: 0.86\n",
            "Label: T1546, F2-score: 0.53\n",
            "Label: T1090, F2-score: 0.97\n",
            "Label: T1033, F2-score: 0.92\n",
            "Label: T1082, F2-score: 0.85\n",
            "Label: T1057, F2-score: 0.89\n",
            "Label: T1056, F2-score: 0.93\n",
            "Label: T1053, F2-score: 0.99\n",
            "Label: T1055, F2-score: 0.9\n",
            "Label: T1218, F2-score: 0.86\n",
            "Label: T1566, F2-score: 0.83\n",
            "Label: T1016, F2-score: 0.9\n",
            "Label: T1204, F2-score: 0.89\n",
            "\n",
            "Average F2-score: 0.89\n",
            "Min-Max: [0.53 - 1.0]\n"
          ]
        }
      ]
    },
    {
      "cell_type": "code",
      "source": [],
      "metadata": {
        "id": "DUXw18JFGZ1w"
      },
      "execution_count": null,
      "outputs": []
    }
  ]
}