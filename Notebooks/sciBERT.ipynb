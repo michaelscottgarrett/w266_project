{
  "nbformat": 4,
  "nbformat_minor": 0,
  "metadata": {
    "colab": {
      "provenance": [],
      "machine_shape": "hm",
      "gpuType": "T4"
    },
    "kernelspec": {
      "name": "python3",
      "display_name": "Python 3"
    },
    "language_info": {
      "name": "python"
    },
    "accelerator": "GPU",
    "widgets": {
      "application/vnd.jupyter.widget-state+json": {
        "0ab65d41f9cd41fd9f0958fcf144f7b2": {
          "model_module": "@jupyter-widgets/controls",
          "model_name": "HBoxModel",
          "model_module_version": "1.5.0",
          "state": {
            "_dom_classes": [],
            "_model_module": "@jupyter-widgets/controls",
            "_model_module_version": "1.5.0",
            "_model_name": "HBoxModel",
            "_view_count": null,
            "_view_module": "@jupyter-widgets/controls",
            "_view_module_version": "1.5.0",
            "_view_name": "HBoxView",
            "box_style": "",
            "children": [
              "IPY_MODEL_6f20db13f03b48f4aa7920e9a1605e76",
              "IPY_MODEL_dab08eff69c940378a8650ef4114e7fa",
              "IPY_MODEL_6e55ece466a64cc3a59307ab93302ef9"
            ],
            "layout": "IPY_MODEL_137e04d4f81046509d60e63380100cb9"
          }
        },
        "6f20db13f03b48f4aa7920e9a1605e76": {
          "model_module": "@jupyter-widgets/controls",
          "model_name": "HTMLModel",
          "model_module_version": "1.5.0",
          "state": {
            "_dom_classes": [],
            "_model_module": "@jupyter-widgets/controls",
            "_model_module_version": "1.5.0",
            "_model_name": "HTMLModel",
            "_view_count": null,
            "_view_module": "@jupyter-widgets/controls",
            "_view_module_version": "1.5.0",
            "_view_name": "HTMLView",
            "description": "",
            "description_tooltip": null,
            "layout": "IPY_MODEL_9e1c7a265e4646a890a00267ab5bb6be",
            "placeholder": "​",
            "style": "IPY_MODEL_e21a9f422e66406dac4dab8a1ad74be4",
            "value": "vocab.txt: 100%"
          }
        },
        "dab08eff69c940378a8650ef4114e7fa": {
          "model_module": "@jupyter-widgets/controls",
          "model_name": "FloatProgressModel",
          "model_module_version": "1.5.0",
          "state": {
            "_dom_classes": [],
            "_model_module": "@jupyter-widgets/controls",
            "_model_module_version": "1.5.0",
            "_model_name": "FloatProgressModel",
            "_view_count": null,
            "_view_module": "@jupyter-widgets/controls",
            "_view_module_version": "1.5.0",
            "_view_name": "ProgressView",
            "bar_style": "success",
            "description": "",
            "description_tooltip": null,
            "layout": "IPY_MODEL_113e985a69f24f16b7fef984826734bb",
            "max": 227845,
            "min": 0,
            "orientation": "horizontal",
            "style": "IPY_MODEL_524fbf98d3a54f2e8d3827339a06f033",
            "value": 227845
          }
        },
        "6e55ece466a64cc3a59307ab93302ef9": {
          "model_module": "@jupyter-widgets/controls",
          "model_name": "HTMLModel",
          "model_module_version": "1.5.0",
          "state": {
            "_dom_classes": [],
            "_model_module": "@jupyter-widgets/controls",
            "_model_module_version": "1.5.0",
            "_model_name": "HTMLModel",
            "_view_count": null,
            "_view_module": "@jupyter-widgets/controls",
            "_view_module_version": "1.5.0",
            "_view_name": "HTMLView",
            "description": "",
            "description_tooltip": null,
            "layout": "IPY_MODEL_191153c624544ceb91fb6d84558e1f46",
            "placeholder": "​",
            "style": "IPY_MODEL_6e1a3973921542ecb1ba81ce8fbaf248",
            "value": " 228k/228k [00:00&lt;00:00, 13.5MB/s]"
          }
        },
        "137e04d4f81046509d60e63380100cb9": {
          "model_module": "@jupyter-widgets/base",
          "model_name": "LayoutModel",
          "model_module_version": "1.2.0",
          "state": {
            "_model_module": "@jupyter-widgets/base",
            "_model_module_version": "1.2.0",
            "_model_name": "LayoutModel",
            "_view_count": null,
            "_view_module": "@jupyter-widgets/base",
            "_view_module_version": "1.2.0",
            "_view_name": "LayoutView",
            "align_content": null,
            "align_items": null,
            "align_self": null,
            "border": null,
            "bottom": null,
            "display": null,
            "flex": null,
            "flex_flow": null,
            "grid_area": null,
            "grid_auto_columns": null,
            "grid_auto_flow": null,
            "grid_auto_rows": null,
            "grid_column": null,
            "grid_gap": null,
            "grid_row": null,
            "grid_template_areas": null,
            "grid_template_columns": null,
            "grid_template_rows": null,
            "height": null,
            "justify_content": null,
            "justify_items": null,
            "left": null,
            "margin": null,
            "max_height": null,
            "max_width": null,
            "min_height": null,
            "min_width": null,
            "object_fit": null,
            "object_position": null,
            "order": null,
            "overflow": null,
            "overflow_x": null,
            "overflow_y": null,
            "padding": null,
            "right": null,
            "top": null,
            "visibility": null,
            "width": null
          }
        },
        "9e1c7a265e4646a890a00267ab5bb6be": {
          "model_module": "@jupyter-widgets/base",
          "model_name": "LayoutModel",
          "model_module_version": "1.2.0",
          "state": {
            "_model_module": "@jupyter-widgets/base",
            "_model_module_version": "1.2.0",
            "_model_name": "LayoutModel",
            "_view_count": null,
            "_view_module": "@jupyter-widgets/base",
            "_view_module_version": "1.2.0",
            "_view_name": "LayoutView",
            "align_content": null,
            "align_items": null,
            "align_self": null,
            "border": null,
            "bottom": null,
            "display": null,
            "flex": null,
            "flex_flow": null,
            "grid_area": null,
            "grid_auto_columns": null,
            "grid_auto_flow": null,
            "grid_auto_rows": null,
            "grid_column": null,
            "grid_gap": null,
            "grid_row": null,
            "grid_template_areas": null,
            "grid_template_columns": null,
            "grid_template_rows": null,
            "height": null,
            "justify_content": null,
            "justify_items": null,
            "left": null,
            "margin": null,
            "max_height": null,
            "max_width": null,
            "min_height": null,
            "min_width": null,
            "object_fit": null,
            "object_position": null,
            "order": null,
            "overflow": null,
            "overflow_x": null,
            "overflow_y": null,
            "padding": null,
            "right": null,
            "top": null,
            "visibility": null,
            "width": null
          }
        },
        "e21a9f422e66406dac4dab8a1ad74be4": {
          "model_module": "@jupyter-widgets/controls",
          "model_name": "DescriptionStyleModel",
          "model_module_version": "1.5.0",
          "state": {
            "_model_module": "@jupyter-widgets/controls",
            "_model_module_version": "1.5.0",
            "_model_name": "DescriptionStyleModel",
            "_view_count": null,
            "_view_module": "@jupyter-widgets/base",
            "_view_module_version": "1.2.0",
            "_view_name": "StyleView",
            "description_width": ""
          }
        },
        "113e985a69f24f16b7fef984826734bb": {
          "model_module": "@jupyter-widgets/base",
          "model_name": "LayoutModel",
          "model_module_version": "1.2.0",
          "state": {
            "_model_module": "@jupyter-widgets/base",
            "_model_module_version": "1.2.0",
            "_model_name": "LayoutModel",
            "_view_count": null,
            "_view_module": "@jupyter-widgets/base",
            "_view_module_version": "1.2.0",
            "_view_name": "LayoutView",
            "align_content": null,
            "align_items": null,
            "align_self": null,
            "border": null,
            "bottom": null,
            "display": null,
            "flex": null,
            "flex_flow": null,
            "grid_area": null,
            "grid_auto_columns": null,
            "grid_auto_flow": null,
            "grid_auto_rows": null,
            "grid_column": null,
            "grid_gap": null,
            "grid_row": null,
            "grid_template_areas": null,
            "grid_template_columns": null,
            "grid_template_rows": null,
            "height": null,
            "justify_content": null,
            "justify_items": null,
            "left": null,
            "margin": null,
            "max_height": null,
            "max_width": null,
            "min_height": null,
            "min_width": null,
            "object_fit": null,
            "object_position": null,
            "order": null,
            "overflow": null,
            "overflow_x": null,
            "overflow_y": null,
            "padding": null,
            "right": null,
            "top": null,
            "visibility": null,
            "width": null
          }
        },
        "524fbf98d3a54f2e8d3827339a06f033": {
          "model_module": "@jupyter-widgets/controls",
          "model_name": "ProgressStyleModel",
          "model_module_version": "1.5.0",
          "state": {
            "_model_module": "@jupyter-widgets/controls",
            "_model_module_version": "1.5.0",
            "_model_name": "ProgressStyleModel",
            "_view_count": null,
            "_view_module": "@jupyter-widgets/base",
            "_view_module_version": "1.2.0",
            "_view_name": "StyleView",
            "bar_color": null,
            "description_width": ""
          }
        },
        "191153c624544ceb91fb6d84558e1f46": {
          "model_module": "@jupyter-widgets/base",
          "model_name": "LayoutModel",
          "model_module_version": "1.2.0",
          "state": {
            "_model_module": "@jupyter-widgets/base",
            "_model_module_version": "1.2.0",
            "_model_name": "LayoutModel",
            "_view_count": null,
            "_view_module": "@jupyter-widgets/base",
            "_view_module_version": "1.2.0",
            "_view_name": "LayoutView",
            "align_content": null,
            "align_items": null,
            "align_self": null,
            "border": null,
            "bottom": null,
            "display": null,
            "flex": null,
            "flex_flow": null,
            "grid_area": null,
            "grid_auto_columns": null,
            "grid_auto_flow": null,
            "grid_auto_rows": null,
            "grid_column": null,
            "grid_gap": null,
            "grid_row": null,
            "grid_template_areas": null,
            "grid_template_columns": null,
            "grid_template_rows": null,
            "height": null,
            "justify_content": null,
            "justify_items": null,
            "left": null,
            "margin": null,
            "max_height": null,
            "max_width": null,
            "min_height": null,
            "min_width": null,
            "object_fit": null,
            "object_position": null,
            "order": null,
            "overflow": null,
            "overflow_x": null,
            "overflow_y": null,
            "padding": null,
            "right": null,
            "top": null,
            "visibility": null,
            "width": null
          }
        },
        "6e1a3973921542ecb1ba81ce8fbaf248": {
          "model_module": "@jupyter-widgets/controls",
          "model_name": "DescriptionStyleModel",
          "model_module_version": "1.5.0",
          "state": {
            "_model_module": "@jupyter-widgets/controls",
            "_model_module_version": "1.5.0",
            "_model_name": "DescriptionStyleModel",
            "_view_count": null,
            "_view_module": "@jupyter-widgets/base",
            "_view_module_version": "1.2.0",
            "_view_name": "StyleView",
            "description_width": ""
          }
        },
        "02eaa297f5744851a0a70041a84d7f4f": {
          "model_module": "@jupyter-widgets/controls",
          "model_name": "HBoxModel",
          "model_module_version": "1.5.0",
          "state": {
            "_dom_classes": [],
            "_model_module": "@jupyter-widgets/controls",
            "_model_module_version": "1.5.0",
            "_model_name": "HBoxModel",
            "_view_count": null,
            "_view_module": "@jupyter-widgets/controls",
            "_view_module_version": "1.5.0",
            "_view_name": "HBoxView",
            "box_style": "",
            "children": [
              "IPY_MODEL_ea0eaffffb7b46da9ac16a277f44d1e8",
              "IPY_MODEL_e1c0c0a72eaf4a6f9b1402ca0b6dd77c",
              "IPY_MODEL_225c0ef0ff194c4cb2f8f858cc8fff41"
            ],
            "layout": "IPY_MODEL_ef754304cd214b6d86d1c34e6c84a1e3"
          }
        },
        "ea0eaffffb7b46da9ac16a277f44d1e8": {
          "model_module": "@jupyter-widgets/controls",
          "model_name": "HTMLModel",
          "model_module_version": "1.5.0",
          "state": {
            "_dom_classes": [],
            "_model_module": "@jupyter-widgets/controls",
            "_model_module_version": "1.5.0",
            "_model_name": "HTMLModel",
            "_view_count": null,
            "_view_module": "@jupyter-widgets/controls",
            "_view_module_version": "1.5.0",
            "_view_name": "HTMLView",
            "description": "",
            "description_tooltip": null,
            "layout": "IPY_MODEL_f3e3eb01417d4547ab97150a55b291dc",
            "placeholder": "​",
            "style": "IPY_MODEL_49886d901274434c9557fa2c3a038ace",
            "value": "config.json: 100%"
          }
        },
        "e1c0c0a72eaf4a6f9b1402ca0b6dd77c": {
          "model_module": "@jupyter-widgets/controls",
          "model_name": "FloatProgressModel",
          "model_module_version": "1.5.0",
          "state": {
            "_dom_classes": [],
            "_model_module": "@jupyter-widgets/controls",
            "_model_module_version": "1.5.0",
            "_model_name": "FloatProgressModel",
            "_view_count": null,
            "_view_module": "@jupyter-widgets/controls",
            "_view_module_version": "1.5.0",
            "_view_name": "ProgressView",
            "bar_style": "success",
            "description": "",
            "description_tooltip": null,
            "layout": "IPY_MODEL_214f2eb72e33445f9248cdcb44d45987",
            "max": 385,
            "min": 0,
            "orientation": "horizontal",
            "style": "IPY_MODEL_62f48319f8fe46e28d97b1a7d9f66e38",
            "value": 385
          }
        },
        "225c0ef0ff194c4cb2f8f858cc8fff41": {
          "model_module": "@jupyter-widgets/controls",
          "model_name": "HTMLModel",
          "model_module_version": "1.5.0",
          "state": {
            "_dom_classes": [],
            "_model_module": "@jupyter-widgets/controls",
            "_model_module_version": "1.5.0",
            "_model_name": "HTMLModel",
            "_view_count": null,
            "_view_module": "@jupyter-widgets/controls",
            "_view_module_version": "1.5.0",
            "_view_name": "HTMLView",
            "description": "",
            "description_tooltip": null,
            "layout": "IPY_MODEL_8db94e1909b34168b88a9e0d80a9c6e4",
            "placeholder": "​",
            "style": "IPY_MODEL_17daf2a16eb74362be57c45c31ee97e8",
            "value": " 385/385 [00:00&lt;00:00, 35.4kB/s]"
          }
        },
        "ef754304cd214b6d86d1c34e6c84a1e3": {
          "model_module": "@jupyter-widgets/base",
          "model_name": "LayoutModel",
          "model_module_version": "1.2.0",
          "state": {
            "_model_module": "@jupyter-widgets/base",
            "_model_module_version": "1.2.0",
            "_model_name": "LayoutModel",
            "_view_count": null,
            "_view_module": "@jupyter-widgets/base",
            "_view_module_version": "1.2.0",
            "_view_name": "LayoutView",
            "align_content": null,
            "align_items": null,
            "align_self": null,
            "border": null,
            "bottom": null,
            "display": null,
            "flex": null,
            "flex_flow": null,
            "grid_area": null,
            "grid_auto_columns": null,
            "grid_auto_flow": null,
            "grid_auto_rows": null,
            "grid_column": null,
            "grid_gap": null,
            "grid_row": null,
            "grid_template_areas": null,
            "grid_template_columns": null,
            "grid_template_rows": null,
            "height": null,
            "justify_content": null,
            "justify_items": null,
            "left": null,
            "margin": null,
            "max_height": null,
            "max_width": null,
            "min_height": null,
            "min_width": null,
            "object_fit": null,
            "object_position": null,
            "order": null,
            "overflow": null,
            "overflow_x": null,
            "overflow_y": null,
            "padding": null,
            "right": null,
            "top": null,
            "visibility": null,
            "width": null
          }
        },
        "f3e3eb01417d4547ab97150a55b291dc": {
          "model_module": "@jupyter-widgets/base",
          "model_name": "LayoutModel",
          "model_module_version": "1.2.0",
          "state": {
            "_model_module": "@jupyter-widgets/base",
            "_model_module_version": "1.2.0",
            "_model_name": "LayoutModel",
            "_view_count": null,
            "_view_module": "@jupyter-widgets/base",
            "_view_module_version": "1.2.0",
            "_view_name": "LayoutView",
            "align_content": null,
            "align_items": null,
            "align_self": null,
            "border": null,
            "bottom": null,
            "display": null,
            "flex": null,
            "flex_flow": null,
            "grid_area": null,
            "grid_auto_columns": null,
            "grid_auto_flow": null,
            "grid_auto_rows": null,
            "grid_column": null,
            "grid_gap": null,
            "grid_row": null,
            "grid_template_areas": null,
            "grid_template_columns": null,
            "grid_template_rows": null,
            "height": null,
            "justify_content": null,
            "justify_items": null,
            "left": null,
            "margin": null,
            "max_height": null,
            "max_width": null,
            "min_height": null,
            "min_width": null,
            "object_fit": null,
            "object_position": null,
            "order": null,
            "overflow": null,
            "overflow_x": null,
            "overflow_y": null,
            "padding": null,
            "right": null,
            "top": null,
            "visibility": null,
            "width": null
          }
        },
        "49886d901274434c9557fa2c3a038ace": {
          "model_module": "@jupyter-widgets/controls",
          "model_name": "DescriptionStyleModel",
          "model_module_version": "1.5.0",
          "state": {
            "_model_module": "@jupyter-widgets/controls",
            "_model_module_version": "1.5.0",
            "_model_name": "DescriptionStyleModel",
            "_view_count": null,
            "_view_module": "@jupyter-widgets/base",
            "_view_module_version": "1.2.0",
            "_view_name": "StyleView",
            "description_width": ""
          }
        },
        "214f2eb72e33445f9248cdcb44d45987": {
          "model_module": "@jupyter-widgets/base",
          "model_name": "LayoutModel",
          "model_module_version": "1.2.0",
          "state": {
            "_model_module": "@jupyter-widgets/base",
            "_model_module_version": "1.2.0",
            "_model_name": "LayoutModel",
            "_view_count": null,
            "_view_module": "@jupyter-widgets/base",
            "_view_module_version": "1.2.0",
            "_view_name": "LayoutView",
            "align_content": null,
            "align_items": null,
            "align_self": null,
            "border": null,
            "bottom": null,
            "display": null,
            "flex": null,
            "flex_flow": null,
            "grid_area": null,
            "grid_auto_columns": null,
            "grid_auto_flow": null,
            "grid_auto_rows": null,
            "grid_column": null,
            "grid_gap": null,
            "grid_row": null,
            "grid_template_areas": null,
            "grid_template_columns": null,
            "grid_template_rows": null,
            "height": null,
            "justify_content": null,
            "justify_items": null,
            "left": null,
            "margin": null,
            "max_height": null,
            "max_width": null,
            "min_height": null,
            "min_width": null,
            "object_fit": null,
            "object_position": null,
            "order": null,
            "overflow": null,
            "overflow_x": null,
            "overflow_y": null,
            "padding": null,
            "right": null,
            "top": null,
            "visibility": null,
            "width": null
          }
        },
        "62f48319f8fe46e28d97b1a7d9f66e38": {
          "model_module": "@jupyter-widgets/controls",
          "model_name": "ProgressStyleModel",
          "model_module_version": "1.5.0",
          "state": {
            "_model_module": "@jupyter-widgets/controls",
            "_model_module_version": "1.5.0",
            "_model_name": "ProgressStyleModel",
            "_view_count": null,
            "_view_module": "@jupyter-widgets/base",
            "_view_module_version": "1.2.0",
            "_view_name": "StyleView",
            "bar_color": null,
            "description_width": ""
          }
        },
        "8db94e1909b34168b88a9e0d80a9c6e4": {
          "model_module": "@jupyter-widgets/base",
          "model_name": "LayoutModel",
          "model_module_version": "1.2.0",
          "state": {
            "_model_module": "@jupyter-widgets/base",
            "_model_module_version": "1.2.0",
            "_model_name": "LayoutModel",
            "_view_count": null,
            "_view_module": "@jupyter-widgets/base",
            "_view_module_version": "1.2.0",
            "_view_name": "LayoutView",
            "align_content": null,
            "align_items": null,
            "align_self": null,
            "border": null,
            "bottom": null,
            "display": null,
            "flex": null,
            "flex_flow": null,
            "grid_area": null,
            "grid_auto_columns": null,
            "grid_auto_flow": null,
            "grid_auto_rows": null,
            "grid_column": null,
            "grid_gap": null,
            "grid_row": null,
            "grid_template_areas": null,
            "grid_template_columns": null,
            "grid_template_rows": null,
            "height": null,
            "justify_content": null,
            "justify_items": null,
            "left": null,
            "margin": null,
            "max_height": null,
            "max_width": null,
            "min_height": null,
            "min_width": null,
            "object_fit": null,
            "object_position": null,
            "order": null,
            "overflow": null,
            "overflow_x": null,
            "overflow_y": null,
            "padding": null,
            "right": null,
            "top": null,
            "visibility": null,
            "width": null
          }
        },
        "17daf2a16eb74362be57c45c31ee97e8": {
          "model_module": "@jupyter-widgets/controls",
          "model_name": "DescriptionStyleModel",
          "model_module_version": "1.5.0",
          "state": {
            "_model_module": "@jupyter-widgets/controls",
            "_model_module_version": "1.5.0",
            "_model_name": "DescriptionStyleModel",
            "_view_count": null,
            "_view_module": "@jupyter-widgets/base",
            "_view_module_version": "1.2.0",
            "_view_name": "StyleView",
            "description_width": ""
          }
        },
        "4c22ca31c8e147688aeb0d171de2a8bd": {
          "model_module": "@jupyter-widgets/controls",
          "model_name": "HBoxModel",
          "model_module_version": "1.5.0",
          "state": {
            "_dom_classes": [],
            "_model_module": "@jupyter-widgets/controls",
            "_model_module_version": "1.5.0",
            "_model_name": "HBoxModel",
            "_view_count": null,
            "_view_module": "@jupyter-widgets/controls",
            "_view_module_version": "1.5.0",
            "_view_name": "HBoxView",
            "box_style": "",
            "children": [
              "IPY_MODEL_910700db2dc942839f94369523e5a217",
              "IPY_MODEL_595cbd00064446cd81260b377b7cc5df",
              "IPY_MODEL_981c4fdb668d4f77a49e40a8a3293136"
            ],
            "layout": "IPY_MODEL_0feb88825b564fe6b0d65799e8f34ddc"
          }
        },
        "910700db2dc942839f94369523e5a217": {
          "model_module": "@jupyter-widgets/controls",
          "model_name": "HTMLModel",
          "model_module_version": "1.5.0",
          "state": {
            "_dom_classes": [],
            "_model_module": "@jupyter-widgets/controls",
            "_model_module_version": "1.5.0",
            "_model_name": "HTMLModel",
            "_view_count": null,
            "_view_module": "@jupyter-widgets/controls",
            "_view_module_version": "1.5.0",
            "_view_name": "HTMLView",
            "description": "",
            "description_tooltip": null,
            "layout": "IPY_MODEL_ddc0eabd66dd444b9c2a9e91f82944f3",
            "placeholder": "​",
            "style": "IPY_MODEL_d31965e4e8b7480780ae16df41bb6e3b",
            "value": "pytorch_model.bin: 100%"
          }
        },
        "595cbd00064446cd81260b377b7cc5df": {
          "model_module": "@jupyter-widgets/controls",
          "model_name": "FloatProgressModel",
          "model_module_version": "1.5.0",
          "state": {
            "_dom_classes": [],
            "_model_module": "@jupyter-widgets/controls",
            "_model_module_version": "1.5.0",
            "_model_name": "FloatProgressModel",
            "_view_count": null,
            "_view_module": "@jupyter-widgets/controls",
            "_view_module_version": "1.5.0",
            "_view_name": "ProgressView",
            "bar_style": "success",
            "description": "",
            "description_tooltip": null,
            "layout": "IPY_MODEL_610603c5b3924596ac2d8c3b5164117f",
            "max": 442221694,
            "min": 0,
            "orientation": "horizontal",
            "style": "IPY_MODEL_ff458ebe67574ccd80cb3c07b96af1d7",
            "value": 442221694
          }
        },
        "981c4fdb668d4f77a49e40a8a3293136": {
          "model_module": "@jupyter-widgets/controls",
          "model_name": "HTMLModel",
          "model_module_version": "1.5.0",
          "state": {
            "_dom_classes": [],
            "_model_module": "@jupyter-widgets/controls",
            "_model_module_version": "1.5.0",
            "_model_name": "HTMLModel",
            "_view_count": null,
            "_view_module": "@jupyter-widgets/controls",
            "_view_module_version": "1.5.0",
            "_view_name": "HTMLView",
            "description": "",
            "description_tooltip": null,
            "layout": "IPY_MODEL_f032d4d2e8ad4a4583767bad0820b6c2",
            "placeholder": "​",
            "style": "IPY_MODEL_5d559eec7103497dac2d2e223a820fd8",
            "value": " 442M/442M [00:02&lt;00:00, 211MB/s]"
          }
        },
        "0feb88825b564fe6b0d65799e8f34ddc": {
          "model_module": "@jupyter-widgets/base",
          "model_name": "LayoutModel",
          "model_module_version": "1.2.0",
          "state": {
            "_model_module": "@jupyter-widgets/base",
            "_model_module_version": "1.2.0",
            "_model_name": "LayoutModel",
            "_view_count": null,
            "_view_module": "@jupyter-widgets/base",
            "_view_module_version": "1.2.0",
            "_view_name": "LayoutView",
            "align_content": null,
            "align_items": null,
            "align_self": null,
            "border": null,
            "bottom": null,
            "display": null,
            "flex": null,
            "flex_flow": null,
            "grid_area": null,
            "grid_auto_columns": null,
            "grid_auto_flow": null,
            "grid_auto_rows": null,
            "grid_column": null,
            "grid_gap": null,
            "grid_row": null,
            "grid_template_areas": null,
            "grid_template_columns": null,
            "grid_template_rows": null,
            "height": null,
            "justify_content": null,
            "justify_items": null,
            "left": null,
            "margin": null,
            "max_height": null,
            "max_width": null,
            "min_height": null,
            "min_width": null,
            "object_fit": null,
            "object_position": null,
            "order": null,
            "overflow": null,
            "overflow_x": null,
            "overflow_y": null,
            "padding": null,
            "right": null,
            "top": null,
            "visibility": null,
            "width": null
          }
        },
        "ddc0eabd66dd444b9c2a9e91f82944f3": {
          "model_module": "@jupyter-widgets/base",
          "model_name": "LayoutModel",
          "model_module_version": "1.2.0",
          "state": {
            "_model_module": "@jupyter-widgets/base",
            "_model_module_version": "1.2.0",
            "_model_name": "LayoutModel",
            "_view_count": null,
            "_view_module": "@jupyter-widgets/base",
            "_view_module_version": "1.2.0",
            "_view_name": "LayoutView",
            "align_content": null,
            "align_items": null,
            "align_self": null,
            "border": null,
            "bottom": null,
            "display": null,
            "flex": null,
            "flex_flow": null,
            "grid_area": null,
            "grid_auto_columns": null,
            "grid_auto_flow": null,
            "grid_auto_rows": null,
            "grid_column": null,
            "grid_gap": null,
            "grid_row": null,
            "grid_template_areas": null,
            "grid_template_columns": null,
            "grid_template_rows": null,
            "height": null,
            "justify_content": null,
            "justify_items": null,
            "left": null,
            "margin": null,
            "max_height": null,
            "max_width": null,
            "min_height": null,
            "min_width": null,
            "object_fit": null,
            "object_position": null,
            "order": null,
            "overflow": null,
            "overflow_x": null,
            "overflow_y": null,
            "padding": null,
            "right": null,
            "top": null,
            "visibility": null,
            "width": null
          }
        },
        "d31965e4e8b7480780ae16df41bb6e3b": {
          "model_module": "@jupyter-widgets/controls",
          "model_name": "DescriptionStyleModel",
          "model_module_version": "1.5.0",
          "state": {
            "_model_module": "@jupyter-widgets/controls",
            "_model_module_version": "1.5.0",
            "_model_name": "DescriptionStyleModel",
            "_view_count": null,
            "_view_module": "@jupyter-widgets/base",
            "_view_module_version": "1.2.0",
            "_view_name": "StyleView",
            "description_width": ""
          }
        },
        "610603c5b3924596ac2d8c3b5164117f": {
          "model_module": "@jupyter-widgets/base",
          "model_name": "LayoutModel",
          "model_module_version": "1.2.0",
          "state": {
            "_model_module": "@jupyter-widgets/base",
            "_model_module_version": "1.2.0",
            "_model_name": "LayoutModel",
            "_view_count": null,
            "_view_module": "@jupyter-widgets/base",
            "_view_module_version": "1.2.0",
            "_view_name": "LayoutView",
            "align_content": null,
            "align_items": null,
            "align_self": null,
            "border": null,
            "bottom": null,
            "display": null,
            "flex": null,
            "flex_flow": null,
            "grid_area": null,
            "grid_auto_columns": null,
            "grid_auto_flow": null,
            "grid_auto_rows": null,
            "grid_column": null,
            "grid_gap": null,
            "grid_row": null,
            "grid_template_areas": null,
            "grid_template_columns": null,
            "grid_template_rows": null,
            "height": null,
            "justify_content": null,
            "justify_items": null,
            "left": null,
            "margin": null,
            "max_height": null,
            "max_width": null,
            "min_height": null,
            "min_width": null,
            "object_fit": null,
            "object_position": null,
            "order": null,
            "overflow": null,
            "overflow_x": null,
            "overflow_y": null,
            "padding": null,
            "right": null,
            "top": null,
            "visibility": null,
            "width": null
          }
        },
        "ff458ebe67574ccd80cb3c07b96af1d7": {
          "model_module": "@jupyter-widgets/controls",
          "model_name": "ProgressStyleModel",
          "model_module_version": "1.5.0",
          "state": {
            "_model_module": "@jupyter-widgets/controls",
            "_model_module_version": "1.5.0",
            "_model_name": "ProgressStyleModel",
            "_view_count": null,
            "_view_module": "@jupyter-widgets/base",
            "_view_module_version": "1.2.0",
            "_view_name": "StyleView",
            "bar_color": null,
            "description_width": ""
          }
        },
        "f032d4d2e8ad4a4583767bad0820b6c2": {
          "model_module": "@jupyter-widgets/base",
          "model_name": "LayoutModel",
          "model_module_version": "1.2.0",
          "state": {
            "_model_module": "@jupyter-widgets/base",
            "_model_module_version": "1.2.0",
            "_model_name": "LayoutModel",
            "_view_count": null,
            "_view_module": "@jupyter-widgets/base",
            "_view_module_version": "1.2.0",
            "_view_name": "LayoutView",
            "align_content": null,
            "align_items": null,
            "align_self": null,
            "border": null,
            "bottom": null,
            "display": null,
            "flex": null,
            "flex_flow": null,
            "grid_area": null,
            "grid_auto_columns": null,
            "grid_auto_flow": null,
            "grid_auto_rows": null,
            "grid_column": null,
            "grid_gap": null,
            "grid_row": null,
            "grid_template_areas": null,
            "grid_template_columns": null,
            "grid_template_rows": null,
            "height": null,
            "justify_content": null,
            "justify_items": null,
            "left": null,
            "margin": null,
            "max_height": null,
            "max_width": null,
            "min_height": null,
            "min_width": null,
            "object_fit": null,
            "object_position": null,
            "order": null,
            "overflow": null,
            "overflow_x": null,
            "overflow_y": null,
            "padding": null,
            "right": null,
            "top": null,
            "visibility": null,
            "width": null
          }
        },
        "5d559eec7103497dac2d2e223a820fd8": {
          "model_module": "@jupyter-widgets/controls",
          "model_name": "DescriptionStyleModel",
          "model_module_version": "1.5.0",
          "state": {
            "_model_module": "@jupyter-widgets/controls",
            "_model_module_version": "1.5.0",
            "_model_name": "DescriptionStyleModel",
            "_view_count": null,
            "_view_module": "@jupyter-widgets/base",
            "_view_module_version": "1.2.0",
            "_view_name": "StyleView",
            "description_width": ""
          }
        }
      }
    }
  },
  "cells": [
    {
      "cell_type": "markdown",
      "source": [
        "# sciBERT Model\n",
        "This notebook contains the PyTorch code to fine-tune the pretrained sciBERT model. This model was trained on the following corpora:\n",
        "\n",
        "* [Semantic Scholar Corpus](https://github.com/allenai/s2orc)\n",
        "* [PubMed Abstracts](https://pubmed.ncbi.nlm.nih.gov/)"
      ],
      "metadata": {
        "id": "-pNqahT-WR7l"
      }
    },
    {
      "cell_type": "code",
      "execution_count": null,
      "metadata": {
        "id": "9GPNZMRr_ykE",
        "colab": {
          "base_uri": "https://localhost:8080/"
        },
        "outputId": "ee2330fd-7274-46a1-d5e4-9a817e1232a5"
      },
      "outputs": [
        {
          "output_type": "stream",
          "name": "stdout",
          "text": [
            "Versions of Imports\n",
            "-------------------\n",
            "Numpy: \t\t1.26.4\n",
            "Pandas: \t2.1.4\n",
            "PyTorch: \t2.3.1+cu121\n"
          ]
        }
      ],
      "source": [
        "print(\"Versions of Imports\")\n",
        "print(\"-------------------\")\n",
        "\n",
        "# Data Analysis\n",
        "import numpy as np\n",
        "print(f'Numpy: \\t\\t{np.__version__}')\n",
        "import pandas as pd\n",
        "print(f'Pandas: \\t{pd.__version__}')\n",
        "\n",
        "# PyTorch\n",
        "import torch\n",
        "print(f'PyTorch: \\t{torch.__version__}')\n",
        "import torch.nn as nn\n",
        "from torch.optim import AdamW\n",
        "from torch.utils.data import Dataset\n",
        "from torch.utils.data import DataLoader\n",
        "\n",
        "# Scikit-Learn\n",
        "from sklearn.preprocessing import LabelEncoder\n",
        "from sklearn.metrics import classification_report\n",
        "from sklearn.metrics import confusion_matrix\n",
        "\n",
        "# Visualization\n",
        "import matplotlib.pyplot as plt\n",
        "import seaborn as sns\n",
        "\n",
        "# HuggingFace\n",
        "from transformers import BertTokenizer, BertForSequenceClassification\n",
        "\n",
        "# Utility\n",
        "from tqdm import tqdm\n",
        "\n",
        "# Google Colab\n",
        "from google.colab import drive"
      ]
    },
    {
      "cell_type": "code",
      "source": [
        "drive.mount('/content/drive')\n",
        "file_path = '/content/drive/MyDrive/Colab Notebooks/'\n",
        "train_df = pd.read_csv(file_path + 'train_df.csv')\n",
        "val_df = pd.read_csv(file_path + 'val_df.csv')\n",
        "test_df = pd.read_csv(file_path + 'test_df.csv')"
      ],
      "metadata": {
        "colab": {
          "base_uri": "https://localhost:8080/"
        },
        "id": "G7i1V1umj53a",
        "outputId": "d8e43fa2-adbe-43a3-ad37-fead7dbdba25"
      },
      "execution_count": null,
      "outputs": [
        {
          "output_type": "stream",
          "name": "stdout",
          "text": [
            "Mounted at /content/drive\n"
          ]
        }
      ]
    },
    {
      "cell_type": "code",
      "source": [
        "print(train_df.head())\n",
        "print(val_df.head())\n",
        "print(test_df.head())"
      ],
      "metadata": {
        "colab": {
          "base_uri": "https://localhost:8080/"
        },
        "id": "jfJQsypdKjPu",
        "outputId": "edb1622f-90c7-405a-c7d6-db982845655b"
      },
      "execution_count": null,
      "outputs": [
        {
          "output_type": "stream",
          "name": "stdout",
          "text": [
            "                                                text labels\n",
            "0  Penquin can encrypt communications using the B...  T1573\n",
            "1  Kimsuky to used modified versions of open sour...  T1505\n",
            "2  FatDuke can use base64 encoding, string stacki...  T1027\n",
            "3  Files and folders that start with a default, ‘...  T1564\n",
            "4  LookBack’s C2 proxy tool sends data to a C2 se...  T1071\n",
            "                                                text labels\n",
            "0  The Azure CLI  also provides an interface to o...  T1087\n",
            "1  Proc memory injection is commonly performed by...  T1055\n",
            "2  SpicyOmelette has collected data and other inf...  T1005\n",
            "3  After Comnie has been copied to the %TEMP% dir...  T1074\n",
            "4  Kernel extensions, also called kext, are used ...  T1547\n",
            "                                                text labels\n",
            "0  Sandworm Team has event logging on compromised...  T1562\n",
            "1  Background From October 2012 to May 2014, Fire...  T1071\n",
            "2  The trap command allows programs and shells to...  T1546\n",
            "3             APT37 obfuscates strings and payloads.  T1027\n",
            "4                                           winlogon  T1547\n"
          ]
        }
      ]
    },
    {
      "cell_type": "markdown",
      "source": [
        "## Hyperparameters\n",
        "This block of code mimics MITRE's TRAM hyperparameters. The learning rate, number of epochs, batch size and max sequence length all match their hyperparameters. The number of classes is slightly reduced from their number of 50 classes. This is a result of the dataset I found on HuggingFace."
      ],
      "metadata": {
        "id": "lEGcPQQ8XyWV"
      }
    },
    {
      "cell_type": "code",
      "source": [
        "model_name = 'allenai/scibert_scivocab_uncased'\n",
        "num_labels = 44\n",
        "max_length = 512\n",
        "batch_size = 10\n",
        "epochs = 5\n",
        "learning_rate = 2e-5"
      ],
      "metadata": {
        "id": "S5WdcfXWK8S0"
      },
      "execution_count": null,
      "outputs": []
    },
    {
      "cell_type": "markdown",
      "source": [
        "## Model Architecture\n",
        "MITRE used the BertForSequenceClassification which is a HuggingFace transformer that includes a classification head (softmax) on top of a pooled output layer. This simplifies the creation of the model and accomplishes the downstream task of performing multiclass classification. All that is needed is the model name and the number of classes which in the case of this experiment is 44."
      ],
      "metadata": {
        "id": "u0zZLIEAX4Gt"
      }
    },
    {
      "cell_type": "code",
      "source": [
        "tokenizer = BertTokenizer.from_pretrained(model_name)\n",
        "model = BertForSequenceClassification.from_pretrained(model_name,\n",
        "                                                      num_labels=num_labels)"
      ],
      "metadata": {
        "colab": {
          "base_uri": "https://localhost:8080/",
          "height": 168,
          "referenced_widgets": [
            "0ab65d41f9cd41fd9f0958fcf144f7b2",
            "6f20db13f03b48f4aa7920e9a1605e76",
            "dab08eff69c940378a8650ef4114e7fa",
            "6e55ece466a64cc3a59307ab93302ef9",
            "137e04d4f81046509d60e63380100cb9",
            "9e1c7a265e4646a890a00267ab5bb6be",
            "e21a9f422e66406dac4dab8a1ad74be4",
            "113e985a69f24f16b7fef984826734bb",
            "524fbf98d3a54f2e8d3827339a06f033",
            "191153c624544ceb91fb6d84558e1f46",
            "6e1a3973921542ecb1ba81ce8fbaf248",
            "02eaa297f5744851a0a70041a84d7f4f",
            "ea0eaffffb7b46da9ac16a277f44d1e8",
            "e1c0c0a72eaf4a6f9b1402ca0b6dd77c",
            "225c0ef0ff194c4cb2f8f858cc8fff41",
            "ef754304cd214b6d86d1c34e6c84a1e3",
            "f3e3eb01417d4547ab97150a55b291dc",
            "49886d901274434c9557fa2c3a038ace",
            "214f2eb72e33445f9248cdcb44d45987",
            "62f48319f8fe46e28d97b1a7d9f66e38",
            "8db94e1909b34168b88a9e0d80a9c6e4",
            "17daf2a16eb74362be57c45c31ee97e8",
            "4c22ca31c8e147688aeb0d171de2a8bd",
            "910700db2dc942839f94369523e5a217",
            "595cbd00064446cd81260b377b7cc5df",
            "981c4fdb668d4f77a49e40a8a3293136",
            "0feb88825b564fe6b0d65799e8f34ddc",
            "ddc0eabd66dd444b9c2a9e91f82944f3",
            "d31965e4e8b7480780ae16df41bb6e3b",
            "610603c5b3924596ac2d8c3b5164117f",
            "ff458ebe67574ccd80cb3c07b96af1d7",
            "f032d4d2e8ad4a4583767bad0820b6c2",
            "5d559eec7103497dac2d2e223a820fd8"
          ]
        },
        "id": "TLEduQRBK2To",
        "outputId": "753d6d59-07d3-41b1-a387-78c798a39e9a"
      },
      "execution_count": null,
      "outputs": [
        {
          "output_type": "display_data",
          "data": {
            "text/plain": [
              "vocab.txt:   0%|          | 0.00/228k [00:00<?, ?B/s]"
            ],
            "application/vnd.jupyter.widget-view+json": {
              "version_major": 2,
              "version_minor": 0,
              "model_id": "0ab65d41f9cd41fd9f0958fcf144f7b2"
            }
          },
          "metadata": {}
        },
        {
          "output_type": "display_data",
          "data": {
            "text/plain": [
              "config.json:   0%|          | 0.00/385 [00:00<?, ?B/s]"
            ],
            "application/vnd.jupyter.widget-view+json": {
              "version_major": 2,
              "version_minor": 0,
              "model_id": "02eaa297f5744851a0a70041a84d7f4f"
            }
          },
          "metadata": {}
        },
        {
          "output_type": "display_data",
          "data": {
            "text/plain": [
              "pytorch_model.bin:   0%|          | 0.00/442M [00:00<?, ?B/s]"
            ],
            "application/vnd.jupyter.widget-view+json": {
              "version_major": 2,
              "version_minor": 0,
              "model_id": "4c22ca31c8e147688aeb0d171de2a8bd"
            }
          },
          "metadata": {}
        },
        {
          "output_type": "stream",
          "name": "stderr",
          "text": [
            "Some weights of BertForSequenceClassification were not initialized from the model checkpoint at allenai/scibert_scivocab_uncased and are newly initialized: ['classifier.bias', 'classifier.weight']\n",
            "You should probably TRAIN this model on a down-stream task to be able to use it for predictions and inference.\n"
          ]
        }
      ]
    },
    {
      "cell_type": "markdown",
      "source": [
        "## Tokenize and Encode\n",
        "The first code block sets up a custom PyTorch dataset for text classification, handling the tokenization of text data and conversion of labels into tensor format. The resulting datasets (train_dataset, val_dataset, test_dataset) can then be used with a PyTorch DataLoader for training and evaluating a model.\n",
        "\n",
        "The second code segment sets up data loaders for the training, validation, and test datasets. The DataLoader class is used to wrap a dataset and provides an iterable over the dataset, enabling batch processing, shuffling, and parallel data loading. The train_loader shuffles the data at the beginning of each epoch to improve training, while val_loader and test_loader provide batches of data without shuffling. These data loaders will be used during the training and evaluation phases to efficiently feed data to the model in batches."
      ],
      "metadata": {
        "id": "DgwffgnHX9R1"
      }
    },
    {
      "cell_type": "code",
      "source": [
        "class TextDataset(Dataset):\n",
        "    def __init__(self, texts, labels, tokenizer, max_length=max_length):\n",
        "        self.encodings = tokenizer(texts.tolist(),\n",
        "                                   truncation=True,\n",
        "                                   padding='max_length',\n",
        "                                   max_length=max_length,\n",
        "                                   return_tensors='pt')\n",
        "        self.labels = torch.tensor([label_map[label] for label in labels],\n",
        "                                   dtype=torch.long)\n",
        "\n",
        "    # Return the number of samples in the dataset\n",
        "    def __len__(self):\n",
        "        return len(self.labels)\n",
        "\n",
        "    # Return a single sample form the dataset\n",
        "    def __getitem__(self, idx):\n",
        "        item = {key: torch.tensor(val[idx]) for key, val in self.encodings.items()}\n",
        "        item['labels'] = self.labels[idx]\n",
        "        return item\n",
        "\n",
        "# Create label map by converting string labels to ints\n",
        "label_map = {label: idx for idx, label in enumerate(train_df['labels'].unique())}\n",
        "\n",
        "# Create datasets\n",
        "train_dataset = TextDataset(train_df['text'], train_df['labels'], tokenizer)\n",
        "val_dataset = TextDataset(val_df['text'], val_df['labels'], tokenizer)\n",
        "test_dataset = TextDataset(test_df['text'], test_df['labels'], tokenizer)"
      ],
      "metadata": {
        "id": "ijUTqriiLRyw"
      },
      "execution_count": null,
      "outputs": []
    },
    {
      "cell_type": "code",
      "source": [
        "train_loader = DataLoader(train_dataset, batch_size=batch_size, shuffle=True)\n",
        "val_loader = DataLoader(val_dataset, batch_size=batch_size)\n",
        "test_loader = DataLoader(test_dataset, batch_size=batch_size)"
      ],
      "metadata": {
        "id": "ZL9uopt7Lx91"
      },
      "execution_count": null,
      "outputs": []
    },
    {
      "cell_type": "markdown",
      "source": [
        "## Optimization\n",
        "AdamW was used by the TRAM project so I will use it here. AdamW is an extension of Adam that includes decoupled weight decay regularization. This helps prevent overfitting by adding a penalty to the loss function proportional to the sum of the squared weights. [Loshchilov et. al.](https://www.google.com/url?q=https%3A%2F%2Farxiv.org%2Fpdf%2F1711.05101) explains the differences between the two far better than I can here.\n",
        "\n",
        "The model.parameters() call eturns an iterator over the model's parameters providing access to all the parameters that the optimizer will update during training, including weights and biases for each layer of the model."
      ],
      "metadata": {
        "id": "2C_UG5x8YWLl"
      }
    },
    {
      "cell_type": "code",
      "source": [
        "optimizer = AdamW(model.parameters(), lr=learning_rate)"
      ],
      "metadata": {
        "id": "9Fy9_euzL4YA"
      },
      "execution_count": null,
      "outputs": []
    },
    {
      "cell_type": "markdown",
      "source": [
        "The following code segment was something completely new to me. TensorFlow manages devices automatically whereas PyTorch requires you to explicitly define it.\n",
        "\n",
        "The conditional expression (torch.cuda.is_available()) checks if a GPU is available and if CUDA (NVIDIA's parallel computing platform) is installed and operational. If so, it sets device to use the GPU; otherwise, it defaults to the CPU."
      ],
      "metadata": {
        "id": "fX3QBawvYdFc"
      }
    },
    {
      "cell_type": "code",
      "source": [
        "device = torch.device('cuda') if torch.cuda.is_available() else torch.device('cpu')\n",
        "model.to(device)"
      ],
      "metadata": {
        "colab": {
          "base_uri": "https://localhost:8080/"
        },
        "id": "QcDvD-iLMetj",
        "outputId": "7f75e8fa-6758-4ccd-b24d-034d3e90bfa9"
      },
      "execution_count": null,
      "outputs": [
        {
          "output_type": "execute_result",
          "data": {
            "text/plain": [
              "BertForSequenceClassification(\n",
              "  (bert): BertModel(\n",
              "    (embeddings): BertEmbeddings(\n",
              "      (word_embeddings): Embedding(31090, 768, padding_idx=0)\n",
              "      (position_embeddings): Embedding(512, 768)\n",
              "      (token_type_embeddings): Embedding(2, 768)\n",
              "      (LayerNorm): LayerNorm((768,), eps=1e-12, elementwise_affine=True)\n",
              "      (dropout): Dropout(p=0.1, inplace=False)\n",
              "    )\n",
              "    (encoder): BertEncoder(\n",
              "      (layer): ModuleList(\n",
              "        (0-11): 12 x BertLayer(\n",
              "          (attention): BertAttention(\n",
              "            (self): BertSdpaSelfAttention(\n",
              "              (query): Linear(in_features=768, out_features=768, bias=True)\n",
              "              (key): Linear(in_features=768, out_features=768, bias=True)\n",
              "              (value): Linear(in_features=768, out_features=768, bias=True)\n",
              "              (dropout): Dropout(p=0.1, inplace=False)\n",
              "            )\n",
              "            (output): BertSelfOutput(\n",
              "              (dense): Linear(in_features=768, out_features=768, bias=True)\n",
              "              (LayerNorm): LayerNorm((768,), eps=1e-12, elementwise_affine=True)\n",
              "              (dropout): Dropout(p=0.1, inplace=False)\n",
              "            )\n",
              "          )\n",
              "          (intermediate): BertIntermediate(\n",
              "            (dense): Linear(in_features=768, out_features=3072, bias=True)\n",
              "            (intermediate_act_fn): GELUActivation()\n",
              "          )\n",
              "          (output): BertOutput(\n",
              "            (dense): Linear(in_features=3072, out_features=768, bias=True)\n",
              "            (LayerNorm): LayerNorm((768,), eps=1e-12, elementwise_affine=True)\n",
              "            (dropout): Dropout(p=0.1, inplace=False)\n",
              "          )\n",
              "        )\n",
              "      )\n",
              "    )\n",
              "    (pooler): BertPooler(\n",
              "      (dense): Linear(in_features=768, out_features=768, bias=True)\n",
              "      (activation): Tanh()\n",
              "    )\n",
              "  )\n",
              "  (dropout): Dropout(p=0.1, inplace=False)\n",
              "  (classifier): Linear(in_features=768, out_features=44, bias=True)\n",
              ")"
            ]
          },
          "metadata": {},
          "execution_count": 9
        }
      ]
    },
    {
      "cell_type": "markdown",
      "source": [
        "This code block trains the model for one epoch calculating the loss and accuracy over the entire dataset. It returns the average loss per batch and the accuracy for the epoch."
      ],
      "metadata": {
        "id": "lbKyaqIdYjWV"
      }
    },
    {
      "cell_type": "code",
      "source": [
        "def train_epoch(model, data_loader, optimizer):\n",
        "    model.train()\n",
        "    total_loss = 0\n",
        "    correct_predictions = 0\n",
        "\n",
        "    for batch in tqdm(data_loader, desc=\"Training\"):\n",
        "        optimizer.zero_grad()\n",
        "        input_ids = batch['input_ids'].to(device)\n",
        "        attention_mask = batch['attention_mask'].to(device)\n",
        "        labels = batch['labels'].to(device)\n",
        "        outputs = model(input_ids=input_ids,\n",
        "                        attention_mask=attention_mask,\n",
        "                        labels=labels)\n",
        "        loss = outputs.loss\n",
        "        loss.backward()\n",
        "        optimizer.step()\n",
        "        total_loss += loss.item()\n",
        "\n",
        "        logits = outputs.logits\n",
        "        _, preds = torch.max(logits, dim=1)\n",
        "        correct_predictions += torch.sum(preds == labels)\n",
        "\n",
        "    accuracy = correct_predictions.double() / len(data_loader.dataset)\n",
        "    return total_loss / len(data_loader), accuracy"
      ],
      "metadata": {
        "id": "mBrJwarJMwf6"
      },
      "execution_count": null,
      "outputs": []
    },
    {
      "cell_type": "markdown",
      "source": [
        "This code block evaluates the model on the validation and test datasets, calulating the average loss and accuracy. It set the mode of the model to evaluation, disables gradient computation for efficiency, processes data in batches and returns the calculated average loss and accuracy for the entire dataset."
      ],
      "metadata": {
        "id": "7eg2rGB2Ymos"
      }
    },
    {
      "cell_type": "code",
      "source": [
        "def eval_model(model, data_loader):\n",
        "    model.eval()\n",
        "    total_loss = 0\n",
        "    correct_predictions = 0\n",
        "\n",
        "    with torch.no_grad():\n",
        "        for batch in tqdm(data_loader, desc=\"Evaluating\"):\n",
        "            input_ids = batch['input_ids'].to(device)\n",
        "            attention_mask = batch['attention_mask'].to(device)\n",
        "            labels = batch['labels'].to(device)\n",
        "            outputs = model(input_ids=input_ids,\n",
        "                            attention_mask=attention_mask,\n",
        "                            labels=labels)\n",
        "            loss = outputs.loss\n",
        "            logits = outputs.logits\n",
        "            total_loss += loss.item()\n",
        "            _, preds = torch.max(logits, dim=1)\n",
        "            correct_predictions += torch.sum(preds == labels)\n",
        "\n",
        "    accuracy = correct_predictions.double() / len(data_loader.dataset)\n",
        "    return total_loss / len(data_loader), accuracy"
      ],
      "metadata": {
        "id": "6nL2bfvlM6gY"
      },
      "execution_count": null,
      "outputs": []
    },
    {
      "cell_type": "markdown",
      "source": [
        "This code segment runs a training loop for a specified number of epochs, evaluating the model's performance on both training and validation datasets. It also saves the model's state if it achieves the best validation accuracy so far."
      ],
      "metadata": {
        "id": "xU-WxIOLYq0t"
      }
    },
    {
      "cell_type": "code",
      "source": [
        "history = {'loss': [], 'accuracy': [], 'val_loss': [], 'val_accuracy': []}\n",
        "best_accuracy = 0\n",
        "\n",
        "for epoch in range(epochs):\n",
        "    print(f'Epoch {epoch + 1}/{epochs}')\n",
        "    train_loss, train_accuracy = train_epoch(model, train_loader, optimizer)\n",
        "    val_loss, val_accuracy = eval_model(model, val_loader)\n",
        "\n",
        "    print(f'Train loss: {train_loss}, Train accuracy: {train_accuracy}')\n",
        "    print(f'Validation loss: {val_loss}, Validation accuracy: {val_accuracy}')\n",
        "\n",
        "    history['loss'].append(train_loss.item() if torch.is_tensor(train_loss) else train_loss)\n",
        "    history['accuracy'].append(train_accuracy.item() if torch.is_tensor(train_accuracy) else train_accuracy)\n",
        "    history['val_loss'].append(val_loss.item() if torch.is_tensor(val_loss) else val_loss)\n",
        "    history['val_accuracy'].append(val_accuracy.item() if torch.is_tensor(val_accuracy) else val_accuracy)\n",
        "\n",
        "    if val_accuracy > best_accuracy:\n",
        "        best_accuracy = val_accuracy\n",
        "        torch.save(model.state_dict(), 'best_model_state.bin')"
      ],
      "metadata": {
        "colab": {
          "base_uri": "https://localhost:8080/"
        },
        "id": "uDQ9wBg_NM_6",
        "outputId": "ae8d6673-331b-4719-f9f0-02fc57620478"
      },
      "execution_count": null,
      "outputs": [
        {
          "output_type": "stream",
          "name": "stdout",
          "text": [
            "Epoch 1/5\n"
          ]
        },
        {
          "output_type": "stream",
          "name": "stderr",
          "text": [
            "\rTraining:   0%|          | 0/1218 [00:00<?, ?it/s]<ipython-input-6-1c0b2152c7ac>:15: UserWarning: To copy construct from a tensor, it is recommended to use sourceTensor.clone().detach() or sourceTensor.clone().detach().requires_grad_(True), rather than torch.tensor(sourceTensor).\n",
            "  item = {key: torch.tensor(val[idx]) for key, val in self.encodings.items()}\n",
            "Training: 100%|██████████| 1218/1218 [18:10<00:00,  1.12it/s]\n",
            "Evaluating: 100%|██████████| 153/153 [00:42<00:00,  3.58it/s]\n"
          ]
        },
        {
          "output_type": "stream",
          "name": "stdout",
          "text": [
            "Train loss: 0.04417114431347793, Train accuracy: 0.9885878489326766\n",
            "Validation loss: 0.503554827871495, Validation accuracy: 0.8962573867367039\n",
            "Epoch 2/5\n"
          ]
        },
        {
          "output_type": "stream",
          "name": "stderr",
          "text": [
            "Training: 100%|██████████| 1218/1218 [18:10<00:00,  1.12it/s]\n",
            "Evaluating: 100%|██████████| 153/153 [00:42<00:00,  3.57it/s]\n"
          ]
        },
        {
          "output_type": "stream",
          "name": "stdout",
          "text": [
            "Train loss: 0.0327908936547718, Train accuracy: 0.990968801313629\n",
            "Validation loss: 0.47339954173376514, Validation accuracy: 0.9047931713722914\n",
            "Epoch 3/5\n"
          ]
        },
        {
          "output_type": "stream",
          "name": "stderr",
          "text": [
            "Training: 100%|██████████| 1218/1218 [18:09<00:00,  1.12it/s]\n",
            "Evaluating: 100%|██████████| 153/153 [00:42<00:00,  3.57it/s]\n"
          ]
        },
        {
          "output_type": "stream",
          "name": "stdout",
          "text": [
            "Train loss: 0.0400095643289846, Train accuracy: 0.989983579638752\n",
            "Validation loss: 0.5549744592714763, Validation accuracy: 0.8942875902823374\n",
            "Epoch 4/5\n"
          ]
        },
        {
          "output_type": "stream",
          "name": "stderr",
          "text": [
            "Training: 100%|██████████| 1218/1218 [18:09<00:00,  1.12it/s]\n",
            "Evaluating: 100%|██████████| 153/153 [00:42<00:00,  3.57it/s]\n"
          ]
        },
        {
          "output_type": "stream",
          "name": "stdout",
          "text": [
            "Train loss: 0.033163923370238615, Train accuracy: 0.9912972085385879\n",
            "Validation loss: 0.5109296761992619, Validation accuracy: 0.8962573867367039\n",
            "Epoch 5/5\n"
          ]
        },
        {
          "output_type": "stream",
          "name": "stderr",
          "text": [
            "Training: 100%|██████████| 1218/1218 [18:09<00:00,  1.12it/s]\n",
            "Evaluating: 100%|██████████| 153/153 [00:42<00:00,  3.58it/s]"
          ]
        },
        {
          "output_type": "stream",
          "name": "stdout",
          "text": [
            "Train loss: 0.025618578715501078, Train accuracy: 0.9928571428571429\n",
            "Validation loss: 0.4941480401521046, Validation accuracy: 0.9001969796454365\n"
          ]
        },
        {
          "output_type": "stream",
          "name": "stderr",
          "text": [
            "\n"
          ]
        }
      ]
    },
    {
      "cell_type": "code",
      "source": [
        "model.load_state_dict(torch.load('best_model_state.bin'))"
      ],
      "metadata": {
        "colab": {
          "base_uri": "https://localhost:8080/"
        },
        "id": "FTMuDmtMTZyy",
        "outputId": "1efe6592-ae02-4aa4-b920-7c7d4e4d8bd6"
      },
      "execution_count": null,
      "outputs": [
        {
          "output_type": "execute_result",
          "data": {
            "text/plain": [
              "<All keys matched successfully>"
            ]
          },
          "metadata": {},
          "execution_count": 43
        }
      ]
    },
    {
      "cell_type": "markdown",
      "source": [
        "This code block was taken and modified from Assignment 2: Text Classification with Various Neural Networks notebook.\n",
        "\n",
        "As you can see this model training loss had a downward trend but did climb back up by epoch 3. Validation loss remained stagnant. Also the accuracy lines were straight suggesting no learning was taking place. Since the training loss is low but the validation loss is high and both are constant, it might indicate that the model has memorized the training data but is not generalizing well to the validation set. This could be due to issues with learning rate converging too quickly or suboptimally, model complexity being to simple, or implementation errors in the way the data was fed into the model.  "
      ],
      "metadata": {
        "id": "PIasWYeXYy-I"
      }
    },
    {
      "cell_type": "code",
      "source": [
        "def make_plot(axs, history, model_name='sciBERT'):\n",
        "    box = dict(facecolor='yellow', pad=5, alpha=0.2)\n",
        "\n",
        "    for i, metric in enumerate(['loss', 'accuracy']):\n",
        "        train_metric = np.array(history[metric])\n",
        "        val_metric = np.array(history[f'val_{metric}'])\n",
        "\n",
        "        print(f'{metric} - Train metric type: {type(train_metric)}, Val metric type: {type(val_metric)}')\n",
        "\n",
        "        y_lim_lower = min(train_metric) * 0.9\n",
        "        y_lim_upper = max(train_metric) * 1.1\n",
        "\n",
        "        ax1 = axs[i]\n",
        "        ax1.plot(train_metric, label='train')\n",
        "        ax1.plot(val_metric, label='validation')\n",
        "        ax1.set_title(f'{metric} - {model_name}')\n",
        "        ax1.set_ylabel(metric, bbox=box)\n",
        "        ax1.set_ylim(y_lim_lower, y_lim_upper)\n",
        "        ax1.legend()\n",
        "\n",
        "fig, axs = plt.subplots(2, 1, figsize=(10, 8))\n",
        "fig.subplots_adjust(left=0.2, wspace=0.6)\n",
        "make_plot(axs, history, model_name='SciBERT')\n",
        "fig.align_ylabels(axs)\n",
        "fig.set_size_inches(10, 8)\n",
        "plt.show()"
      ],
      "metadata": {
        "colab": {
          "base_uri": "https://localhost:8080/",
          "height": 616
        },
        "id": "EM8XawkcPsMZ",
        "outputId": "7cbe4937-bc32-40af-bf39-c934d27714bc"
      },
      "execution_count": null,
      "outputs": [
        {
          "output_type": "stream",
          "name": "stdout",
          "text": [
            "loss - Train metric type: <class 'numpy.ndarray'>, Val metric type: <class 'numpy.ndarray'>\n",
            "accuracy - Train metric type: <class 'numpy.ndarray'>, Val metric type: <class 'numpy.ndarray'>\n"
          ]
        },
        {
          "output_type": "display_data",
          "data": {
            "text/plain": [
              "<Figure size 1000x800 with 2 Axes>"
            ],
            "image/png": "[encoded data removed]"
          },
          "metadata": {}
        }
      ]
    },
    {
      "cell_type": "code",
      "source": [
        "test_loss, test_accuracy = eval_model(model, test_loader)\n",
        "print(f'Test loss: {test_loss}, Test accuracy: {test_accuracy}')"
      ],
      "metadata": {
        "colab": {
          "base_uri": "https://localhost:8080/"
        },
        "id": "FWoVyYnFNg3V",
        "outputId": "cf5ca3f6-f866-4bda-e7cc-37a89b23b529"
      },
      "execution_count": null,
      "outputs": [
        {
          "output_type": "stream",
          "name": "stderr",
          "text": [
            "\rEvaluating:   0%|          | 0/153 [00:00<?, ?it/s]<ipython-input-6-1c0b2152c7ac>:15: UserWarning: To copy construct from a tensor, it is recommended to use sourceTensor.clone().detach() or sourceTensor.clone().detach().requires_grad_(True), rather than torch.tensor(sourceTensor).\n",
            "  item = {key: torch.tensor(val[idx]) for key, val in self.encodings.items()}\n",
            "Evaluating: 100%|██████████| 153/153 [00:44<00:00,  3.45it/s]"
          ]
        },
        {
          "output_type": "stream",
          "name": "stdout",
          "text": [
            "Test loss: 0.432376087169936, Test accuracy: 0.9146421536441234\n"
          ]
        },
        {
          "output_type": "stream",
          "name": "stderr",
          "text": [
            "\n"
          ]
        }
      ]
    },
    {
      "cell_type": "code",
      "source": [
        "def get_predictions(model, data_loader):\n",
        "    model.eval()\n",
        "    predictions = []\n",
        "    true_labels = []\n",
        "\n",
        "    with torch.no_grad():\n",
        "        for batch in data_loader:\n",
        "            input_ids = batch['input_ids'].to(device)\n",
        "            attention_mask = batch['attention_mask'].to(device)\n",
        "            labels = batch['labels'].to(device)\n",
        "            outputs = model(input_ids=input_ids, attention_mask=attention_mask)\n",
        "            logits = outputs.logits\n",
        "            _, preds = torch.max(logits, dim=1)\n",
        "            predictions.extend(preds)\n",
        "            true_labels.extend(labels)\n",
        "\n",
        "    return torch.stack(predictions).cpu().numpy(), torch.stack(true_labels).cpu().numpy()"
      ],
      "metadata": {
        "id": "jxZBv0SNNmzv"
      },
      "execution_count": null,
      "outputs": []
    },
    {
      "cell_type": "code",
      "source": [
        "y_pred, y_true = get_predictions(model, test_loader)"
      ],
      "metadata": {
        "colab": {
          "base_uri": "https://localhost:8080/"
        },
        "id": "kuYta6z0SGd3",
        "outputId": "ba4b7825-37be-497c-d791-977b944e8b2c"
      },
      "execution_count": null,
      "outputs": [
        {
          "output_type": "stream",
          "name": "stderr",
          "text": [
            "<ipython-input-6-1c0b2152c7ac>:15: UserWarning: To copy construct from a tensor, it is recommended to use sourceTensor.clone().detach() or sourceTensor.clone().detach().requires_grad_(True), rather than torch.tensor(sourceTensor).\n",
            "  item = {key: torch.tensor(val[idx]) for key, val in self.encodings.items()}\n"
          ]
        }
      ]
    },
    {
      "cell_type": "code",
      "source": [
        "target_names = list(label_map.keys())"
      ],
      "metadata": {
        "id": "tJxBewMNls95"
      },
      "execution_count": null,
      "outputs": []
    },
    {
      "cell_type": "code",
      "source": [
        "report = classification_report(y_true, y_pred, target_names=target_names)\n",
        "print(report)"
      ],
      "metadata": {
        "colab": {
          "base_uri": "https://localhost:8080/"
        },
        "id": "Ii9AwvXONsY3",
        "outputId": "a78ec5b4-e65f-48a8-c703-d1b6049b74bb"
      },
      "execution_count": null,
      "outputs": [
        {
          "output_type": "stream",
          "name": "stdout",
          "text": [
            "              precision    recall  f1-score   support\n",
            "\n",
            "       T1573       1.00      0.95      0.97        20\n",
            "       T1505       1.00      0.98      0.99        42\n",
            "       T1027       0.93      0.89      0.91        47\n",
            "       T1564       1.00      0.80      0.89        20\n",
            "       T1071       1.00      0.93      0.97        45\n",
            "       T1059       0.96      0.87      0.91        53\n",
            "       T1074       0.98      0.98      0.98        45\n",
            "       T1132       0.91      1.00      0.95        40\n",
            "       T1574       0.95      0.86      0.90        22\n",
            "       T1560       0.95      1.00      0.98        40\n",
            "       T1113       0.95      1.00      0.97        36\n",
            "       T1102       0.88      0.88      0.88        43\n",
            "       T1553       0.87      0.84      0.85        31\n",
            "       T1140       0.96      0.83      0.89        29\n",
            "       T1543       0.89      0.94      0.91        17\n",
            "       T1562       0.72      0.95      0.82        22\n",
            "       T1005       0.90      0.98      0.94        55\n",
            "       T1106       0.92      0.98      0.95        46\n",
            "       T1047       0.95      0.95      0.95        44\n",
            "       T1588       1.00      0.98      0.99        50\n",
            "       T1036       0.91      0.81      0.85        36\n",
            "       T1105       0.92      0.95      0.93        37\n",
            "       T1497       0.92      0.98      0.95        45\n",
            "       T1518       0.94      1.00      0.97        30\n",
            "       T1021       0.97      0.95      0.96        38\n",
            "       T1547       0.91      0.89      0.90        47\n",
            "       T1083       0.77      0.80      0.79        30\n",
            "       T1087       0.96      0.88      0.92        50\n",
            "       T1555       0.88      0.94      0.91        31\n",
            "       T1112       0.92      0.98      0.95        61\n",
            "       T1003       0.93      0.81      0.86        31\n",
            "       T1070       0.94      0.83      0.88        41\n",
            "       T1546       0.55      0.70      0.62        23\n",
            "       T1090       0.94      0.94      0.94        36\n",
            "       T1033       0.92      0.86      0.89        28\n",
            "       T1082       0.97      0.86      0.91        35\n",
            "       T1057       0.92      0.96      0.94        24\n",
            "       T1056       0.92      1.00      0.96        24\n",
            "       T1053       0.78      0.95      0.86        19\n",
            "       T1055       0.88      0.91      0.89        23\n",
            "       T1218       0.76      0.79      0.78        24\n",
            "       T1566       0.88      0.83      0.86        18\n",
            "       T1016       0.91      0.91      0.91        23\n",
            "       T1204       0.80      0.73      0.76        22\n",
            "\n",
            "    accuracy                           0.91      1523\n",
            "   macro avg       0.91      0.91      0.90      1523\n",
            "weighted avg       0.92      0.91      0.91      1523\n",
            "\n"
          ]
        }
      ]
    },
    {
      "cell_type": "code",
      "source": [
        "confusion_mtx = confusion_matrix(y_true, y_pred)\n",
        "print(confusion_mtx)"
      ],
      "metadata": {
        "colab": {
          "base_uri": "https://localhost:8080/"
        },
        "id": "THXpyRZSNwgk",
        "outputId": "48f5e788-3e09-4375-ec7b-76e4637db71e"
      },
      "execution_count": null,
      "outputs": [
        {
          "output_type": "stream",
          "name": "stdout",
          "text": [
            "[[19  0  0 ...  0  0  0]\n",
            " [ 0 41  0 ...  0  0  0]\n",
            " [ 0  0 42 ...  0  0  0]\n",
            " ...\n",
            " [ 0  0  0 ... 15  0  3]\n",
            " [ 0  0  0 ...  0 21  0]\n",
            " [ 0  0  0 ...  1  0 16]]\n"
          ]
        }
      ]
    },
    {
      "cell_type": "code",
      "source": [
        "plt.figure(figsize=(20, 20))\n",
        "sns.heatmap(confusion_mtx, annot=True, fmt='d',\n",
        "            xticklabels=target_names,\n",
        "            yticklabels=target_names)\n",
        "plt.xlabel(\"Predicted\")\n",
        "plt.ylabel(\"True\")\n",
        "plt.show()"
      ],
      "metadata": {
        "colab": {
          "base_uri": "https://localhost:8080/",
          "height": 697
        },
        "id": "6VuXf5dwTB1N",
        "outputId": "0e5255eb-1ada-4f63-a036-823068d41eac"
      },
      "execution_count": null,
      "outputs": [
        {
          "output_type": "display_data",
          "data": {
            "text/plain": [
              "<Figure size 2000x2000 with 2 Axes>"
            ],
            "image/png": "[encoded data removed]"
          },
          "metadata": {}
        }
      ]
    }
  ]
}