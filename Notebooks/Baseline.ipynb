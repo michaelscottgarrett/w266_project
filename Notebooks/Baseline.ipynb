{
  "nbformat": 4,
  "nbformat_minor": 0,
  "metadata": {
    "colab": {
      "provenance": [],
      "machine_shape": "hm",
      "gpuType": "T4"
    },
    "kernelspec": {
      "name": "python3",
      "display_name": "Python 3"
    },
    "language_info": {
      "name": "python"
    },
    "accelerator": "GPU",
    "widgets": {
      "application/vnd.jupyter.widget-state+json": {
        "07fda66670ab4d5187c7fcc95f047cd8": {
          "model_module": "@jupyter-widgets/controls",
          "model_name": "HBoxModel",
          "model_module_version": "1.5.0",
          "state": {
            "_dom_classes": [],
            "_model_module": "@jupyter-widgets/controls",
            "_model_module_version": "1.5.0",
            "_model_name": "HBoxModel",
            "_view_count": null,
            "_view_module": "@jupyter-widgets/controls",
            "_view_module_version": "1.5.0",
            "_view_name": "HBoxView",
            "box_style": "",
            "children": [
              "IPY_MODEL_13be6a6fe27f4972bc36e2812e2e6305",
              "IPY_MODEL_91d583b5ff3e4b8c9da754e340975b61",
              "IPY_MODEL_5ceafddd8224484a8f1eb1383910462b"
            ],
            "layout": "IPY_MODEL_4ae0c4186bc14c49a3fd3c12bb7595bd"
          }
        },
        "13be6a6fe27f4972bc36e2812e2e6305": {
          "model_module": "@jupyter-widgets/controls",
          "model_name": "HTMLModel",
          "model_module_version": "1.5.0",
          "state": {
            "_dom_classes": [],
            "_model_module": "@jupyter-widgets/controls",
            "_model_module_version": "1.5.0",
            "_model_name": "HTMLModel",
            "_view_count": null,
            "_view_module": "@jupyter-widgets/controls",
            "_view_module_version": "1.5.0",
            "_view_name": "HTMLView",
            "description": "",
            "description_tooltip": null,
            "layout": "IPY_MODEL_64988f2f84a24b5bb9c18d3398a78bb4",
            "placeholder": "​",
            "style": "IPY_MODEL_71ea3ad7fd5f4c02a17c93ebbfd72212",
            "value": "tokenizer_config.json: 100%"
          }
        },
        "91d583b5ff3e4b8c9da754e340975b61": {
          "model_module": "@jupyter-widgets/controls",
          "model_name": "FloatProgressModel",
          "model_module_version": "1.5.0",
          "state": {
            "_dom_classes": [],
            "_model_module": "@jupyter-widgets/controls",
            "_model_module_version": "1.5.0",
            "_model_name": "FloatProgressModel",
            "_view_count": null,
            "_view_module": "@jupyter-widgets/controls",
            "_view_module_version": "1.5.0",
            "_view_name": "ProgressView",
            "bar_style": "success",
            "description": "",
            "description_tooltip": null,
            "layout": "IPY_MODEL_8178462b04324b4cbe39fa4e40012eae",
            "max": 49,
            "min": 0,
            "orientation": "horizontal",
            "style": "IPY_MODEL_497fa2c01b8d40589c53e7ffa40cf052",
            "value": 49
          }
        },
        "5ceafddd8224484a8f1eb1383910462b": {
          "model_module": "@jupyter-widgets/controls",
          "model_name": "HTMLModel",
          "model_module_version": "1.5.0",
          "state": {
            "_dom_classes": [],
            "_model_module": "@jupyter-widgets/controls",
            "_model_module_version": "1.5.0",
            "_model_name": "HTMLModel",
            "_view_count": null,
            "_view_module": "@jupyter-widgets/controls",
            "_view_module_version": "1.5.0",
            "_view_name": "HTMLView",
            "description": "",
            "description_tooltip": null,
            "layout": "IPY_MODEL_8a42bf6b2f67481b9d7e88c6ca6d2e6a",
            "placeholder": "​",
            "style": "IPY_MODEL_527e7eca22c74b2585a73df9223e50f9",
            "value": " 49.0/49.0 [00:00&lt;00:00, 3.17kB/s]"
          }
        },
        "4ae0c4186bc14c49a3fd3c12bb7595bd": {
          "model_module": "@jupyter-widgets/base",
          "model_name": "LayoutModel",
          "model_module_version": "1.2.0",
          "state": {
            "_model_module": "@jupyter-widgets/base",
            "_model_module_version": "1.2.0",
            "_model_name": "LayoutModel",
            "_view_count": null,
            "_view_module": "@jupyter-widgets/base",
            "_view_module_version": "1.2.0",
            "_view_name": "LayoutView",
            "align_content": null,
            "align_items": null,
            "align_self": null,
            "border": null,
            "bottom": null,
            "display": null,
            "flex": null,
            "flex_flow": null,
            "grid_area": null,
            "grid_auto_columns": null,
            "grid_auto_flow": null,
            "grid_auto_rows": null,
            "grid_column": null,
            "grid_gap": null,
            "grid_row": null,
            "grid_template_areas": null,
            "grid_template_columns": null,
            "grid_template_rows": null,
            "height": null,
            "justify_content": null,
            "justify_items": null,
            "left": null,
            "margin": null,
            "max_height": null,
            "max_width": null,
            "min_height": null,
            "min_width": null,
            "object_fit": null,
            "object_position": null,
            "order": null,
            "overflow": null,
            "overflow_x": null,
            "overflow_y": null,
            "padding": null,
            "right": null,
            "top": null,
            "visibility": null,
            "width": null
          }
        },
        "64988f2f84a24b5bb9c18d3398a78bb4": {
          "model_module": "@jupyter-widgets/base",
          "model_name": "LayoutModel",
          "model_module_version": "1.2.0",
          "state": {
            "_model_module": "@jupyter-widgets/base",
            "_model_module_version": "1.2.0",
            "_model_name": "LayoutModel",
            "_view_count": null,
            "_view_module": "@jupyter-widgets/base",
            "_view_module_version": "1.2.0",
            "_view_name": "LayoutView",
            "align_content": null,
            "align_items": null,
            "align_self": null,
            "border": null,
            "bottom": null,
            "display": null,
            "flex": null,
            "flex_flow": null,
            "grid_area": null,
            "grid_auto_columns": null,
            "grid_auto_flow": null,
            "grid_auto_rows": null,
            "grid_column": null,
            "grid_gap": null,
            "grid_row": null,
            "grid_template_areas": null,
            "grid_template_columns": null,
            "grid_template_rows": null,
            "height": null,
            "justify_content": null,
            "justify_items": null,
            "left": null,
            "margin": null,
            "max_height": null,
            "max_width": null,
            "min_height": null,
            "min_width": null,
            "object_fit": null,
            "object_position": null,
            "order": null,
            "overflow": null,
            "overflow_x": null,
            "overflow_y": null,
            "padding": null,
            "right": null,
            "top": null,
            "visibility": null,
            "width": null
          }
        },
        "71ea3ad7fd5f4c02a17c93ebbfd72212": {
          "model_module": "@jupyter-widgets/controls",
          "model_name": "DescriptionStyleModel",
          "model_module_version": "1.5.0",
          "state": {
            "_model_module": "@jupyter-widgets/controls",
            "_model_module_version": "1.5.0",
            "_model_name": "DescriptionStyleModel",
            "_view_count": null,
            "_view_module": "@jupyter-widgets/base",
            "_view_module_version": "1.2.0",
            "_view_name": "StyleView",
            "description_width": ""
          }
        },
        "8178462b04324b4cbe39fa4e40012eae": {
          "model_module": "@jupyter-widgets/base",
          "model_name": "LayoutModel",
          "model_module_version": "1.2.0",
          "state": {
            "_model_module": "@jupyter-widgets/base",
            "_model_module_version": "1.2.0",
            "_model_name": "LayoutModel",
            "_view_count": null,
            "_view_module": "@jupyter-widgets/base",
            "_view_module_version": "1.2.0",
            "_view_name": "LayoutView",
            "align_content": null,
            "align_items": null,
            "align_self": null,
            "border": null,
            "bottom": null,
            "display": null,
            "flex": null,
            "flex_flow": null,
            "grid_area": null,
            "grid_auto_columns": null,
            "grid_auto_flow": null,
            "grid_auto_rows": null,
            "grid_column": null,
            "grid_gap": null,
            "grid_row": null,
            "grid_template_areas": null,
            "grid_template_columns": null,
            "grid_template_rows": null,
            "height": null,
            "justify_content": null,
            "justify_items": null,
            "left": null,
            "margin": null,
            "max_height": null,
            "max_width": null,
            "min_height": null,
            "min_width": null,
            "object_fit": null,
            "object_position": null,
            "order": null,
            "overflow": null,
            "overflow_x": null,
            "overflow_y": null,
            "padding": null,
            "right": null,
            "top": null,
            "visibility": null,
            "width": null
          }
        },
        "497fa2c01b8d40589c53e7ffa40cf052": {
          "model_module": "@jupyter-widgets/controls",
          "model_name": "ProgressStyleModel",
          "model_module_version": "1.5.0",
          "state": {
            "_model_module": "@jupyter-widgets/controls",
            "_model_module_version": "1.5.0",
            "_model_name": "ProgressStyleModel",
            "_view_count": null,
            "_view_module": "@jupyter-widgets/base",
            "_view_module_version": "1.2.0",
            "_view_name": "StyleView",
            "bar_color": null,
            "description_width": ""
          }
        },
        "8a42bf6b2f67481b9d7e88c6ca6d2e6a": {
          "model_module": "@jupyter-widgets/base",
          "model_name": "LayoutModel",
          "model_module_version": "1.2.0",
          "state": {
            "_model_module": "@jupyter-widgets/base",
            "_model_module_version": "1.2.0",
            "_model_name": "LayoutModel",
            "_view_count": null,
            "_view_module": "@jupyter-widgets/base",
            "_view_module_version": "1.2.0",
            "_view_name": "LayoutView",
            "align_content": null,
            "align_items": null,
            "align_self": null,
            "border": null,
            "bottom": null,
            "display": null,
            "flex": null,
            "flex_flow": null,
            "grid_area": null,
            "grid_auto_columns": null,
            "grid_auto_flow": null,
            "grid_auto_rows": null,
            "grid_column": null,
            "grid_gap": null,
            "grid_row": null,
            "grid_template_areas": null,
            "grid_template_columns": null,
            "grid_template_rows": null,
            "height": null,
            "justify_content": null,
            "justify_items": null,
            "left": null,
            "margin": null,
            "max_height": null,
            "max_width": null,
            "min_height": null,
            "min_width": null,
            "object_fit": null,
            "object_position": null,
            "order": null,
            "overflow": null,
            "overflow_x": null,
            "overflow_y": null,
            "padding": null,
            "right": null,
            "top": null,
            "visibility": null,
            "width": null
          }
        },
        "527e7eca22c74b2585a73df9223e50f9": {
          "model_module": "@jupyter-widgets/controls",
          "model_name": "DescriptionStyleModel",
          "model_module_version": "1.5.0",
          "state": {
            "_model_module": "@jupyter-widgets/controls",
            "_model_module_version": "1.5.0",
            "_model_name": "DescriptionStyleModel",
            "_view_count": null,
            "_view_module": "@jupyter-widgets/base",
            "_view_module_version": "1.2.0",
            "_view_name": "StyleView",
            "description_width": ""
          }
        },
        "1f93ab89ce3b4c068e6c12a81b8b8aec": {
          "model_module": "@jupyter-widgets/controls",
          "model_name": "HBoxModel",
          "model_module_version": "1.5.0",
          "state": {
            "_dom_classes": [],
            "_model_module": "@jupyter-widgets/controls",
            "_model_module_version": "1.5.0",
            "_model_name": "HBoxModel",
            "_view_count": null,
            "_view_module": "@jupyter-widgets/controls",
            "_view_module_version": "1.5.0",
            "_view_name": "HBoxView",
            "box_style": "",
            "children": [
              "IPY_MODEL_316d5fe292bd438e93cdc1626774a01b",
              "IPY_MODEL_e6264605e4c14f10920977df29bacf23",
              "IPY_MODEL_e76529289b4144ec90131fc0eb93bcf2"
            ],
            "layout": "IPY_MODEL_fd6dc51f44414c5188ed5fc9d8c40013"
          }
        },
        "316d5fe292bd438e93cdc1626774a01b": {
          "model_module": "@jupyter-widgets/controls",
          "model_name": "HTMLModel",
          "model_module_version": "1.5.0",
          "state": {
            "_dom_classes": [],
            "_model_module": "@jupyter-widgets/controls",
            "_model_module_version": "1.5.0",
            "_model_name": "HTMLModel",
            "_view_count": null,
            "_view_module": "@jupyter-widgets/controls",
            "_view_module_version": "1.5.0",
            "_view_name": "HTMLView",
            "description": "",
            "description_tooltip": null,
            "layout": "IPY_MODEL_fe76e142d9354f918d19ca4bf2793758",
            "placeholder": "​",
            "style": "IPY_MODEL_6ece00b66bfe4027a22385c24e1e1c44",
            "value": "vocab.txt: 100%"
          }
        },
        "e6264605e4c14f10920977df29bacf23": {
          "model_module": "@jupyter-widgets/controls",
          "model_name": "FloatProgressModel",
          "model_module_version": "1.5.0",
          "state": {
            "_dom_classes": [],
            "_model_module": "@jupyter-widgets/controls",
            "_model_module_version": "1.5.0",
            "_model_name": "FloatProgressModel",
            "_view_count": null,
            "_view_module": "@jupyter-widgets/controls",
            "_view_module_version": "1.5.0",
            "_view_name": "ProgressView",
            "bar_style": "success",
            "description": "",
            "description_tooltip": null,
            "layout": "IPY_MODEL_74ec7e8cb5894a0582869453ba214fa9",
            "max": 213450,
            "min": 0,
            "orientation": "horizontal",
            "style": "IPY_MODEL_61c15dccb85e47a2a5186dfaaaa67ed3",
            "value": 213450
          }
        },
        "e76529289b4144ec90131fc0eb93bcf2": {
          "model_module": "@jupyter-widgets/controls",
          "model_name": "HTMLModel",
          "model_module_version": "1.5.0",
          "state": {
            "_dom_classes": [],
            "_model_module": "@jupyter-widgets/controls",
            "_model_module_version": "1.5.0",
            "_model_name": "HTMLModel",
            "_view_count": null,
            "_view_module": "@jupyter-widgets/controls",
            "_view_module_version": "1.5.0",
            "_view_name": "HTMLView",
            "description": "",
            "description_tooltip": null,
            "layout": "IPY_MODEL_247c59724fb74fe3a14e2bdc3c4792a7",
            "placeholder": "​",
            "style": "IPY_MODEL_9f5196742a1f48f2bc03e722155a8b23",
            "value": " 213k/213k [00:00&lt;00:00, 487kB/s]"
          }
        },
        "fd6dc51f44414c5188ed5fc9d8c40013": {
          "model_module": "@jupyter-widgets/base",
          "model_name": "LayoutModel",
          "model_module_version": "1.2.0",
          "state": {
            "_model_module": "@jupyter-widgets/base",
            "_model_module_version": "1.2.0",
            "_model_name": "LayoutModel",
            "_view_count": null,
            "_view_module": "@jupyter-widgets/base",
            "_view_module_version": "1.2.0",
            "_view_name": "LayoutView",
            "align_content": null,
            "align_items": null,
            "align_self": null,
            "border": null,
            "bottom": null,
            "display": null,
            "flex": null,
            "flex_flow": null,
            "grid_area": null,
            "grid_auto_columns": null,
            "grid_auto_flow": null,
            "grid_auto_rows": null,
            "grid_column": null,
            "grid_gap": null,
            "grid_row": null,
            "grid_template_areas": null,
            "grid_template_columns": null,
            "grid_template_rows": null,
            "height": null,
            "justify_content": null,
            "justify_items": null,
            "left": null,
            "margin": null,
            "max_height": null,
            "max_width": null,
            "min_height": null,
            "min_width": null,
            "object_fit": null,
            "object_position": null,
            "order": null,
            "overflow": null,
            "overflow_x": null,
            "overflow_y": null,
            "padding": null,
            "right": null,
            "top": null,
            "visibility": null,
            "width": null
          }
        },
        "fe76e142d9354f918d19ca4bf2793758": {
          "model_module": "@jupyter-widgets/base",
          "model_name": "LayoutModel",
          "model_module_version": "1.2.0",
          "state": {
            "_model_module": "@jupyter-widgets/base",
            "_model_module_version": "1.2.0",
            "_model_name": "LayoutModel",
            "_view_count": null,
            "_view_module": "@jupyter-widgets/base",
            "_view_module_version": "1.2.0",
            "_view_name": "LayoutView",
            "align_content": null,
            "align_items": null,
            "align_self": null,
            "border": null,
            "bottom": null,
            "display": null,
            "flex": null,
            "flex_flow": null,
            "grid_area": null,
            "grid_auto_columns": null,
            "grid_auto_flow": null,
            "grid_auto_rows": null,
            "grid_column": null,
            "grid_gap": null,
            "grid_row": null,
            "grid_template_areas": null,
            "grid_template_columns": null,
            "grid_template_rows": null,
            "height": null,
            "justify_content": null,
            "justify_items": null,
            "left": null,
            "margin": null,
            "max_height": null,
            "max_width": null,
            "min_height": null,
            "min_width": null,
            "object_fit": null,
            "object_position": null,
            "order": null,
            "overflow": null,
            "overflow_x": null,
            "overflow_y": null,
            "padding": null,
            "right": null,
            "top": null,
            "visibility": null,
            "width": null
          }
        },
        "6ece00b66bfe4027a22385c24e1e1c44": {
          "model_module": "@jupyter-widgets/controls",
          "model_name": "DescriptionStyleModel",
          "model_module_version": "1.5.0",
          "state": {
            "_model_module": "@jupyter-widgets/controls",
            "_model_module_version": "1.5.0",
            "_model_name": "DescriptionStyleModel",
            "_view_count": null,
            "_view_module": "@jupyter-widgets/base",
            "_view_module_version": "1.2.0",
            "_view_name": "StyleView",
            "description_width": ""
          }
        },
        "74ec7e8cb5894a0582869453ba214fa9": {
          "model_module": "@jupyter-widgets/base",
          "model_name": "LayoutModel",
          "model_module_version": "1.2.0",
          "state": {
            "_model_module": "@jupyter-widgets/base",
            "_model_module_version": "1.2.0",
            "_model_name": "LayoutModel",
            "_view_count": null,
            "_view_module": "@jupyter-widgets/base",
            "_view_module_version": "1.2.0",
            "_view_name": "LayoutView",
            "align_content": null,
            "align_items": null,
            "align_self": null,
            "border": null,
            "bottom": null,
            "display": null,
            "flex": null,
            "flex_flow": null,
            "grid_area": null,
            "grid_auto_columns": null,
            "grid_auto_flow": null,
            "grid_auto_rows": null,
            "grid_column": null,
            "grid_gap": null,
            "grid_row": null,
            "grid_template_areas": null,
            "grid_template_columns": null,
            "grid_template_rows": null,
            "height": null,
            "justify_content": null,
            "justify_items": null,
            "left": null,
            "margin": null,
            "max_height": null,
            "max_width": null,
            "min_height": null,
            "min_width": null,
            "object_fit": null,
            "object_position": null,
            "order": null,
            "overflow": null,
            "overflow_x": null,
            "overflow_y": null,
            "padding": null,
            "right": null,
            "top": null,
            "visibility": null,
            "width": null
          }
        },
        "61c15dccb85e47a2a5186dfaaaa67ed3": {
          "model_module": "@jupyter-widgets/controls",
          "model_name": "ProgressStyleModel",
          "model_module_version": "1.5.0",
          "state": {
            "_model_module": "@jupyter-widgets/controls",
            "_model_module_version": "1.5.0",
            "_model_name": "ProgressStyleModel",
            "_view_count": null,
            "_view_module": "@jupyter-widgets/base",
            "_view_module_version": "1.2.0",
            "_view_name": "StyleView",
            "bar_color": null,
            "description_width": ""
          }
        },
        "247c59724fb74fe3a14e2bdc3c4792a7": {
          "model_module": "@jupyter-widgets/base",
          "model_name": "LayoutModel",
          "model_module_version": "1.2.0",
          "state": {
            "_model_module": "@jupyter-widgets/base",
            "_model_module_version": "1.2.0",
            "_model_name": "LayoutModel",
            "_view_count": null,
            "_view_module": "@jupyter-widgets/base",
            "_view_module_version": "1.2.0",
            "_view_name": "LayoutView",
            "align_content": null,
            "align_items": null,
            "align_self": null,
            "border": null,
            "bottom": null,
            "display": null,
            "flex": null,
            "flex_flow": null,
            "grid_area": null,
            "grid_auto_columns": null,
            "grid_auto_flow": null,
            "grid_auto_rows": null,
            "grid_column": null,
            "grid_gap": null,
            "grid_row": null,
            "grid_template_areas": null,
            "grid_template_columns": null,
            "grid_template_rows": null,
            "height": null,
            "justify_content": null,
            "justify_items": null,
            "left": null,
            "margin": null,
            "max_height": null,
            "max_width": null,
            "min_height": null,
            "min_width": null,
            "object_fit": null,
            "object_position": null,
            "order": null,
            "overflow": null,
            "overflow_x": null,
            "overflow_y": null,
            "padding": null,
            "right": null,
            "top": null,
            "visibility": null,
            "width": null
          }
        },
        "9f5196742a1f48f2bc03e722155a8b23": {
          "model_module": "@jupyter-widgets/controls",
          "model_name": "DescriptionStyleModel",
          "model_module_version": "1.5.0",
          "state": {
            "_model_module": "@jupyter-widgets/controls",
            "_model_module_version": "1.5.0",
            "_model_name": "DescriptionStyleModel",
            "_view_count": null,
            "_view_module": "@jupyter-widgets/base",
            "_view_module_version": "1.2.0",
            "_view_name": "StyleView",
            "description_width": ""
          }
        },
        "5ef536313be2440fb92f513e50be1bed": {
          "model_module": "@jupyter-widgets/controls",
          "model_name": "HBoxModel",
          "model_module_version": "1.5.0",
          "state": {
            "_dom_classes": [],
            "_model_module": "@jupyter-widgets/controls",
            "_model_module_version": "1.5.0",
            "_model_name": "HBoxModel",
            "_view_count": null,
            "_view_module": "@jupyter-widgets/controls",
            "_view_module_version": "1.5.0",
            "_view_name": "HBoxView",
            "box_style": "",
            "children": [
              "IPY_MODEL_ef14885e95bd467ea5f37d9b9169ea80",
              "IPY_MODEL_79373bc486a64621be90729865388afa",
              "IPY_MODEL_a346b2d2016847dfbceb25d89c3f6bf2"
            ],
            "layout": "IPY_MODEL_34b3416647584b5aa8dde46c2f16075e"
          }
        },
        "ef14885e95bd467ea5f37d9b9169ea80": {
          "model_module": "@jupyter-widgets/controls",
          "model_name": "HTMLModel",
          "model_module_version": "1.5.0",
          "state": {
            "_dom_classes": [],
            "_model_module": "@jupyter-widgets/controls",
            "_model_module_version": "1.5.0",
            "_model_name": "HTMLModel",
            "_view_count": null,
            "_view_module": "@jupyter-widgets/controls",
            "_view_module_version": "1.5.0",
            "_view_name": "HTMLView",
            "description": "",
            "description_tooltip": null,
            "layout": "IPY_MODEL_2af762c43f8a4c4fb23ebc5346b971ae",
            "placeholder": "​",
            "style": "IPY_MODEL_f21792541eb145bca3ce1e1b2675608c",
            "value": "tokenizer.json: 100%"
          }
        },
        "79373bc486a64621be90729865388afa": {
          "model_module": "@jupyter-widgets/controls",
          "model_name": "FloatProgressModel",
          "model_module_version": "1.5.0",
          "state": {
            "_dom_classes": [],
            "_model_module": "@jupyter-widgets/controls",
            "_model_module_version": "1.5.0",
            "_model_name": "FloatProgressModel",
            "_view_count": null,
            "_view_module": "@jupyter-widgets/controls",
            "_view_module_version": "1.5.0",
            "_view_name": "ProgressView",
            "bar_style": "success",
            "description": "",
            "description_tooltip": null,
            "layout": "IPY_MODEL_54d885d5538847939d5a2731a5c2f2eb",
            "max": 435797,
            "min": 0,
            "orientation": "horizontal",
            "style": "IPY_MODEL_2fa4150757c34162bc66b0453c527e52",
            "value": 435797
          }
        },
        "a346b2d2016847dfbceb25d89c3f6bf2": {
          "model_module": "@jupyter-widgets/controls",
          "model_name": "HTMLModel",
          "model_module_version": "1.5.0",
          "state": {
            "_dom_classes": [],
            "_model_module": "@jupyter-widgets/controls",
            "_model_module_version": "1.5.0",
            "_model_name": "HTMLModel",
            "_view_count": null,
            "_view_module": "@jupyter-widgets/controls",
            "_view_module_version": "1.5.0",
            "_view_name": "HTMLView",
            "description": "",
            "description_tooltip": null,
            "layout": "IPY_MODEL_240f95a99c8741f8afdad31c065565ac",
            "placeholder": "​",
            "style": "IPY_MODEL_4fe1020159e649ceb38066780a897b74",
            "value": " 436k/436k [00:00&lt;00:00, 987kB/s]"
          }
        },
        "34b3416647584b5aa8dde46c2f16075e": {
          "model_module": "@jupyter-widgets/base",
          "model_name": "LayoutModel",
          "model_module_version": "1.2.0",
          "state": {
            "_model_module": "@jupyter-widgets/base",
            "_model_module_version": "1.2.0",
            "_model_name": "LayoutModel",
            "_view_count": null,
            "_view_module": "@jupyter-widgets/base",
            "_view_module_version": "1.2.0",
            "_view_name": "LayoutView",
            "align_content": null,
            "align_items": null,
            "align_self": null,
            "border": null,
            "bottom": null,
            "display": null,
            "flex": null,
            "flex_flow": null,
            "grid_area": null,
            "grid_auto_columns": null,
            "grid_auto_flow": null,
            "grid_auto_rows": null,
            "grid_column": null,
            "grid_gap": null,
            "grid_row": null,
            "grid_template_areas": null,
            "grid_template_columns": null,
            "grid_template_rows": null,
            "height": null,
            "justify_content": null,
            "justify_items": null,
            "left": null,
            "margin": null,
            "max_height": null,
            "max_width": null,
            "min_height": null,
            "min_width": null,
            "object_fit": null,
            "object_position": null,
            "order": null,
            "overflow": null,
            "overflow_x": null,
            "overflow_y": null,
            "padding": null,
            "right": null,
            "top": null,
            "visibility": null,
            "width": null
          }
        },
        "2af762c43f8a4c4fb23ebc5346b971ae": {
          "model_module": "@jupyter-widgets/base",
          "model_name": "LayoutModel",
          "model_module_version": "1.2.0",
          "state": {
            "_model_module": "@jupyter-widgets/base",
            "_model_module_version": "1.2.0",
            "_model_name": "LayoutModel",
            "_view_count": null,
            "_view_module": "@jupyter-widgets/base",
            "_view_module_version": "1.2.0",
            "_view_name": "LayoutView",
            "align_content": null,
            "align_items": null,
            "align_self": null,
            "border": null,
            "bottom": null,
            "display": null,
            "flex": null,
            "flex_flow": null,
            "grid_area": null,
            "grid_auto_columns": null,
            "grid_auto_flow": null,
            "grid_auto_rows": null,
            "grid_column": null,
            "grid_gap": null,
            "grid_row": null,
            "grid_template_areas": null,
            "grid_template_columns": null,
            "grid_template_rows": null,
            "height": null,
            "justify_content": null,
            "justify_items": null,
            "left": null,
            "margin": null,
            "max_height": null,
            "max_width": null,
            "min_height": null,
            "min_width": null,
            "object_fit": null,
            "object_position": null,
            "order": null,
            "overflow": null,
            "overflow_x": null,
            "overflow_y": null,
            "padding": null,
            "right": null,
            "top": null,
            "visibility": null,
            "width": null
          }
        },
        "f21792541eb145bca3ce1e1b2675608c": {
          "model_module": "@jupyter-widgets/controls",
          "model_name": "DescriptionStyleModel",
          "model_module_version": "1.5.0",
          "state": {
            "_model_module": "@jupyter-widgets/controls",
            "_model_module_version": "1.5.0",
            "_model_name": "DescriptionStyleModel",
            "_view_count": null,
            "_view_module": "@jupyter-widgets/base",
            "_view_module_version": "1.2.0",
            "_view_name": "StyleView",
            "description_width": ""
          }
        },
        "54d885d5538847939d5a2731a5c2f2eb": {
          "model_module": "@jupyter-widgets/base",
          "model_name": "LayoutModel",
          "model_module_version": "1.2.0",
          "state": {
            "_model_module": "@jupyter-widgets/base",
            "_model_module_version": "1.2.0",
            "_model_name": "LayoutModel",
            "_view_count": null,
            "_view_module": "@jupyter-widgets/base",
            "_view_module_version": "1.2.0",
            "_view_name": "LayoutView",
            "align_content": null,
            "align_items": null,
            "align_self": null,
            "border": null,
            "bottom": null,
            "display": null,
            "flex": null,
            "flex_flow": null,
            "grid_area": null,
            "grid_auto_columns": null,
            "grid_auto_flow": null,
            "grid_auto_rows": null,
            "grid_column": null,
            "grid_gap": null,
            "grid_row": null,
            "grid_template_areas": null,
            "grid_template_columns": null,
            "grid_template_rows": null,
            "height": null,
            "justify_content": null,
            "justify_items": null,
            "left": null,
            "margin": null,
            "max_height": null,
            "max_width": null,
            "min_height": null,
            "min_width": null,
            "object_fit": null,
            "object_position": null,
            "order": null,
            "overflow": null,
            "overflow_x": null,
            "overflow_y": null,
            "padding": null,
            "right": null,
            "top": null,
            "visibility": null,
            "width": null
          }
        },
        "2fa4150757c34162bc66b0453c527e52": {
          "model_module": "@jupyter-widgets/controls",
          "model_name": "ProgressStyleModel",
          "model_module_version": "1.5.0",
          "state": {
            "_model_module": "@jupyter-widgets/controls",
            "_model_module_version": "1.5.0",
            "_model_name": "ProgressStyleModel",
            "_view_count": null,
            "_view_module": "@jupyter-widgets/base",
            "_view_module_version": "1.2.0",
            "_view_name": "StyleView",
            "bar_color": null,
            "description_width": ""
          }
        },
        "240f95a99c8741f8afdad31c065565ac": {
          "model_module": "@jupyter-widgets/base",
          "model_name": "LayoutModel",
          "model_module_version": "1.2.0",
          "state": {
            "_model_module": "@jupyter-widgets/base",
            "_model_module_version": "1.2.0",
            "_model_name": "LayoutModel",
            "_view_count": null,
            "_view_module": "@jupyter-widgets/base",
            "_view_module_version": "1.2.0",
            "_view_name": "LayoutView",
            "align_content": null,
            "align_items": null,
            "align_self": null,
            "border": null,
            "bottom": null,
            "display": null,
            "flex": null,
            "flex_flow": null,
            "grid_area": null,
            "grid_auto_columns": null,
            "grid_auto_flow": null,
            "grid_auto_rows": null,
            "grid_column": null,
            "grid_gap": null,
            "grid_row": null,
            "grid_template_areas": null,
            "grid_template_columns": null,
            "grid_template_rows": null,
            "height": null,
            "justify_content": null,
            "justify_items": null,
            "left": null,
            "margin": null,
            "max_height": null,
            "max_width": null,
            "min_height": null,
            "min_width": null,
            "object_fit": null,
            "object_position": null,
            "order": null,
            "overflow": null,
            "overflow_x": null,
            "overflow_y": null,
            "padding": null,
            "right": null,
            "top": null,
            "visibility": null,
            "width": null
          }
        },
        "4fe1020159e649ceb38066780a897b74": {
          "model_module": "@jupyter-widgets/controls",
          "model_name": "DescriptionStyleModel",
          "model_module_version": "1.5.0",
          "state": {
            "_model_module": "@jupyter-widgets/controls",
            "_model_module_version": "1.5.0",
            "_model_name": "DescriptionStyleModel",
            "_view_count": null,
            "_view_module": "@jupyter-widgets/base",
            "_view_module_version": "1.2.0",
            "_view_name": "StyleView",
            "description_width": ""
          }
        },
        "7522b95b0afb4eca9533508dae70c95d": {
          "model_module": "@jupyter-widgets/controls",
          "model_name": "HBoxModel",
          "model_module_version": "1.5.0",
          "state": {
            "_dom_classes": [],
            "_model_module": "@jupyter-widgets/controls",
            "_model_module_version": "1.5.0",
            "_model_name": "HBoxModel",
            "_view_count": null,
            "_view_module": "@jupyter-widgets/controls",
            "_view_module_version": "1.5.0",
            "_view_name": "HBoxView",
            "box_style": "",
            "children": [
              "IPY_MODEL_21f9486fca984a9fba1a11900c09bb14",
              "IPY_MODEL_884e379efea84706a2cc299633e9abe8",
              "IPY_MODEL_48966c9613c340278c2aaf693d5563af"
            ],
            "layout": "IPY_MODEL_7db12bfc20d14dc08cc81a5df195796b"
          }
        },
        "21f9486fca984a9fba1a11900c09bb14": {
          "model_module": "@jupyter-widgets/controls",
          "model_name": "HTMLModel",
          "model_module_version": "1.5.0",
          "state": {
            "_dom_classes": [],
            "_model_module": "@jupyter-widgets/controls",
            "_model_module_version": "1.5.0",
            "_model_name": "HTMLModel",
            "_view_count": null,
            "_view_module": "@jupyter-widgets/controls",
            "_view_module_version": "1.5.0",
            "_view_name": "HTMLView",
            "description": "",
            "description_tooltip": null,
            "layout": "IPY_MODEL_f869651557034e4a8865302407bfb58f",
            "placeholder": "​",
            "style": "IPY_MODEL_ba79aec1b193495f922d53f32770b62d",
            "value": "config.json: 100%"
          }
        },
        "884e379efea84706a2cc299633e9abe8": {
          "model_module": "@jupyter-widgets/controls",
          "model_name": "FloatProgressModel",
          "model_module_version": "1.5.0",
          "state": {
            "_dom_classes": [],
            "_model_module": "@jupyter-widgets/controls",
            "_model_module_version": "1.5.0",
            "_model_name": "FloatProgressModel",
            "_view_count": null,
            "_view_module": "@jupyter-widgets/controls",
            "_view_module_version": "1.5.0",
            "_view_name": "ProgressView",
            "bar_style": "success",
            "description": "",
            "description_tooltip": null,
            "layout": "IPY_MODEL_cfb12fe12fbe41718b8bebd43f8848cb",
            "max": 570,
            "min": 0,
            "orientation": "horizontal",
            "style": "IPY_MODEL_ddc343fc29824a5db146d438f0244ad0",
            "value": 570
          }
        },
        "48966c9613c340278c2aaf693d5563af": {
          "model_module": "@jupyter-widgets/controls",
          "model_name": "HTMLModel",
          "model_module_version": "1.5.0",
          "state": {
            "_dom_classes": [],
            "_model_module": "@jupyter-widgets/controls",
            "_model_module_version": "1.5.0",
            "_model_name": "HTMLModel",
            "_view_count": null,
            "_view_module": "@jupyter-widgets/controls",
            "_view_module_version": "1.5.0",
            "_view_name": "HTMLView",
            "description": "",
            "description_tooltip": null,
            "layout": "IPY_MODEL_942df03b926a49e19e55c77273217f80",
            "placeholder": "​",
            "style": "IPY_MODEL_66a418cdf4aa4913ae68c0c889818c20",
            "value": " 570/570 [00:00&lt;00:00, 47.4kB/s]"
          }
        },
        "7db12bfc20d14dc08cc81a5df195796b": {
          "model_module": "@jupyter-widgets/base",
          "model_name": "LayoutModel",
          "model_module_version": "1.2.0",
          "state": {
            "_model_module": "@jupyter-widgets/base",
            "_model_module_version": "1.2.0",
            "_model_name": "LayoutModel",
            "_view_count": null,
            "_view_module": "@jupyter-widgets/base",
            "_view_module_version": "1.2.0",
            "_view_name": "LayoutView",
            "align_content": null,
            "align_items": null,
            "align_self": null,
            "border": null,
            "bottom": null,
            "display": null,
            "flex": null,
            "flex_flow": null,
            "grid_area": null,
            "grid_auto_columns": null,
            "grid_auto_flow": null,
            "grid_auto_rows": null,
            "grid_column": null,
            "grid_gap": null,
            "grid_row": null,
            "grid_template_areas": null,
            "grid_template_columns": null,
            "grid_template_rows": null,
            "height": null,
            "justify_content": null,
            "justify_items": null,
            "left": null,
            "margin": null,
            "max_height": null,
            "max_width": null,
            "min_height": null,
            "min_width": null,
            "object_fit": null,
            "object_position": null,
            "order": null,
            "overflow": null,
            "overflow_x": null,
            "overflow_y": null,
            "padding": null,
            "right": null,
            "top": null,
            "visibility": null,
            "width": null
          }
        },
        "f869651557034e4a8865302407bfb58f": {
          "model_module": "@jupyter-widgets/base",
          "model_name": "LayoutModel",
          "model_module_version": "1.2.0",
          "state": {
            "_model_module": "@jupyter-widgets/base",
            "_model_module_version": "1.2.0",
            "_model_name": "LayoutModel",
            "_view_count": null,
            "_view_module": "@jupyter-widgets/base",
            "_view_module_version": "1.2.0",
            "_view_name": "LayoutView",
            "align_content": null,
            "align_items": null,
            "align_self": null,
            "border": null,
            "bottom": null,
            "display": null,
            "flex": null,
            "flex_flow": null,
            "grid_area": null,
            "grid_auto_columns": null,
            "grid_auto_flow": null,
            "grid_auto_rows": null,
            "grid_column": null,
            "grid_gap": null,
            "grid_row": null,
            "grid_template_areas": null,
            "grid_template_columns": null,
            "grid_template_rows": null,
            "height": null,
            "justify_content": null,
            "justify_items": null,
            "left": null,
            "margin": null,
            "max_height": null,
            "max_width": null,
            "min_height": null,
            "min_width": null,
            "object_fit": null,
            "object_position": null,
            "order": null,
            "overflow": null,
            "overflow_x": null,
            "overflow_y": null,
            "padding": null,
            "right": null,
            "top": null,
            "visibility": null,
            "width": null
          }
        },
        "ba79aec1b193495f922d53f32770b62d": {
          "model_module": "@jupyter-widgets/controls",
          "model_name": "DescriptionStyleModel",
          "model_module_version": "1.5.0",
          "state": {
            "_model_module": "@jupyter-widgets/controls",
            "_model_module_version": "1.5.0",
            "_model_name": "DescriptionStyleModel",
            "_view_count": null,
            "_view_module": "@jupyter-widgets/base",
            "_view_module_version": "1.2.0",
            "_view_name": "StyleView",
            "description_width": ""
          }
        },
        "cfb12fe12fbe41718b8bebd43f8848cb": {
          "model_module": "@jupyter-widgets/base",
          "model_name": "LayoutModel",
          "model_module_version": "1.2.0",
          "state": {
            "_model_module": "@jupyter-widgets/base",
            "_model_module_version": "1.2.0",
            "_model_name": "LayoutModel",
            "_view_count": null,
            "_view_module": "@jupyter-widgets/base",
            "_view_module_version": "1.2.0",
            "_view_name": "LayoutView",
            "align_content": null,
            "align_items": null,
            "align_self": null,
            "border": null,
            "bottom": null,
            "display": null,
            "flex": null,
            "flex_flow": null,
            "grid_area": null,
            "grid_auto_columns": null,
            "grid_auto_flow": null,
            "grid_auto_rows": null,
            "grid_column": null,
            "grid_gap": null,
            "grid_row": null,
            "grid_template_areas": null,
            "grid_template_columns": null,
            "grid_template_rows": null,
            "height": null,
            "justify_content": null,
            "justify_items": null,
            "left": null,
            "margin": null,
            "max_height": null,
            "max_width": null,
            "min_height": null,
            "min_width": null,
            "object_fit": null,
            "object_position": null,
            "order": null,
            "overflow": null,
            "overflow_x": null,
            "overflow_y": null,
            "padding": null,
            "right": null,
            "top": null,
            "visibility": null,
            "width": null
          }
        },
        "ddc343fc29824a5db146d438f0244ad0": {
          "model_module": "@jupyter-widgets/controls",
          "model_name": "ProgressStyleModel",
          "model_module_version": "1.5.0",
          "state": {
            "_model_module": "@jupyter-widgets/controls",
            "_model_module_version": "1.5.0",
            "_model_name": "ProgressStyleModel",
            "_view_count": null,
            "_view_module": "@jupyter-widgets/base",
            "_view_module_version": "1.2.0",
            "_view_name": "StyleView",
            "bar_color": null,
            "description_width": ""
          }
        },
        "942df03b926a49e19e55c77273217f80": {
          "model_module": "@jupyter-widgets/base",
          "model_name": "LayoutModel",
          "model_module_version": "1.2.0",
          "state": {
            "_model_module": "@jupyter-widgets/base",
            "_model_module_version": "1.2.0",
            "_model_name": "LayoutModel",
            "_view_count": null,
            "_view_module": "@jupyter-widgets/base",
            "_view_module_version": "1.2.0",
            "_view_name": "LayoutView",
            "align_content": null,
            "align_items": null,
            "align_self": null,
            "border": null,
            "bottom": null,
            "display": null,
            "flex": null,
            "flex_flow": null,
            "grid_area": null,
            "grid_auto_columns": null,
            "grid_auto_flow": null,
            "grid_auto_rows": null,
            "grid_column": null,
            "grid_gap": null,
            "grid_row": null,
            "grid_template_areas": null,
            "grid_template_columns": null,
            "grid_template_rows": null,
            "height": null,
            "justify_content": null,
            "justify_items": null,
            "left": null,
            "margin": null,
            "max_height": null,
            "max_width": null,
            "min_height": null,
            "min_width": null,
            "object_fit": null,
            "object_position": null,
            "order": null,
            "overflow": null,
            "overflow_x": null,
            "overflow_y": null,
            "padding": null,
            "right": null,
            "top": null,
            "visibility": null,
            "width": null
          }
        },
        "66a418cdf4aa4913ae68c0c889818c20": {
          "model_module": "@jupyter-widgets/controls",
          "model_name": "DescriptionStyleModel",
          "model_module_version": "1.5.0",
          "state": {
            "_model_module": "@jupyter-widgets/controls",
            "_model_module_version": "1.5.0",
            "_model_name": "DescriptionStyleModel",
            "_view_count": null,
            "_view_module": "@jupyter-widgets/base",
            "_view_module_version": "1.2.0",
            "_view_name": "StyleView",
            "description_width": ""
          }
        },
        "a5548f091acb4699b50049b470029ce4": {
          "model_module": "@jupyter-widgets/controls",
          "model_name": "HBoxModel",
          "model_module_version": "1.5.0",
          "state": {
            "_dom_classes": [],
            "_model_module": "@jupyter-widgets/controls",
            "_model_module_version": "1.5.0",
            "_model_name": "HBoxModel",
            "_view_count": null,
            "_view_module": "@jupyter-widgets/controls",
            "_view_module_version": "1.5.0",
            "_view_name": "HBoxView",
            "box_style": "",
            "children": [
              "IPY_MODEL_5ce2c3ead99a42d9848591997b988577",
              "IPY_MODEL_d0c72c55472f4ffc954e808476f641ec",
              "IPY_MODEL_edca65ff6fd142c0b06cad44a5052874"
            ],
            "layout": "IPY_MODEL_a2db69a00d6a446d968b769dcd88b682"
          }
        },
        "5ce2c3ead99a42d9848591997b988577": {
          "model_module": "@jupyter-widgets/controls",
          "model_name": "HTMLModel",
          "model_module_version": "1.5.0",
          "state": {
            "_dom_classes": [],
            "_model_module": "@jupyter-widgets/controls",
            "_model_module_version": "1.5.0",
            "_model_name": "HTMLModel",
            "_view_count": null,
            "_view_module": "@jupyter-widgets/controls",
            "_view_module_version": "1.5.0",
            "_view_name": "HTMLView",
            "description": "",
            "description_tooltip": null,
            "layout": "IPY_MODEL_b2644958b4ff4dce9a2a4416d467736b",
            "placeholder": "​",
            "style": "IPY_MODEL_632891e473ff41f495823f3644bc4f29",
            "value": "model.safetensors: 100%"
          }
        },
        "d0c72c55472f4ffc954e808476f641ec": {
          "model_module": "@jupyter-widgets/controls",
          "model_name": "FloatProgressModel",
          "model_module_version": "1.5.0",
          "state": {
            "_dom_classes": [],
            "_model_module": "@jupyter-widgets/controls",
            "_model_module_version": "1.5.0",
            "_model_name": "FloatProgressModel",
            "_view_count": null,
            "_view_module": "@jupyter-widgets/controls",
            "_view_module_version": "1.5.0",
            "_view_name": "ProgressView",
            "bar_style": "success",
            "description": "",
            "description_tooltip": null,
            "layout": "IPY_MODEL_55098f009029447792782deb8baf26b7",
            "max": 435755784,
            "min": 0,
            "orientation": "horizontal",
            "style": "IPY_MODEL_2aa8137b29e341ff92ef159ad04a5892",
            "value": 435755784
          }
        },
        "edca65ff6fd142c0b06cad44a5052874": {
          "model_module": "@jupyter-widgets/controls",
          "model_name": "HTMLModel",
          "model_module_version": "1.5.0",
          "state": {
            "_dom_classes": [],
            "_model_module": "@jupyter-widgets/controls",
            "_model_module_version": "1.5.0",
            "_model_name": "HTMLModel",
            "_view_count": null,
            "_view_module": "@jupyter-widgets/controls",
            "_view_module_version": "1.5.0",
            "_view_name": "HTMLView",
            "description": "",
            "description_tooltip": null,
            "layout": "IPY_MODEL_c7e36bd2d91a41f28e822906ad1f9472",
            "placeholder": "​",
            "style": "IPY_MODEL_3e5e79a17582444ca03fb812488e65df",
            "value": " 436M/436M [00:01&lt;00:00, 307MB/s]"
          }
        },
        "a2db69a00d6a446d968b769dcd88b682": {
          "model_module": "@jupyter-widgets/base",
          "model_name": "LayoutModel",
          "model_module_version": "1.2.0",
          "state": {
            "_model_module": "@jupyter-widgets/base",
            "_model_module_version": "1.2.0",
            "_model_name": "LayoutModel",
            "_view_count": null,
            "_view_module": "@jupyter-widgets/base",
            "_view_module_version": "1.2.0",
            "_view_name": "LayoutView",
            "align_content": null,
            "align_items": null,
            "align_self": null,
            "border": null,
            "bottom": null,
            "display": null,
            "flex": null,
            "flex_flow": null,
            "grid_area": null,
            "grid_auto_columns": null,
            "grid_auto_flow": null,
            "grid_auto_rows": null,
            "grid_column": null,
            "grid_gap": null,
            "grid_row": null,
            "grid_template_areas": null,
            "grid_template_columns": null,
            "grid_template_rows": null,
            "height": null,
            "justify_content": null,
            "justify_items": null,
            "left": null,
            "margin": null,
            "max_height": null,
            "max_width": null,
            "min_height": null,
            "min_width": null,
            "object_fit": null,
            "object_position": null,
            "order": null,
            "overflow": null,
            "overflow_x": null,
            "overflow_y": null,
            "padding": null,
            "right": null,
            "top": null,
            "visibility": null,
            "width": null
          }
        },
        "b2644958b4ff4dce9a2a4416d467736b": {
          "model_module": "@jupyter-widgets/base",
          "model_name": "LayoutModel",
          "model_module_version": "1.2.0",
          "state": {
            "_model_module": "@jupyter-widgets/base",
            "_model_module_version": "1.2.0",
            "_model_name": "LayoutModel",
            "_view_count": null,
            "_view_module": "@jupyter-widgets/base",
            "_view_module_version": "1.2.0",
            "_view_name": "LayoutView",
            "align_content": null,
            "align_items": null,
            "align_self": null,
            "border": null,
            "bottom": null,
            "display": null,
            "flex": null,
            "flex_flow": null,
            "grid_area": null,
            "grid_auto_columns": null,
            "grid_auto_flow": null,
            "grid_auto_rows": null,
            "grid_column": null,
            "grid_gap": null,
            "grid_row": null,
            "grid_template_areas": null,
            "grid_template_columns": null,
            "grid_template_rows": null,
            "height": null,
            "justify_content": null,
            "justify_items": null,
            "left": null,
            "margin": null,
            "max_height": null,
            "max_width": null,
            "min_height": null,
            "min_width": null,
            "object_fit": null,
            "object_position": null,
            "order": null,
            "overflow": null,
            "overflow_x": null,
            "overflow_y": null,
            "padding": null,
            "right": null,
            "top": null,
            "visibility": null,
            "width": null
          }
        },
        "632891e473ff41f495823f3644bc4f29": {
          "model_module": "@jupyter-widgets/controls",
          "model_name": "DescriptionStyleModel",
          "model_module_version": "1.5.0",
          "state": {
            "_model_module": "@jupyter-widgets/controls",
            "_model_module_version": "1.5.0",
            "_model_name": "DescriptionStyleModel",
            "_view_count": null,
            "_view_module": "@jupyter-widgets/base",
            "_view_module_version": "1.2.0",
            "_view_name": "StyleView",
            "description_width": ""
          }
        },
        "55098f009029447792782deb8baf26b7": {
          "model_module": "@jupyter-widgets/base",
          "model_name": "LayoutModel",
          "model_module_version": "1.2.0",
          "state": {
            "_model_module": "@jupyter-widgets/base",
            "_model_module_version": "1.2.0",
            "_model_name": "LayoutModel",
            "_view_count": null,
            "_view_module": "@jupyter-widgets/base",
            "_view_module_version": "1.2.0",
            "_view_name": "LayoutView",
            "align_content": null,
            "align_items": null,
            "align_self": null,
            "border": null,
            "bottom": null,
            "display": null,
            "flex": null,
            "flex_flow": null,
            "grid_area": null,
            "grid_auto_columns": null,
            "grid_auto_flow": null,
            "grid_auto_rows": null,
            "grid_column": null,
            "grid_gap": null,
            "grid_row": null,
            "grid_template_areas": null,
            "grid_template_columns": null,
            "grid_template_rows": null,
            "height": null,
            "justify_content": null,
            "justify_items": null,
            "left": null,
            "margin": null,
            "max_height": null,
            "max_width": null,
            "min_height": null,
            "min_width": null,
            "object_fit": null,
            "object_position": null,
            "order": null,
            "overflow": null,
            "overflow_x": null,
            "overflow_y": null,
            "padding": null,
            "right": null,
            "top": null,
            "visibility": null,
            "width": null
          }
        },
        "2aa8137b29e341ff92ef159ad04a5892": {
          "model_module": "@jupyter-widgets/controls",
          "model_name": "ProgressStyleModel",
          "model_module_version": "1.5.0",
          "state": {
            "_model_module": "@jupyter-widgets/controls",
            "_model_module_version": "1.5.0",
            "_model_name": "ProgressStyleModel",
            "_view_count": null,
            "_view_module": "@jupyter-widgets/base",
            "_view_module_version": "1.2.0",
            "_view_name": "StyleView",
            "bar_color": null,
            "description_width": ""
          }
        },
        "c7e36bd2d91a41f28e822906ad1f9472": {
          "model_module": "@jupyter-widgets/base",
          "model_name": "LayoutModel",
          "model_module_version": "1.2.0",
          "state": {
            "_model_module": "@jupyter-widgets/base",
            "_model_module_version": "1.2.0",
            "_model_name": "LayoutModel",
            "_view_count": null,
            "_view_module": "@jupyter-widgets/base",
            "_view_module_version": "1.2.0",
            "_view_name": "LayoutView",
            "align_content": null,
            "align_items": null,
            "align_self": null,
            "border": null,
            "bottom": null,
            "display": null,
            "flex": null,
            "flex_flow": null,
            "grid_area": null,
            "grid_auto_columns": null,
            "grid_auto_flow": null,
            "grid_auto_rows": null,
            "grid_column": null,
            "grid_gap": null,
            "grid_row": null,
            "grid_template_areas": null,
            "grid_template_columns": null,
            "grid_template_rows": null,
            "height": null,
            "justify_content": null,
            "justify_items": null,
            "left": null,
            "margin": null,
            "max_height": null,
            "max_width": null,
            "min_height": null,
            "min_width": null,
            "object_fit": null,
            "object_position": null,
            "order": null,
            "overflow": null,
            "overflow_x": null,
            "overflow_y": null,
            "padding": null,
            "right": null,
            "top": null,
            "visibility": null,
            "width": null
          }
        },
        "3e5e79a17582444ca03fb812488e65df": {
          "model_module": "@jupyter-widgets/controls",
          "model_name": "DescriptionStyleModel",
          "model_module_version": "1.5.0",
          "state": {
            "_model_module": "@jupyter-widgets/controls",
            "_model_module_version": "1.5.0",
            "_model_name": "DescriptionStyleModel",
            "_view_count": null,
            "_view_module": "@jupyter-widgets/base",
            "_view_module_version": "1.2.0",
            "_view_name": "StyleView",
            "description_width": ""
          }
        }
      }
    }
  },
  "cells": [
    {
      "cell_type": "markdown",
      "source": [
        "# BERT - Baseline\n",
        "This notebook fine-tunes the bert-based-cased model as a baseline for comparison to the other models trained on a specifc corpus.\n",
        "\n",
        "BERT was trained on the following corpora:\n",
        "\n",
        "*   **BooksCorpus:** 800 million words from 11,000+ unpublished books\n",
        "*   **English Wikipedia:** 2.5 billion words from the entire text from the site\n",
        "\n",
        "This means that BERT not only understands the patterns in diverse writing styles but also a wide understanding of information from many domains.\n",
        "\n",
        "BERT used the following training objectives:\n",
        "\n",
        "*   **Masked Language Model (MLM)**: randomly masked words in a sentence and then tied to predict them; learn bidirectially\n",
        "*   **Next Sentence Predication (NSP)**: predicts whether a given sentence is the next sentence in a text.\n",
        "\n",
        "\n",
        "\n"
      ],
      "metadata": {
        "id": "Oo3BG67GDvvG"
      }
    },
    {
      "cell_type": "markdown",
      "source": [
        "## Imports\n",
        "Versions were provided where possible."
      ],
      "metadata": {
        "id": "_-eolfFTHKWq"
      }
    },
    {
      "cell_type": "code",
      "execution_count": null,
      "metadata": {
        "id": "4Ypt3puujbBT"
      },
      "outputs": [],
      "source": [
        "print(\"Versions of Imports\")\n",
        "print(\"-------------------\")\n",
        "\n",
        "# Data Analysis\n",
        "import numpy as np\n",
        "print(f'Numpy: \\t\\t{np.__version__}')\n",
        "import pandas as pd\n",
        "print(f'Pandas: \\t{pd.__version__}')\n",
        "\n",
        "# TensorFlow\n",
        "import tensorflow as tf\n",
        "print(f'Tensorflow: \\t{tf.__version__}')\n",
        "from tensorflow import keras\n",
        "\n",
        "# HuggingFace\n",
        "from transformers import TFBertForSequenceClassification, BertTokenizer, AdamW\n",
        "from transformers import InputExample, InputFeatures\n",
        "\n",
        "# Scikit Learn - Metrics\n",
        "from sklearn.metrics import classification_report\n",
        "\n",
        "# Visualization\n",
        "import matplotlib.pyplot as plt\n",
        "import seaborn as sns\n",
        "\n",
        "# Google Colab\n",
        "from google.colab import drive"
      ]
    },
    {
      "cell_type": "markdown",
      "source": [
        "## Data\n",
        "The datasets were preprocessed in the EDA notebook and saved as CSVs to my Google Drive. The following block of code mounts to my drive and reads in the data from the three files."
      ],
      "metadata": {
        "id": "52DwwysBHS1b"
      }
    },
    {
      "cell_type": "code",
      "source": [
        "drive.mount('/content/drive')\n",
        "file_path = '/content/drive/MyDrive/Colab Notebooks/'\n",
        "train_df = pd.read_csv(file_path + 'train_df.csv')\n",
        "val_df = pd.read_csv(file_path + 'val_df.csv')\n",
        "test_df = pd.read_csv(file_path + 'test_df.csv')"
      ],
      "metadata": {
        "colab": {
          "base_uri": "https://localhost:8080/"
        },
        "id": "G7i1V1umj53a",
        "outputId": "a948c3e2-690f-4018-fd06-206b768a4144"
      },
      "execution_count": null,
      "outputs": [
        {
          "output_type": "stream",
          "name": "stdout",
          "text": [
            "Mounted at /content/drive\n"
          ]
        }
      ]
    },
    {
      "cell_type": "code",
      "source": [
        "print(train_df.head())\n",
        "print(val_df.head())\n",
        "print(test_df.head())"
      ],
      "metadata": {
        "colab": {
          "base_uri": "https://localhost:8080/"
        },
        "id": "um8aUHIAkKLK",
        "outputId": "161a1c4e-1c0f-41cb-cc72-7e0e8145325b"
      },
      "execution_count": null,
      "outputs": [
        {
          "output_type": "stream",
          "name": "stdout",
          "text": [
            "                                                text labels\n",
            "0  Penquin can encrypt communications using the B...  T1573\n",
            "1  Kimsuky to used modified versions of open sour...  T1505\n",
            "2  FatDuke can use base64 encoding, string stacki...  T1027\n",
            "3  Files and folders that start with a default, ‘...  T1564\n",
            "4  LookBack’s C2 proxy tool sends data to a C2 se...  T1071\n",
            "                                                text labels\n",
            "0  The Azure CLI  also provides an interface to o...  T1087\n",
            "1  Proc memory injection is commonly performed by...  T1055\n",
            "2  SpicyOmelette has collected data and other inf...  T1005\n",
            "3  After Comnie has been copied to the %TEMP% dir...  T1074\n",
            "4  Kernel extensions, also called kext, are used ...  T1547\n",
            "                                                text labels\n",
            "0  Sandworm Team has event logging on compromised...  T1562\n",
            "1  Background From October 2012 to May 2014, Fire...  T1071\n",
            "2  The trap command allows programs and shells to...  T1546\n",
            "3             APT37 obfuscates strings and payloads.  T1027\n",
            "4                                           winlogon  T1547\n"
          ]
        }
      ]
    },
    {
      "cell_type": "markdown",
      "source": [
        "## Hyperparameters\n",
        "This block of code mimics MITRE's TRAM hyperparameters. The learning rate, number of epochs, batch size and max sequence length all match their hyperparameters. The number of classes is slightly reduced from their number of 50 classes. This is a result of the dataset I found on HuggingFace."
      ],
      "metadata": {
        "id": "O07gqMoFHtHA"
      }
    },
    {
      "cell_type": "code",
      "source": [
        "model_name = 'bert-base-cased'\n",
        "num_labels = 44\n",
        "max_length = 512\n",
        "batch_size = 10\n",
        "epochs = 5\n",
        "learning_rate = 2e-5"
      ],
      "metadata": {
        "id": "HpOWUIiLkVhg"
      },
      "execution_count": null,
      "outputs": []
    },
    {
      "cell_type": "markdown",
      "source": [],
      "metadata": {
        "id": "a_D44ugZIYlZ"
      }
    },
    {
      "cell_type": "markdown",
      "source": [
        "## Model Architecture\n",
        "MITRE used the BertForSequenceClassification which is a HuggingFace transformer that includes a classification head (softmax) on top of a pooled output layer. This simplifies the creation of the model and accomplishes the downstream task of performing multiclass classification. All that is needed is the model name and the number of classes which in the case of this experiment is 44."
      ],
      "metadata": {
        "id": "7bSXHw2nIwFh"
      }
    },
    {
      "cell_type": "code",
      "source": [
        "tokenizer = BertTokenizer.from_pretrained(model_name)\n",
        "model = TFBertForSequenceClassification.from_pretrained(model_name,\n",
        "                                                        num_labels=num_labels)"
      ],
      "metadata": {
        "colab": {
          "base_uri": "https://localhost:8080/",
          "height": 266,
          "referenced_widgets": [
            "07fda66670ab4d5187c7fcc95f047cd8",
            "13be6a6fe27f4972bc36e2812e2e6305",
            "91d583b5ff3e4b8c9da754e340975b61",
            "5ceafddd8224484a8f1eb1383910462b",
            "4ae0c4186bc14c49a3fd3c12bb7595bd",
            "64988f2f84a24b5bb9c18d3398a78bb4",
            "71ea3ad7fd5f4c02a17c93ebbfd72212",
            "8178462b04324b4cbe39fa4e40012eae",
            "497fa2c01b8d40589c53e7ffa40cf052",
            "8a42bf6b2f67481b9d7e88c6ca6d2e6a",
            "527e7eca22c74b2585a73df9223e50f9",
            "1f93ab89ce3b4c068e6c12a81b8b8aec",
            "316d5fe292bd438e93cdc1626774a01b",
            "e6264605e4c14f10920977df29bacf23",
            "e76529289b4144ec90131fc0eb93bcf2",
            "fd6dc51f44414c5188ed5fc9d8c40013",
            "fe76e142d9354f918d19ca4bf2793758",
            "6ece00b66bfe4027a22385c24e1e1c44",
            "74ec7e8cb5894a0582869453ba214fa9",
            "61c15dccb85e47a2a5186dfaaaa67ed3",
            "247c59724fb74fe3a14e2bdc3c4792a7",
            "9f5196742a1f48f2bc03e722155a8b23",
            "5ef536313be2440fb92f513e50be1bed",
            "ef14885e95bd467ea5f37d9b9169ea80",
            "79373bc486a64621be90729865388afa",
            "a346b2d2016847dfbceb25d89c3f6bf2",
            "34b3416647584b5aa8dde46c2f16075e",
            "2af762c43f8a4c4fb23ebc5346b971ae",
            "f21792541eb145bca3ce1e1b2675608c",
            "54d885d5538847939d5a2731a5c2f2eb",
            "2fa4150757c34162bc66b0453c527e52",
            "240f95a99c8741f8afdad31c065565ac",
            "4fe1020159e649ceb38066780a897b74",
            "7522b95b0afb4eca9533508dae70c95d",
            "21f9486fca984a9fba1a11900c09bb14",
            "884e379efea84706a2cc299633e9abe8",
            "48966c9613c340278c2aaf693d5563af",
            "7db12bfc20d14dc08cc81a5df195796b",
            "f869651557034e4a8865302407bfb58f",
            "ba79aec1b193495f922d53f32770b62d",
            "cfb12fe12fbe41718b8bebd43f8848cb",
            "ddc343fc29824a5db146d438f0244ad0",
            "942df03b926a49e19e55c77273217f80",
            "66a418cdf4aa4913ae68c0c889818c20",
            "a5548f091acb4699b50049b470029ce4",
            "5ce2c3ead99a42d9848591997b988577",
            "d0c72c55472f4ffc954e808476f641ec",
            "edca65ff6fd142c0b06cad44a5052874",
            "a2db69a00d6a446d968b769dcd88b682",
            "b2644958b4ff4dce9a2a4416d467736b",
            "632891e473ff41f495823f3644bc4f29",
            "55098f009029447792782deb8baf26b7",
            "2aa8137b29e341ff92ef159ad04a5892",
            "c7e36bd2d91a41f28e822906ad1f9472",
            "3e5e79a17582444ca03fb812488e65df"
          ]
        },
        "id": "OIrc_sQVpbDV",
        "outputId": "da620b0e-867c-4727-8608-5f22c809179a"
      },
      "execution_count": null,
      "outputs": [
        {
          "output_type": "display_data",
          "data": {
            "text/plain": [
              "tokenizer_config.json:   0%|          | 0.00/49.0 [00:00<?, ?B/s]"
            ],
            "application/vnd.jupyter.widget-view+json": {
              "version_major": 2,
              "version_minor": 0,
              "model_id": "07fda66670ab4d5187c7fcc95f047cd8"
            }
          },
          "metadata": {}
        },
        {
          "output_type": "display_data",
          "data": {
            "text/plain": [
              "vocab.txt:   0%|          | 0.00/213k [00:00<?, ?B/s]"
            ],
            "application/vnd.jupyter.widget-view+json": {
              "version_major": 2,
              "version_minor": 0,
              "model_id": "1f93ab89ce3b4c068e6c12a81b8b8aec"
            }
          },
          "metadata": {}
        },
        {
          "output_type": "display_data",
          "data": {
            "text/plain": [
              "tokenizer.json:   0%|          | 0.00/436k [00:00<?, ?B/s]"
            ],
            "application/vnd.jupyter.widget-view+json": {
              "version_major": 2,
              "version_minor": 0,
              "model_id": "5ef536313be2440fb92f513e50be1bed"
            }
          },
          "metadata": {}
        },
        {
          "output_type": "display_data",
          "data": {
            "text/plain": [
              "config.json:   0%|          | 0.00/570 [00:00<?, ?B/s]"
            ],
            "application/vnd.jupyter.widget-view+json": {
              "version_major": 2,
              "version_minor": 0,
              "model_id": "7522b95b0afb4eca9533508dae70c95d"
            }
          },
          "metadata": {}
        },
        {
          "output_type": "display_data",
          "data": {
            "text/plain": [
              "model.safetensors:   0%|          | 0.00/436M [00:00<?, ?B/s]"
            ],
            "application/vnd.jupyter.widget-view+json": {
              "version_major": 2,
              "version_minor": 0,
              "model_id": "a5548f091acb4699b50049b470029ce4"
            }
          },
          "metadata": {}
        },
        {
          "output_type": "stream",
          "name": "stderr",
          "text": [
            "All PyTorch model weights were used when initializing TFBertForSequenceClassification.\n",
            "\n",
            "Some weights or buffers of the TF 2.0 model TFBertForSequenceClassification were not initialized from the PyTorch model and are newly initialized: ['classifier.weight', 'classifier.bias']\n",
            "You should probably TRAIN this model on a down-stream task to be able to use it for predictions and inference.\n"
          ]
        }
      ]
    },
    {
      "cell_type": "markdown",
      "source": [
        "## Tokenize and Encode\n",
        "Prepare the text data and labels for TF-based BERT classification. The text data is tokenized and encoded to a uniform length (max_length), and the labels are converted to integer (label_map) tensors to be used as target values during model training and evaluation.\n",
        "\n",
        "The second block of code is necessary to create TF datasets. The training dataset is shuffled to ensure the model doesn't learn any spurious patterns based on the order of the data. Shuffling is not necessary for validation and testing datasets. However, all of the datasets are batched for processing multiple examples in parallel. This is crucial for efficient training and evaluation."
      ],
      "metadata": {
        "id": "_pguILgnN6E1"
      }
    },
    {
      "cell_type": "code",
      "source": [
        "def encode_texts(texts, tokenizer, max_length=max_length):\n",
        "    return tokenizer(\n",
        "        texts.tolist(),\n",
        "        truncation=True,\n",
        "        padding='max_length',\n",
        "        max_length=max_length,\n",
        "        return_tensors='tf'\n",
        "    )\n",
        "\n",
        "# Encode the training, validation, and test sets\n",
        "train_encodings = encode_texts(train_df['text'], tokenizer)\n",
        "val_encodings = encode_texts(val_df['text'], tokenizer)\n",
        "test_encodings = encode_texts(test_df['text'], tokenizer)\n",
        "\n",
        "# Convert labels to integers\n",
        "label_map = {label: idx for idx, label in enumerate(train_df['labels'].unique())}\n",
        "train_labels = tf.convert_to_tensor([label_map[label] for label in train_df['labels']])\n",
        "val_labels = tf.convert_to_tensor([label_map[label] for label in val_df['labels']])\n",
        "test_labels = tf.convert_to_tensor([label_map[label] for label in test_df['labels']])"
      ],
      "metadata": {
        "id": "5mJ9LPyXpLZU"
      },
      "execution_count": null,
      "outputs": []
    },
    {
      "cell_type": "code",
      "source": [
        "train_dataset = tf.data.Dataset.from_tensor_slices((dict(train_encodings),\n",
        "                                                    train_labels))\n",
        "val_dataset = tf.data.Dataset.from_tensor_slices((dict(val_encodings),\n",
        "                                                  val_labels))\n",
        "test_dataset = tf.data.Dataset.from_tensor_slices((dict(test_encodings),\n",
        "                                                   test_labels))\n",
        "\n",
        "train_dataset = train_dataset.shuffle(len(train_df)).batch(batch_size)\n",
        "val_dataset = val_dataset.batch(batch_size)\n",
        "test_dataset = test_dataset.batch(batch_size)"
      ],
      "metadata": {
        "id": "omNbi5drqcfi"
      },
      "execution_count": null,
      "outputs": []
    },
    {
      "cell_type": "markdown",
      "source": [
        "## Optimization, Loss and Evaluation Metric\n",
        "The choice to use Adam for the optimizer instead of AdamW was a technical one. AdamW is an extension of Adam that includes decoupled weight decay regularization. This helps prevent overfitting by adding a penalty to the loss function proportional to the sum of the squared weights. [Loshchilov et. al.](https://arxiv.org/pdf/1711.05101) explains the differences between the two far better than I can here.\n",
        "\n",
        "Basically, I decided to stay with the default value of 0 for the Adam weight decay (L2 regularization) because if I matched the value to the AdamW optimizer I would be impacting the gradients during backpropagation. Since AdamW decouples weight decay from gradiant updates I felt this was the best approach to ensure somewhat of a level playing field.\n",
        "\n",
        "Sparse Categorical Crossentropy is used for multiclass classification tasks where the labels are integers rather than one-hot encoded vectors. The from_logits=True parameter indicates that the model's output is not normalized (i.e., not passed through a softmax function), which is typically the case when using models like BERT that output raw logits.\n",
        "\n",
        "Sparse Categorical Accuracy evaluate the model's performance and is appropriate for multiclass classification tasks with integer labels measuring the percentage of correctly predicted labels.\n",
        "\n",
        "The final step in this code block compiles the model for training by configuring it with the optimizer, loss function and evaluation metric."
      ],
      "metadata": {
        "id": "lGFgBRC1Q3MG"
      }
    },
    {
      "cell_type": "code",
      "source": [
        "optimizer = tf.keras.optimizers.Adam(learning_rate=learning_rate)\n",
        "loss = tf.keras.losses.SparseCategoricalCrossentropy(from_logits=True)\n",
        "metric = tf.keras.metrics.SparseCategoricalAccuracy('accuracy')\n",
        "\n",
        "model.compile(optimizer=optimizer,\n",
        "              loss=loss,\n",
        "              metrics=[metric])"
      ],
      "metadata": {
        "id": "oDwDe7LRSaC6"
      },
      "execution_count": null,
      "outputs": []
    },
    {
      "cell_type": "code",
      "source": [
        "model.summary()"
      ],
      "metadata": {
        "colab": {
          "base_uri": "https://localhost:8080/"
        },
        "id": "-HxltIlfuuA2",
        "outputId": "c2a2095e-6657-490f-c519-ea64368ebd15"
      },
      "execution_count": null,
      "outputs": [
        {
          "output_type": "stream",
          "name": "stdout",
          "text": [
            "Model: \"tf_bert_for_sequence_classification\"\n",
            "_________________________________________________________________\n",
            " Layer (type)                Output Shape              Param #   \n",
            "=================================================================\n",
            " bert (TFBertMainLayer)      multiple                  108310272 \n",
            "                                                                 \n",
            " dropout_37 (Dropout)        multiple                  0 (unused)\n",
            "                                                                 \n",
            " classifier (Dense)          multiple                  33836     \n",
            "                                                                 \n",
            "=================================================================\n",
            "Total params: 108344108 (413.30 MB)\n",
            "Trainable params: 108344108 (413.30 MB)\n",
            "Non-trainable params: 0 (0.00 Byte)\n",
            "_________________________________________________________________\n"
          ]
        }
      ]
    },
    {
      "cell_type": "code",
      "source": [
        "model_history = model.fit(train_dataset,\n",
        "                          validation_data=val_dataset,\n",
        "                          batch_size=batch_size,\n",
        "                          epochs=epochs)"
      ],
      "metadata": {
        "colab": {
          "base_uri": "https://localhost:8080/"
        },
        "id": "4PldSiyZvRVG",
        "outputId": "8f254d32-bcc5-4034-af32-19e23a97ecae"
      },
      "execution_count": null,
      "outputs": [
        {
          "output_type": "stream",
          "name": "stdout",
          "text": [
            "Epoch 1/5\n",
            "1218/1218 [==============================] - 1461s 1s/step - loss: 2.1018 - accuracy: 0.5431 - val_loss: 0.8453 - val_accuracy: 0.8273\n",
            "Epoch 2/5\n",
            "1218/1218 [==============================] - 1421s 1s/step - loss: 0.5742 - accuracy: 0.8770 - val_loss: 0.5192 - val_accuracy: 0.8772\n",
            "Epoch 3/5\n",
            "1218/1218 [==============================] - 1421s 1s/step - loss: 0.2511 - accuracy: 0.9434 - val_loss: 0.4537 - val_accuracy: 0.8871\n",
            "Epoch 4/5\n",
            "1218/1218 [==============================] - 1421s 1s/step - loss: 0.1249 - accuracy: 0.9727 - val_loss: 0.4844 - val_accuracy: 0.8858\n",
            "Epoch 5/5\n",
            "1218/1218 [==============================] - 1421s 1s/step - loss: 0.0767 - accuracy: 0.9839 - val_loss: 0.4412 - val_accuracy: 0.9028\n"
          ]
        }
      ]
    },
    {
      "cell_type": "markdown",
      "source": [
        "This code block was taken and modified from Assignment 2: Text Classification with Various Neural Networks notebook.\n",
        "\n",
        "As you can see from the graphs created below, the training loss appears to be approaching zero suggesting a potential overfitting. However, the validation loss continues to fall, albeit slowly. As you can see in the second cell, the model generalizes well with the test accuracy of 90%."
      ],
      "metadata": {
        "id": "pR-FQ2tLbhKL"
      }
    },
    {
      "cell_type": "code",
      "source": [
        "def make_plot(axs, model_history, model_name='model'):\n",
        "    box = dict(facecolor='yellow', pad=5, alpha=0.2)\n",
        "\n",
        "    for i, metric in enumerate(['loss', 'accuracy']):\n",
        "        y_lim_lower = np.min(model_history.history[metric]) * 0.9\n",
        "        y_lim_upper = np.max(model_history.history[metric]) * 1.1\n",
        "\n",
        "        ax1 = axs[i]\n",
        "        ax1.plot(model_history.history[metric], label='train')\n",
        "        ax1.plot(model_history.history['val_%s' % metric], label='validation')\n",
        "        ax1.set_title('%s - %s' % (metric, model_name))\n",
        "        ax1.set_ylabel(metric, bbox=box)\n",
        "        ax1.set_ylim(y_lim_lower, y_lim_upper)\n",
        "        ax1.legend()\n",
        "\n",
        "fig, axs = plt.subplots(2, 1, figsize=(10, 8))\n",
        "fig.subplots_adjust(left=0.2, wspace=0.6)\n",
        "make_plot(axs, model_history, model_name='BERT - Baseline')\n",
        "fig.align_ylabels(axs)\n",
        "fig.set_size_inches(10, 8)\n",
        "plt.show()\n"
      ],
      "metadata": {
        "colab": {
          "base_uri": "https://localhost:8080/",
          "height": 699
        },
        "id": "dGlLTg9JySjd",
        "outputId": "8749f8d9-18d7-4ac2-8e11-d583a9b18936"
      },
      "execution_count": null,
      "outputs": [
        {
          "output_type": "display_data",
          "data": {
            "text/plain": [
              "<Figure size 1000x800 with 2 Axes>"
            ],
            "image/png": "[encoded data removed]"
          },
          "metadata": {}
        }
      ]
    },
    {
      "cell_type": "code",
      "source": [
        "results = model.evaluate(test_dataset)\n",
        "print(\"Test Loss:\", results[0])\n",
        "print(\"Test Accuracy:\", results[1])"
      ],
      "metadata": {
        "colab": {
          "base_uri": "https://localhost:8080/"
        },
        "id": "-ogMFJEP0UxH",
        "outputId": "96b49fcb-ed44-4992-98f2-04244bfba0d5"
      },
      "execution_count": null,
      "outputs": [
        {
          "output_type": "stream",
          "name": "stdout",
          "text": [
            "153/153 [==============================] - 63s 411ms/step - loss: 0.4388 - accuracy: 0.9048\n",
            "Test Loss: 0.43875497579574585\n",
            "Test Accuracy: 0.9047931432723999\n"
          ]
        }
      ]
    },
    {
      "cell_type": "markdown",
      "source": [
        "## Classification Report\n",
        "Overall accuracy is good but it doesn't show how each class if performing. To get that information we need to use SciKit Learn's Classification Report.\n",
        "\n",
        "In order to get that report we need to get the predictions on the test dataset. These produce the logits for each class. The use of np.argmax is necessary to return the class with the highest probability. Also the test labels need to be converted to a numpy array for use with the Classification Report. These are the ground truth. Finally, label_map is used to return the target class names.\n",
        "\n",
        "All of these are sent as parameters to the Classification Report to find out the model's performance over each of the classes. The precision, recall and F1-score are returned."
      ],
      "metadata": {
        "id": "jImi5aWPgOMu"
      }
    },
    {
      "cell_type": "code",
      "source": [
        "predictions = model.predict(test_dataset)\n",
        "predicted_labels = np.argmax(predictions.logits, axis=1)"
      ],
      "metadata": {
        "colab": {
          "base_uri": "https://localhost:8080/"
        },
        "id": "RAeUjSFWO9K_",
        "outputId": "9c74c273-64cf-4dbb-e3cb-f411cfe73b03"
      },
      "execution_count": null,
      "outputs": [
        {
          "output_type": "stream",
          "name": "stdout",
          "text": [
            "153/153 [==============================] - 65s 409ms/step\n"
          ]
        }
      ]
    },
    {
      "cell_type": "code",
      "source": [
        "true_labels = test_labels.numpy()\n",
        "target_names = list(label_map.keys())"
      ],
      "metadata": {
        "id": "fSr3Le2bPd6_"
      },
      "execution_count": null,
      "outputs": []
    },
    {
      "cell_type": "code",
      "source": [
        "report = classification_report(true_labels,\n",
        "                               predicted_labels,\n",
        "                               target_names=target_names)\n",
        "print(report)"
      ],
      "metadata": {
        "colab": {
          "base_uri": "https://localhost:8080/"
        },
        "id": "rZ2VOYC9PhZm",
        "outputId": "8aa9ee40-2f6b-425d-c8cd-e19f422f352a"
      },
      "execution_count": null,
      "outputs": [
        {
          "output_type": "stream",
          "name": "stdout",
          "text": [
            "              precision    recall  f1-score   support\n",
            "\n",
            "       T1573       0.95      0.90      0.92        20\n",
            "       T1505       0.95      0.98      0.96        42\n",
            "       T1027       0.89      0.89      0.89        47\n",
            "       T1564       0.89      0.80      0.84        20\n",
            "       T1071       0.98      0.93      0.95        45\n",
            "       T1059       0.79      0.85      0.82        53\n",
            "       T1074       0.98      1.00      0.99        45\n",
            "       T1132       0.93      1.00      0.96        40\n",
            "       T1574       0.88      0.68      0.77        22\n",
            "       T1560       0.95      0.95      0.95        40\n",
            "       T1113       0.97      1.00      0.99        36\n",
            "       T1102       0.87      0.93      0.90        43\n",
            "       T1553       0.92      0.71      0.80        31\n",
            "       T1140       0.96      0.83      0.89        29\n",
            "       T1543       0.89      0.94      0.91        17\n",
            "       T1562       0.68      0.86      0.76        22\n",
            "       T1005       0.91      0.91      0.91        55\n",
            "       T1106       0.83      0.96      0.89        46\n",
            "       T1047       0.93      0.95      0.94        44\n",
            "       T1588       0.96      1.00      0.98        50\n",
            "       T1036       0.76      0.78      0.77        36\n",
            "       T1105       0.92      0.97      0.95        37\n",
            "       T1497       0.96      0.96      0.96        45\n",
            "       T1518       0.88      1.00      0.94        30\n",
            "       T1021       0.97      1.00      0.99        38\n",
            "       T1547       0.89      0.89      0.89        47\n",
            "       T1083       0.88      0.70      0.78        30\n",
            "       T1087       0.98      0.90      0.94        50\n",
            "       T1555       0.91      1.00      0.95        31\n",
            "       T1112       0.93      0.93      0.93        61\n",
            "       T1003       0.96      0.81      0.88        31\n",
            "       T1070       0.90      0.85      0.88        41\n",
            "       T1546       0.71      0.65      0.68        23\n",
            "       T1090       0.94      0.94      0.94        36\n",
            "       T1033       0.87      0.93      0.90        28\n",
            "       T1082       0.82      0.80      0.81        35\n",
            "       T1057       0.96      0.96      0.96        24\n",
            "       T1056       0.96      0.96      0.96        24\n",
            "       T1053       0.90      0.95      0.92        19\n",
            "       T1055       0.88      0.96      0.92        23\n",
            "       T1218       0.90      0.75      0.82        24\n",
            "       T1566       0.89      0.89      0.89        18\n",
            "       T1016       1.00      0.91      0.95        23\n",
            "       T1204       0.78      0.82      0.80        22\n",
            "\n",
            "    accuracy                           0.90      1523\n",
            "   macro avg       0.90      0.90      0.90      1523\n",
            "weighted avg       0.91      0.90      0.90      1523\n",
            "\n"
          ]
        }
      ]
    },
    {
      "cell_type": "markdown",
      "source": [],
      "metadata": {
        "id": "92C6AJXSjZMX"
      }
    },
    {
      "cell_type": "code",
      "source": [
        "confusion_mtx = tf.math.confusion_matrix(true_labels, predicted_labels)\n",
        "print(confusion_mtx)"
      ],
      "metadata": {
        "colab": {
          "base_uri": "https://localhost:8080/"
        },
        "id": "KpMPOV65P6Qw",
        "outputId": "cc382da1-b617-40bf-9df3-c8a06fa4c8bd"
      },
      "execution_count": null,
      "outputs": [
        {
          "output_type": "stream",
          "name": "stdout",
          "text": [
            "tf.Tensor(\n",
            "[[18  0  0 ...  0  0  0]\n",
            " [ 0 41  0 ...  0  0  0]\n",
            " [ 0  0 42 ...  0  0  0]\n",
            " ...\n",
            " [ 0  0  0 ... 16  0  2]\n",
            " [ 0  0  0 ...  0 21  0]\n",
            " [ 0  0  0 ...  1  0 18]], shape=(44, 44), dtype=int32)\n"
          ]
        }
      ]
    },
    {
      "cell_type": "code",
      "source": [
        "plt.figure(figsize=(20,20))\n",
        "sns.heatmap(\n",
        "    confusion_mtx, annot=True,\n",
        "    xticklabels=target_names,\n",
        "    yticklabels=target_names)\n",
        "plt.xlabel(\"Predicted\")\n",
        "plt.ylabel(\"True\")"
      ],
      "metadata": {
        "colab": {
          "base_uri": "https://localhost:8080/",
          "height": 1000
        },
        "id": "wB2OY_LcQx03",
        "outputId": "aef91324-e8a7-46f1-c086-8c9d96416d33"
      },
      "execution_count": null,
      "outputs": [
        {
          "output_type": "execute_result",
          "data": {
            "text/plain": [
              "Text(220.72222222222223, 0.5, 'True')"
            ]
          },
          "metadata": {},
          "execution_count": 23
        },
        {
          "output_type": "display_data",
          "data": {
            "text/plain": [
              "<Figure size 2000x2000 with 2 Axes>"
            ],
            "image/png": "[encoded data removed]"
          },
          "metadata": {}
        }
      ]
    }
  ]
}